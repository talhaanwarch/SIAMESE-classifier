{
 "cells": [
  {
   "cell_type": "markdown",
   "id": "47c12e25",
   "metadata": {},
   "source": [
    "# load data"
   ]
  },
  {
   "cell_type": "code",
   "execution_count": 1,
   "id": "aec120e8",
   "metadata": {},
   "outputs": [],
   "source": [
    "from glob import glob\n",
    "import os\n",
    "images=[]\n",
    "labels=[]\n",
    "for folder in os.listdir('../dataset/wrist_xray'):\n",
    "    for pic in glob('../dataset/wrist_xray/{}/*.jpg'.format(folder)):\n",
    "        images.append(pic)\n",
    "        labels.append(folder)\n",
    "        "
   ]
  },
  {
   "cell_type": "code",
   "execution_count": 2,
   "id": "56ce6889",
   "metadata": {},
   "outputs": [
    {
     "data": {
      "text/html": [
       "<div>\n",
       "<style scoped>\n",
       "    .dataframe tbody tr th:only-of-type {\n",
       "        vertical-align: middle;\n",
       "    }\n",
       "\n",
       "    .dataframe tbody tr th {\n",
       "        vertical-align: top;\n",
       "    }\n",
       "\n",
       "    .dataframe thead th {\n",
       "        text-align: right;\n",
       "    }\n",
       "</style>\n",
       "<table border=\"1\" class=\"dataframe\">\n",
       "  <thead>\n",
       "    <tr style=\"text-align: right;\">\n",
       "      <th></th>\n",
       "      <th>img</th>\n",
       "      <th>label</th>\n",
       "    </tr>\n",
       "  </thead>\n",
       "  <tbody>\n",
       "    <tr>\n",
       "      <th>0</th>\n",
       "      <td>../dataset/wrist_xray/Normal\\50.jpg</td>\n",
       "      <td>1</td>\n",
       "    </tr>\n",
       "    <tr>\n",
       "      <th>1</th>\n",
       "      <td>../dataset/wrist_xray/Fracture\\2 Male (A View)...</td>\n",
       "      <td>0</td>\n",
       "    </tr>\n",
       "    <tr>\n",
       "      <th>2</th>\n",
       "      <td>../dataset/wrist_xray/Normal\\41.jpg</td>\n",
       "      <td>1</td>\n",
       "    </tr>\n",
       "    <tr>\n",
       "      <th>3</th>\n",
       "      <td>../dataset/wrist_xray/Fracture\\46 Male (A View...</td>\n",
       "      <td>0</td>\n",
       "    </tr>\n",
       "    <tr>\n",
       "      <th>4</th>\n",
       "      <td>../dataset/wrist_xray/Normal\\68.jpg</td>\n",
       "      <td>1</td>\n",
       "    </tr>\n",
       "  </tbody>\n",
       "</table>\n",
       "</div>"
      ],
      "text/plain": [
       "                                                 img  label\n",
       "0                ../dataset/wrist_xray/Normal\\50.jpg      1\n",
       "1  ../dataset/wrist_xray/Fracture\\2 Male (A View)...      0\n",
       "2                ../dataset/wrist_xray/Normal\\41.jpg      1\n",
       "3  ../dataset/wrist_xray/Fracture\\46 Male (A View...      0\n",
       "4                ../dataset/wrist_xray/Normal\\68.jpg      1"
      ]
     },
     "execution_count": 2,
     "metadata": {},
     "output_type": "execute_result"
    }
   ],
   "source": [
    "import pandas as pd\n",
    "data=pd.DataFrame(zip(images,labels),columns=['img','label'])\n",
    "data.label=data.label.map({'Fracture':0,'Normal':1})\n",
    "data = data.sample(frac=1).reset_index(drop=True)\n",
    "data.head()"
   ]
  },
  {
   "cell_type": "markdown",
   "id": "12d7ab42",
   "metadata": {},
   "source": [
    "# top 5 lightest models in torchvision\n",
    "1\tsqueezenet1_1\t1235496  \n",
    "2\tshufflenet_v2_x0_5\t1366792  \n",
    "3\tmnasnet0_5\t2218512  \n",
    "4\tmobilenet_v2\t3504872  \n",
    "5\tdensenet121\t7978856  `"
   ]
  },
  {
   "cell_type": "code",
   "execution_count": 3,
   "id": "42006988",
   "metadata": {},
   "outputs": [],
   "source": [
    "import sys\n",
    "sys.path.append(\"../src\") "
   ]
  },
  {
   "cell_type": "code",
   "execution_count": 4,
   "id": "72dcde88",
   "metadata": {},
   "outputs": [],
   "source": [
    "from models.squeezenet import squeezenet1_1\n",
    "from models.mymodels import mymodel4\n",
    "from models.shufflenet import shufflenet_v2_x0_5\n",
    "from models.mnastnet import mnasnet0_5\n",
    "from models.densenet import densenet121\n",
    "from models.mobilenet import mobilenet\n",
    "from cross_vals import kfoldcv"
   ]
  },
  {
   "cell_type": "code",
   "execution_count": 5,
   "id": "1de447eb",
   "metadata": {},
   "outputs": [
    {
     "name": "stderr",
     "output_type": "stream",
     "text": [
      "d:\\tutorials\\automl\\venv\\lib\\site-packages\\ipykernel\\ipkernel.py:283: DeprecationWarning: `should_run_async` will not call `transform_cell` automatically in the future. Please pass the result to `transformed_cell` argument and any exception that happen during thetransform in `preprocessing_exc_tuple` in IPython 7.17 and above.\n",
      "  and should_run_async(code)\n"
     ]
    }
   ],
   "source": [
    "def count_parameters(model):\n",
    "    return sum(p.numel() for p in model.parameters() if p.requires_grad)/1e6"
   ]
  },
  {
   "cell_type": "code",
   "execution_count": 6,
   "id": "9f463a96",
   "metadata": {},
   "outputs": [
    {
     "name": "stdout",
     "output_type": "stream",
     "text": [
      "MyNet parameters : 0.391408\n",
      "SqueezeNet parameters : 0.787008\n",
      "ShuffleNet parameters : 0.47256\n",
      "MnastNet parameters : 1.101192\n",
      "MobileNet parameters : 2.387264\n",
      "DenseNet parameters : 7.078784\n"
     ]
    }
   ],
   "source": [
    "print('MyNet parameters :' ,count_parameters(mymodel4()))\n",
    "print('SqueezeNet parameters :', count_parameters(squeezenet1_1()))\n",
    "print('ShuffleNet parameters :', count_parameters(shufflenet_v2_x0_5()))\n",
    "print('MnastNet parameters :', count_parameters(mnasnet0_5()))\n",
    "print('MobileNet parameters :', count_parameters(mobilenet()))\n",
    "print('DenseNet parameters :', count_parameters(densenet121()))\n"
   ]
  },
  {
   "cell_type": "code",
   "execution_count": 7,
   "id": "e160e3af",
   "metadata": {},
   "outputs": [],
   "source": [
    "epoch=32\n",
    "batchsize=8\n",
    "lr=0.001"
   ]
  },
  {
   "cell_type": "markdown",
   "id": "bf941d30",
   "metadata": {},
   "source": [
    "dim='3D' or '2D' for 3D images and 2D iamges\n",
    "skip_tuning=False, no grid search applied for hyper-parameter tuning, \n",
    "aug=1-> pytorch augmentation\n",
    "aug=0-> no augmentation\n",
    "aug=2-> albumentation augmentation\n",
    "aug=3-> rand augmentation"
   ]
  },
  {
   "cell_type": "markdown",
   "id": "f48d456b",
   "metadata": {},
   "source": [
    "# MyNet"
   ]
  },
  {
   "cell_type": "code",
   "execution_count": 8,
   "id": "6d710437",
   "metadata": {},
   "outputs": [
    {
     "name": "stdout",
     "output_type": "stream",
     "text": [
      "------------------ Decision Tree ----------------\n",
      "          precision  recall  f1-score\n",
      "Class 0       0.872   0.782     0.820\n",
      "Class 1       0.750   0.836     0.786\n",
      "macro         0.810   0.812     0.804\n",
      "weighted      0.820   0.810     0.806\n",
      "------------------ SVM ----------------\n",
      "          precision  recall  f1-score\n",
      "Class 0       0.884   0.836     0.858\n",
      "Class 1       0.800   0.852     0.822\n",
      "macro         0.842   0.844     0.840\n",
      "weighted      0.850   0.846     0.844\n",
      "------------------ logistic regression ----------------\n",
      "          precision  recall  f1-score\n",
      "Class 0       0.874   0.828     0.848\n",
      "Class 1       0.790   0.840     0.810\n",
      "macro         0.834   0.834     0.830\n",
      "weighted      0.842   0.836     0.836\n",
      "------------------ K Nearest neighbors ----------------\n",
      "          precision  recall  f1-score\n",
      "Class 0       0.896   0.864     0.880\n",
      "Class 1       0.822   0.866     0.844\n",
      "macro         0.858   0.862     0.860\n",
      "weighted      0.864   0.864     0.864\n",
      "--------------------------Accuracy Table-----------------------------------\n",
      "Wall time: 12min 8s\n"
     ]
    },
    {
     "data": {
      "text/html": [
       "<div>\n",
       "<style scoped>\n",
       "    .dataframe tbody tr th:only-of-type {\n",
       "        vertical-align: middle;\n",
       "    }\n",
       "\n",
       "    .dataframe tbody tr th {\n",
       "        vertical-align: top;\n",
       "    }\n",
       "\n",
       "    .dataframe thead th {\n",
       "        text-align: right;\n",
       "    }\n",
       "</style>\n",
       "<table border=\"1\" class=\"dataframe\">\n",
       "  <thead>\n",
       "    <tr style=\"text-align: right;\">\n",
       "      <th></th>\n",
       "      <th>DT</th>\n",
       "      <th>SVM</th>\n",
       "      <th>LR</th>\n",
       "      <th>KNN</th>\n",
       "      <th>ML</th>\n",
       "    </tr>\n",
       "  </thead>\n",
       "  <tbody>\n",
       "    <tr>\n",
       "      <th>0</th>\n",
       "      <td>0.87</td>\n",
       "      <td>0.92</td>\n",
       "      <td>0.90</td>\n",
       "      <td>0.92</td>\n",
       "      <td>0.95</td>\n",
       "    </tr>\n",
       "    <tr>\n",
       "      <th>1</th>\n",
       "      <td>0.72</td>\n",
       "      <td>0.77</td>\n",
       "      <td>0.77</td>\n",
       "      <td>0.79</td>\n",
       "      <td>0.79</td>\n",
       "    </tr>\n",
       "    <tr>\n",
       "      <th>2</th>\n",
       "      <td>0.82</td>\n",
       "      <td>0.85</td>\n",
       "      <td>0.85</td>\n",
       "      <td>0.90</td>\n",
       "      <td>0.90</td>\n",
       "    </tr>\n",
       "    <tr>\n",
       "      <th>3</th>\n",
       "      <td>0.82</td>\n",
       "      <td>0.87</td>\n",
       "      <td>0.84</td>\n",
       "      <td>0.87</td>\n",
       "      <td>0.87</td>\n",
       "    </tr>\n",
       "    <tr>\n",
       "      <th>4</th>\n",
       "      <td>0.82</td>\n",
       "      <td>0.82</td>\n",
       "      <td>0.82</td>\n",
       "      <td>0.84</td>\n",
       "      <td>0.84</td>\n",
       "    </tr>\n",
       "    <tr>\n",
       "      <th>mean</th>\n",
       "      <td>0.81</td>\n",
       "      <td>0.846</td>\n",
       "      <td>0.836</td>\n",
       "      <td>0.864</td>\n",
       "      <td>0.87</td>\n",
       "    </tr>\n",
       "  </tbody>\n",
       "</table>\n",
       "</div>"
      ],
      "text/plain": [
       "        DT    SVM     LR    KNN    ML\n",
       "0     0.87   0.92   0.90   0.92  0.95\n",
       "1     0.72   0.77   0.77   0.79  0.79\n",
       "2     0.82   0.85   0.85   0.90  0.90\n",
       "3     0.82   0.87   0.84   0.87  0.87\n",
       "4     0.82   0.82   0.82   0.84  0.84\n",
       "mean  0.81  0.846  0.836  0.864  0.87"
      ]
     },
     "execution_count": 8,
     "metadata": {},
     "output_type": "execute_result"
    }
   ],
   "source": [
    "%%time\n",
    "train_cv,clf_report=kfoldcv(model=mymodel4(),epochs=epoch,batchsize=batchsize,data=data,\\\n",
    "                            lr=0.001,skip_tuning=False,aug=1,dim='2D',pca=False)\n",
    "for clf in ['Decision Tree','SVM',\"logistic regression\",'K Nearest neighbors']:\n",
    "    print('------------------',clf,'----------------')\n",
    "    print(clf_report[0][clf][0])\n",
    "    \n",
    "print('--------------------------Accuracy Table-----------------------------------')\n",
    "clf_report[1]"
   ]
  },
  {
   "cell_type": "code",
   "execution_count": null,
   "id": "b71928ef",
   "metadata": {},
   "outputs": [],
   "source": [
    "%%time\n",
    "train_cv,clf_report=kfoldcv(model=mymodel4(),epochs=epoch,batchsize=batchsize,data=data,lr=0.001,skip_tuning=False,aug=0)\n",
    "for clf in ['Decision Tree','SVM',\"logistic regression\",'K Nearest neighbors']:\n",
    "    print('------------------',clf,'----------------')\n",
    "    print(clf_report[0][clf][0])\n",
    "    \n",
    "print('--------------------------Accuracy Table-----------------------------------')\n",
    "clf_report[1]"
   ]
  },
  {
   "cell_type": "code",
   "execution_count": null,
   "id": "49dc9d9e",
   "metadata": {},
   "outputs": [],
   "source": []
  },
  {
   "cell_type": "markdown",
   "id": "da8322d6",
   "metadata": {},
   "source": [
    "# SqueezeNet"
   ]
  },
  {
   "cell_type": "code",
   "execution_count": null,
   "id": "6331af1e",
   "metadata": {},
   "outputs": [],
   "source": [
    "%%time\n",
    "train_cv,clf_report=kfoldcv(model=squeezenet1_1(),epochs=epoch,batchsize=batchsize,data=data,lr=0.001,skip_tuning=False,aug=1)\n",
    "for clf in ['Decision Tree','SVM',\"logistic regression\",'K Nearest neighbors']:\n",
    "    print('------------------',clf,'----------------')\n",
    "    print(clf_report[0][clf][0])\n",
    "    \n",
    "print('--------------------------Accuracy Table-----------------------------------')\n",
    "clf_report[1]"
   ]
  },
  {
   "cell_type": "code",
   "execution_count": null,
   "id": "d4380cc4",
   "metadata": {},
   "outputs": [],
   "source": [
    "%%time\n",
    "train_cv,clf_report=kfoldcv(model=squeezenet1_1(),epochs=epoch,batchsize=batchsize,data=data,lr=0.001,skip_tuning=False,aug=0)\n",
    "for clf in ['Decision Tree','SVM',\"logistic regression\",'K Nearest neighbors']:\n",
    "    print('------------------',clf,'----------------')\n",
    "    print(clf_report[0][clf][0])\n",
    "    \n",
    "print('--------------------------Accuracy Table-----------------------------------')\n",
    "clf_report[1]"
   ]
  },
  {
   "cell_type": "markdown",
   "id": "e5f37be0",
   "metadata": {},
   "source": [
    "# ShuffleNet"
   ]
  },
  {
   "cell_type": "code",
   "execution_count": null,
   "id": "c399ed15",
   "metadata": {},
   "outputs": [],
   "source": [
    "%%time\n",
    "train_cv,clf_report=kfoldcv(model=shufflenet_v2_x0_5(),epochs=epoch,batchsize=batchsize,data=data,lr=0.001,skip_tuning=False,aug=1)\n",
    "for clf in ['Decision Tree','SVM',\"logistic regression\",'K Nearest neighbors']:\n",
    "    print('------------------',clf,'----------------')\n",
    "    print(clf_report[0][clf][0])\n",
    "    \n",
    "print('--------------------------Accuracy Table-----------------------------------')\n",
    "clf_report[1]"
   ]
  },
  {
   "cell_type": "code",
   "execution_count": null,
   "id": "ff0ff5f3",
   "metadata": {},
   "outputs": [],
   "source": [
    "%%time\n",
    "train_cv,clf_report=kfoldcv(model=shufflenet_v2_x0_5(),epochs=epoch,batchsize=batchsize,data=data,lr=0.001,skip_tuning=False,aug=0)\n",
    "for clf in ['Decision Tree','SVM',\"logistic regression\",'K Nearest neighbors']:\n",
    "    print('------------------',clf,'----------------')\n",
    "    print(clf_report[0][clf][0])\n",
    "    \n",
    "print('--------------------------Accuracy Table-----------------------------------')\n",
    "clf_report[1]"
   ]
  },
  {
   "cell_type": "markdown",
   "id": "0f0db5ec",
   "metadata": {},
   "source": [
    "# Mnasnet"
   ]
  },
  {
   "cell_type": "code",
   "execution_count": null,
   "id": "57ccb8b0",
   "metadata": {},
   "outputs": [],
   "source": [
    "%%time\n",
    "train_cv,clf_report=kfoldcv(model=mnasnet0_5(),epochs=epoch,batchsize=batchsize,data=data,lr=0.001,skip_tuning=False,aug=1)\n",
    "for clf in ['Decision Tree','SVM',\"logistic regression\",'K Nearest neighbors']:\n",
    "    print('------------------',clf,'----------------')\n",
    "    print(clf_report[0][clf][0])\n",
    "    \n",
    "print('--------------------------Accuracy Table-----------------------------------')\n",
    "clf_report[1]"
   ]
  },
  {
   "cell_type": "code",
   "execution_count": null,
   "id": "715c9bec",
   "metadata": {},
   "outputs": [],
   "source": [
    "%%time\n",
    "train_cv,clf_report=kfoldcv(model=mnasnet0_5(),epochs=epoch,batchsize=batchsize,data=data,lr=0.001,skip_tuning=False,aug=0)\n",
    "for clf in ['Decision Tree','SVM',\"logistic regression\",'K Nearest neighbors']:\n",
    "    print('------------------',clf,'----------------')\n",
    "    print(clf_report[0][clf][0])\n",
    "    \n",
    "print('--------------------------Accuracy Table-----------------------------------')\n",
    "clf_report[1]"
   ]
  },
  {
   "cell_type": "markdown",
   "id": "a388c4a2",
   "metadata": {},
   "source": [
    "# MobileNet"
   ]
  },
  {
   "cell_type": "code",
   "execution_count": null,
   "id": "6c18e7b2",
   "metadata": {},
   "outputs": [],
   "source": [
    "%%time\n",
    "train_cv,clf_report=kfoldcv(model=mobilenet(),epochs=epoch,batchsize=batchsize,data=data,lr=0.001,skip_tuning=False,aug=1)\n",
    "for clf in ['Decision Tree','SVM',\"logistic regression\",'K Nearest neighbors']:\n",
    "    print('------------------',clf,'----------------')\n",
    "    print(clf_report[0][clf][0])\n",
    "    \n",
    "print('--------------------------Accuracy Table-----------------------------------')\n",
    "clf_report[1]"
   ]
  },
  {
   "cell_type": "code",
   "execution_count": null,
   "id": "324acced",
   "metadata": {},
   "outputs": [],
   "source": [
    "%%time\n",
    "train_cv,clf_report=kfoldcv(model=mobilenet(),epochs=epoch,batchsize=batchsize,data=data,lr=0.001,skip_tuning=False,aug=0)\n",
    "for clf in ['Decision Tree','SVM',\"logistic regression\",'K Nearest neighbors']:\n",
    "    print('------------------',clf,'----------------')\n",
    "    print(clf_report[0][clf][0])\n",
    "    \n",
    "print('--------------------------Accuracy Table-----------------------------------')\n",
    "clf_report[1]"
   ]
  },
  {
   "cell_type": "markdown",
   "id": "06a3a909",
   "metadata": {},
   "source": [
    "# DenseNet121"
   ]
  },
  {
   "cell_type": "code",
   "execution_count": null,
   "id": "76b39578",
   "metadata": {},
   "outputs": [],
   "source": [
    "%%time\n",
    "train_cv,clf_report=kfoldcv(model=densenet121(),epochs=epoch,batchsize=batchsize,data=data,lr=0.001,skip_tuning=False,aug=1)\n",
    "for clf in ['Decision Tree','SVM',\"logistic regression\",'K Nearest neighbors']:\n",
    "    print('------------------',clf,'----------------')\n",
    "    print(clf_report[0][clf][0])\n",
    "    \n",
    "print('--------------------------Accuracy Table-----------------------------------')\n",
    "clf_report[1]"
   ]
  },
  {
   "cell_type": "code",
   "execution_count": null,
   "id": "e517b691",
   "metadata": {},
   "outputs": [],
   "source": [
    "%%time\n",
    "train_cv,clf_report=kfoldcv(model=densenet121(),epochs=epoch,batchsize=batchsize,data=data,lr=0.001,skip_tuning=False,aug=0)\n",
    "for clf in ['Decision Tree','SVM',\"logistic regression\",'K Nearest neighbors']:\n",
    "    print('------------------',clf,'----------------')\n",
    "    print(clf_report[0][clf][0])\n",
    "    \n",
    "print('--------------------------Accuracy Table-----------------------------------')\n",
    "clf_report[1]"
   ]
  },
  {
   "cell_type": "code",
   "execution_count": null,
   "id": "5083d50b",
   "metadata": {},
   "outputs": [],
   "source": []
  }
 ],
 "metadata": {
  "kernelspec": {
   "display_name": "Python 3",
   "language": "python",
   "name": "python3"
  },
  "language_info": {
   "codemirror_mode": {
    "name": "ipython",
    "version": 3
   },
   "file_extension": ".py",
   "mimetype": "text/x-python",
   "name": "python",
   "nbconvert_exporter": "python",
   "pygments_lexer": "ipython3",
   "version": "3.8.5"
  }
 },
 "nbformat": 4,
 "nbformat_minor": 5
}
