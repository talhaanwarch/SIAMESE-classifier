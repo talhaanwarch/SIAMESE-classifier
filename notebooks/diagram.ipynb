{
 "cells": [
  {
   "cell_type": "code",
   "execution_count": 1,
   "metadata": {},
   "outputs": [],
   "source": [
    "import sys\n",
    "sys.path.append(\"../src\") \n",
    "from models.mymodels import mymodel4,mymodel3\n",
    "import hiddenlayer as hl"
   ]
  },
  {
   "cell_type": "code",
   "execution_count": 2,
   "metadata": {},
   "outputs": [],
   "source": [
    "model=mymodel3()"
   ]
  },
  {
   "cell_type": "code",
   "execution_count": 3,
   "metadata": {},
   "outputs": [
    {
     "name": "stderr",
     "output_type": "stream",
     "text": [
      "C:\\Anaconda3\\lib\\site-packages\\torch\\onnx\\symbolic_helper.py:443: UserWarning: ONNX export mode is set to inference mode, but operator batch_norm is set to training  mode. The model will be exported in inference, as specified by the export mode.\n",
      "  warnings.warn(\"ONNX export mode is set to \" + training_mode +\n"
     ]
    },
    {
     "ename": "ModuleNotFoundError",
     "evalue": "No module named 'graphviz'",
     "output_type": "error",
     "traceback": [
      "\u001b[1;31m---------------------------------------------------------------------------\u001b[0m",
      "\u001b[1;31mModuleNotFoundError\u001b[0m                       Traceback (most recent call last)",
      "\u001b[1;32mC:\\Anaconda3\\lib\\site-packages\\IPython\\core\\formatters.py\u001b[0m in \u001b[0;36m__call__\u001b[1;34m(self, obj)\u001b[0m\n\u001b[0;32m    343\u001b[0m             \u001b[0mmethod\u001b[0m \u001b[1;33m=\u001b[0m \u001b[0mget_real_method\u001b[0m\u001b[1;33m(\u001b[0m\u001b[0mobj\u001b[0m\u001b[1;33m,\u001b[0m \u001b[0mself\u001b[0m\u001b[1;33m.\u001b[0m\u001b[0mprint_method\u001b[0m\u001b[1;33m)\u001b[0m\u001b[1;33m\u001b[0m\u001b[1;33m\u001b[0m\u001b[0m\n\u001b[0;32m    344\u001b[0m             \u001b[1;32mif\u001b[0m \u001b[0mmethod\u001b[0m \u001b[1;32mis\u001b[0m \u001b[1;32mnot\u001b[0m \u001b[1;32mNone\u001b[0m\u001b[1;33m:\u001b[0m\u001b[1;33m\u001b[0m\u001b[1;33m\u001b[0m\u001b[0m\n\u001b[1;32m--> 345\u001b[1;33m                 \u001b[1;32mreturn\u001b[0m \u001b[0mmethod\u001b[0m\u001b[1;33m(\u001b[0m\u001b[1;33m)\u001b[0m\u001b[1;33m\u001b[0m\u001b[1;33m\u001b[0m\u001b[0m\n\u001b[0m\u001b[0;32m    346\u001b[0m             \u001b[1;32mreturn\u001b[0m \u001b[1;32mNone\u001b[0m\u001b[1;33m\u001b[0m\u001b[1;33m\u001b[0m\u001b[0m\n\u001b[0;32m    347\u001b[0m         \u001b[1;32melse\u001b[0m\u001b[1;33m:\u001b[0m\u001b[1;33m\u001b[0m\u001b[1;33m\u001b[0m\u001b[0m\n",
      "\u001b[1;32mC:\\Anaconda3\\lib\\site-packages\\hiddenlayer\\graph.py\u001b[0m in \u001b[0;36m_repr_svg_\u001b[1;34m(self)\u001b[0m\n\u001b[0;32m    357\u001b[0m     \u001b[1;32mdef\u001b[0m \u001b[0m_repr_svg_\u001b[0m\u001b[1;33m(\u001b[0m\u001b[0mself\u001b[0m\u001b[1;33m)\u001b[0m\u001b[1;33m:\u001b[0m\u001b[1;33m\u001b[0m\u001b[1;33m\u001b[0m\u001b[0m\n\u001b[0;32m    358\u001b[0m         \u001b[1;34m\"\"\"Allows Jupyter notebook to render the graph automatically.\"\"\"\u001b[0m\u001b[1;33m\u001b[0m\u001b[1;33m\u001b[0m\u001b[0m\n\u001b[1;32m--> 359\u001b[1;33m         \u001b[1;32mreturn\u001b[0m \u001b[0mself\u001b[0m\u001b[1;33m.\u001b[0m\u001b[0mbuild_dot\u001b[0m\u001b[1;33m(\u001b[0m\u001b[1;33m)\u001b[0m\u001b[1;33m.\u001b[0m\u001b[0m_repr_svg_\u001b[0m\u001b[1;33m(\u001b[0m\u001b[1;33m)\u001b[0m\u001b[1;33m\u001b[0m\u001b[1;33m\u001b[0m\u001b[0m\n\u001b[0m\u001b[0;32m    360\u001b[0m \u001b[1;33m\u001b[0m\u001b[0m\n\u001b[0;32m    361\u001b[0m     \u001b[1;32mdef\u001b[0m \u001b[0msave\u001b[0m\u001b[1;33m(\u001b[0m\u001b[0mself\u001b[0m\u001b[1;33m,\u001b[0m \u001b[0mpath\u001b[0m\u001b[1;33m,\u001b[0m \u001b[0mformat\u001b[0m\u001b[1;33m=\u001b[0m\u001b[1;34m\"pdf\"\u001b[0m\u001b[1;33m)\u001b[0m\u001b[1;33m:\u001b[0m\u001b[1;33m\u001b[0m\u001b[1;33m\u001b[0m\u001b[0m\n",
      "\u001b[1;32mC:\\Anaconda3\\lib\\site-packages\\hiddenlayer\\graph.py\u001b[0m in \u001b[0;36mbuild_dot\u001b[1;34m(self)\u001b[0m\n\u001b[0;32m    314\u001b[0m         \u001b[0mReturns\u001b[0m \u001b[0ma\u001b[0m \u001b[0mGraphViz\u001b[0m \u001b[0mDigraph\u001b[0m \u001b[0mobject\u001b[0m\u001b[1;33m.\u001b[0m\u001b[1;33m\u001b[0m\u001b[1;33m\u001b[0m\u001b[0m\n\u001b[0;32m    315\u001b[0m         \"\"\"\n\u001b[1;32m--> 316\u001b[1;33m         \u001b[1;32mfrom\u001b[0m \u001b[0mgraphviz\u001b[0m \u001b[1;32mimport\u001b[0m \u001b[0mDigraph\u001b[0m\u001b[1;33m\u001b[0m\u001b[1;33m\u001b[0m\u001b[0m\n\u001b[0m\u001b[0;32m    317\u001b[0m \u001b[1;33m\u001b[0m\u001b[0m\n\u001b[0;32m    318\u001b[0m         \u001b[1;31m# Build GraphViz Digraph\u001b[0m\u001b[1;33m\u001b[0m\u001b[1;33m\u001b[0m\u001b[1;33m\u001b[0m\u001b[0m\n",
      "\u001b[1;31mModuleNotFoundError\u001b[0m: No module named 'graphviz'"
     ]
    },
    {
     "data": {
      "text/plain": [
       "<hiddenlayer.graph.Graph at 0x266ffa91f40>"
      ]
     },
     "execution_count": 3,
     "metadata": {},
     "output_type": "execute_result"
    }
   ],
   "source": [
    "import torch\n",
    "transforms = [\n",
    "    # Fold Conv, BN, RELU layers into one\n",
    "    hl.transforms.Fold(\"Conv > MaxPool > LeakyRelu >BatchNorm\", \"ConvMaxPoolRelu\"),\n",
    "\n",
    "    # Fold bottleneck blocks\n",
    "    hl.transforms.Fold(\n",
    "        \"\"\"Conv > LeakyRelu  > (Conv | Conv) > Concat > LeakyRelu \"\"\"\n",
    "       , \"Fire Block\", \"Fire Block\"),\n",
    "    # Fold residual blocks\n",
    "    hl.transforms.Fold(\"\"\"Conv > LeakyRelu\"\"\",\n",
    "                       \"Conv1x1\", \"Conv1x1\"),\n",
    "    # Fold repeated blocks\n",
    "    hl.transforms.FoldDuplicates(),\n",
    "]\n",
    "\n",
    "hl.build_graph(model, torch.zeros([1, 1, 224, 224]),transforms=transforms)\n"
   ]
  },
  {
   "cell_type": "code",
   "execution_count": 4,
   "metadata": {},
   "outputs": [
    {
     "name": "stdout",
     "output_type": "stream",
     "text": [
      "----------------------------------------------------------------\n",
      "        Layer (type)               Output Shape         Param #\n",
      "================================================================\n",
      "            Conv2d-1         [-1, 32, 111, 111]             320\n",
      "         MaxPool2d-2           [-1, 32, 55, 55]               0\n",
      "         LeakyReLU-3           [-1, 32, 55, 55]               0\n",
      "       BatchNorm2d-4           [-1, 32, 55, 55]              64\n",
      "            Conv2d-5           [-1, 16, 55, 55]             528\n",
      "         LeakyReLU-6           [-1, 16, 55, 55]               0\n",
      "            Conv2d-7           [-1, 32, 55, 55]             544\n",
      "            Conv2d-8           [-1, 32, 55, 55]           4,640\n",
      "         LeakyReLU-9           [-1, 64, 55, 55]               0\n",
      "            Fire1-10           [-1, 64, 55, 55]               0\n",
      "           Conv2d-11           [-1, 16, 55, 55]           1,040\n",
      "        LeakyReLU-12           [-1, 16, 55, 55]               0\n",
      "           Conv2d-13           [-1, 64, 55, 55]           1,088\n",
      "           Conv2d-14           [-1, 64, 55, 55]           9,280\n",
      "        LeakyReLU-15          [-1, 128, 55, 55]               0\n",
      "            Fire1-16          [-1, 128, 55, 55]               0\n",
      "        MaxPool2d-17          [-1, 128, 27, 27]               0\n",
      "           Conv2d-18           [-1, 32, 27, 27]           4,128\n",
      "        LeakyReLU-19           [-1, 32, 27, 27]               0\n",
      "           Conv2d-20           [-1, 96, 27, 27]           3,168\n",
      "           Conv2d-21           [-1, 96, 27, 27]          27,744\n",
      "        LeakyReLU-22          [-1, 192, 27, 27]               0\n",
      "            Fire1-23          [-1, 192, 27, 27]               0\n",
      "           Conv2d-24           [-1, 32, 27, 27]           6,176\n",
      "        LeakyReLU-25           [-1, 32, 27, 27]               0\n",
      "           Conv2d-26          [-1, 128, 27, 27]           4,224\n",
      "           Conv2d-27          [-1, 128, 27, 27]          36,992\n",
      "        LeakyReLU-28          [-1, 256, 27, 27]               0\n",
      "            Fire1-29          [-1, 256, 27, 27]               0\n",
      "        MaxPool2d-30          [-1, 256, 13, 13]               0\n",
      "           Conv2d-31           [-1, 48, 13, 13]          12,336\n",
      "        LeakyReLU-32           [-1, 48, 13, 13]               0\n",
      "           Conv2d-33          [-1, 160, 13, 13]           7,840\n",
      "           Conv2d-34          [-1, 160, 13, 13]          69,280\n",
      "        LeakyReLU-35          [-1, 320, 13, 13]               0\n",
      "            Fire1-36          [-1, 320, 13, 13]               0\n",
      "           Conv2d-37           [-1, 48, 13, 13]          15,408\n",
      "        LeakyReLU-38           [-1, 48, 13, 13]               0\n",
      "           Conv2d-39          [-1, 160, 13, 13]           7,840\n",
      "           Conv2d-40          [-1, 160, 13, 13]          69,280\n",
      "        LeakyReLU-41          [-1, 320, 13, 13]               0\n",
      "            Fire1-42          [-1, 320, 13, 13]               0\n",
      "           Conv2d-43            [-1, 256, 7, 7]          82,176\n",
      "        LeakyReLU-44            [-1, 256, 7, 7]               0\n",
      "           Conv2d-45             [-1, 32, 7, 7]           8,224\n",
      "        LeakyReLU-46             [-1, 32, 7, 7]               0\n",
      "           Conv2d-47             [-1, 16, 7, 7]             528\n",
      "        LeakyReLU-48             [-1, 16, 7, 7]               0\n",
      "          Flatten-49                  [-1, 784]               0\n",
      "           Linear-50                 [-1, 1000]         785,000\n",
      "================================================================\n",
      "Total params: 1,157,848\n",
      "Trainable params: 1,157,848\n",
      "Non-trainable params: 0\n",
      "----------------------------------------------------------------\n",
      "Input size (MB): 0.19\n",
      "Forward/backward pass size (MB): 32.19\n",
      "Params size (MB): 4.42\n",
      "Estimated Total Size (MB): 36.80\n",
      "----------------------------------------------------------------\n"
     ]
    }
   ],
   "source": [
    "from torchsummary import summary\n",
    "summary(model.to('cuda'), (1, 224, 224))"
   ]
  },
  {
   "cell_type": "code",
   "execution_count": null,
   "metadata": {},
   "outputs": [],
   "source": [
    "import torch\n",
    "transforms = [\n",
    "    # Fold Conv, BN, RELU layers into one\n",
    "\n",
    "   \n",
    "    # Fold repeated blocks\n",
    "    hl.transforms.FoldDuplicates(),\n",
    "]\n",
    "\n",
    "hl.build_graph(model, torch.zeros([1, 1, 224, 224]).to('cuda'),transforms=transforms)\n"
   ]
  },
  {
   "cell_type": "code",
   "execution_count": null,
   "metadata": {},
   "outputs": [],
   "source": []
  }
 ],
 "metadata": {
  "kernelspec": {
   "display_name": "Python 3",
   "language": "python",
   "name": "python3"
  },
  "language_info": {
   "codemirror_mode": {
    "name": "ipython",
    "version": 3
   },
   "file_extension": ".py",
   "mimetype": "text/x-python",
   "name": "python",
   "nbconvert_exporter": "python",
   "pygments_lexer": "ipython3",
   "version": "3.8.8"
  }
 },
 "nbformat": 4,
 "nbformat_minor": 4
}
