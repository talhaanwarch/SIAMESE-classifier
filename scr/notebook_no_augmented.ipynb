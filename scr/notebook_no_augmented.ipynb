{
 "cells": [
  {
   "cell_type": "markdown",
   "id": "proof-census",
   "metadata": {},
   "source": [
    "# load data"
   ]
  },
  {
   "cell_type": "code",
   "execution_count": 1,
   "id": "imposed-electron",
   "metadata": {},
   "outputs": [],
   "source": [
    "from glob import glob\n",
    "import os\n",
    "images=[]\n",
    "labels=[]\n",
    "for folder in os.listdir('../dataset'):\n",
    "    for pic in glob('../dataset/{}/*.jpg'.format(folder)):\n",
    "        images.append(pic)\n",
    "        labels.append(folder)\n",
    "        "
   ]
  },
  {
   "cell_type": "code",
   "execution_count": 2,
   "id": "engaged-harassment",
   "metadata": {},
   "outputs": [
    {
     "data": {
      "text/html": [
       "<div>\n",
       "<style scoped>\n",
       "    .dataframe tbody tr th:only-of-type {\n",
       "        vertical-align: middle;\n",
       "    }\n",
       "\n",
       "    .dataframe tbody tr th {\n",
       "        vertical-align: top;\n",
       "    }\n",
       "\n",
       "    .dataframe thead th {\n",
       "        text-align: right;\n",
       "    }\n",
       "</style>\n",
       "<table border=\"1\" class=\"dataframe\">\n",
       "  <thead>\n",
       "    <tr style=\"text-align: right;\">\n",
       "      <th></th>\n",
       "      <th>img</th>\n",
       "      <th>label</th>\n",
       "    </tr>\n",
       "  </thead>\n",
       "  <tbody>\n",
       "    <tr>\n",
       "      <th>0</th>\n",
       "      <td>../dataset/Fracture\\39 F (L View).jpg</td>\n",
       "      <td>0</td>\n",
       "    </tr>\n",
       "    <tr>\n",
       "      <th>1</th>\n",
       "      <td>../dataset/Fracture\\9 Male (L View).jpg</td>\n",
       "      <td>0</td>\n",
       "    </tr>\n",
       "    <tr>\n",
       "      <th>2</th>\n",
       "      <td>../dataset/Fracture\\47 Male (L View).jpg</td>\n",
       "      <td>0</td>\n",
       "    </tr>\n",
       "    <tr>\n",
       "      <th>3</th>\n",
       "      <td>../dataset/Normal\\47.jpg</td>\n",
       "      <td>1</td>\n",
       "    </tr>\n",
       "    <tr>\n",
       "      <th>4</th>\n",
       "      <td>../dataset/Fracture\\32 Male (A View).jpg</td>\n",
       "      <td>0</td>\n",
       "    </tr>\n",
       "  </tbody>\n",
       "</table>\n",
       "</div>"
      ],
      "text/plain": [
       "                                        img  label\n",
       "0     ../dataset/Fracture\\39 F (L View).jpg      0\n",
       "1   ../dataset/Fracture\\9 Male (L View).jpg      0\n",
       "2  ../dataset/Fracture\\47 Male (L View).jpg      0\n",
       "3                  ../dataset/Normal\\47.jpg      1\n",
       "4  ../dataset/Fracture\\32 Male (A View).jpg      0"
      ]
     },
     "execution_count": 2,
     "metadata": {},
     "output_type": "execute_result"
    }
   ],
   "source": [
    "import pandas as pd\n",
    "data=pd.DataFrame(zip(images,labels),columns=['img','label'])\n",
    "data.label=data.label.map({'Fracture':0,'Normal':1})\n",
    "data = data.sample(frac=1).reset_index(drop=True)\n",
    "data.head()"
   ]
  },
  {
   "cell_type": "markdown",
   "id": "prostate-divide",
   "metadata": {},
   "source": [
    "# top 5 lightest models in torchvision\n",
    "1\tsqueezenet1_1\t1235496  \n",
    "2\tshufflenet_v2_x0_5\t1366792  \n",
    "3\tmnasnet0_5\t2218512  \n",
    "4\tmobilenet_v2\t3504872  \n",
    "5\tdensenet121\t7978856  `"
   ]
  },
  {
   "cell_type": "code",
   "execution_count": null,
   "id": "hidden-interval",
   "metadata": {},
   "outputs": [],
   "source": []
  },
  {
   "cell_type": "code",
   "execution_count": 3,
   "id": "silver-narrow",
   "metadata": {},
   "outputs": [],
   "source": [
    "from models.squeezenet import squeezenet1_1\n",
    "from models.mymodels import mymodel,mymodel1\n",
    "from models.shufflenet import shufflenet_v2_x0_5\n",
    "from models.mnastnet import mnasnet0_5\n",
    "from models.densenet import densenet121\n",
    "from models.mobilenet import mobilenet\n",
    "from cross_vals import kfoldcv"
   ]
  },
  {
   "cell_type": "code",
   "execution_count": 4,
   "id": "abandoned-medium",
   "metadata": {},
   "outputs": [],
   "source": [
    "def count_parameters(model):\n",
    "    return sum(p.numel() for p in model.parameters() if p.requires_grad)/1e6"
   ]
  },
  {
   "cell_type": "code",
   "execution_count": 5,
   "id": "delayed-labor",
   "metadata": {},
   "outputs": [
    {
     "name": "stdout",
     "output_type": "stream",
     "text": [
      "MyNet parameters : 0.774768\n",
      "SqueezeNet parameters : 0.984\n",
      "ShuffleNet parameters : 0.86616\n",
      "MnastNet parameters : 1.593096\n",
      "MobileNet parameters : 2.879168\n",
      "DenseNet parameters : 7.472384\n"
     ]
    }
   ],
   "source": [
    "print('MyNet parameters :' ,count_parameters(mymodel()))\n",
    "print('SqueezeNet parameters :', count_parameters(squeezenet1_1()))\n",
    "print('ShuffleNet parameters :', count_parameters(shufflenet_v2_x0_5()))\n",
    "print('MnastNet parameters :', count_parameters(mnasnet0_5()))\n",
    "print('MobileNet parameters :', count_parameters(mobilenet()))\n",
    "print('DenseNet parameters :', count_parameters(densenet121()))\n"
   ]
  },
  {
   "cell_type": "markdown",
   "id": "canadian-republic",
   "metadata": {},
   "source": [
    "# MyNet"
   ]
  },
  {
   "cell_type": "code",
   "execution_count": 6,
   "id": "charming-equality",
   "metadata": {},
   "outputs": [
    {
     "name": "stdout",
     "output_type": "stream",
     "text": [
      "Wall time: 18min 11s\n"
     ]
    }
   ],
   "source": [
    "%%time\n",
    "train_cv,clf_report=kfoldcv(model=mymodel1(),epochs=50,batchsize=8,data=data,lr=0.001,skip_tuning=False)"
   ]
  },
  {
   "cell_type": "code",
   "execution_count": 7,
   "id": "selective-numbers",
   "metadata": {},
   "outputs": [
    {
     "name": "stdout",
     "output_type": "stream",
     "text": [
      "------------------ Decision Tree ----------------\n",
      "          precision  recall  f1-score\n",
      "Fracture      1.000   0.930     0.962\n",
      "Normal        0.918   1.000     0.954\n",
      "macro         0.960   0.966     0.958\n",
      "weighted      0.968   0.958     0.958\n",
      "------------------ SVM ----------------\n",
      "          precision  recall  f1-score\n",
      "Fracture      0.980   0.956     0.968\n",
      "Normal        0.944   0.976     0.960\n",
      "macro         0.962   0.966     0.964\n",
      "weighted      0.966   0.964     0.964\n",
      "------------------ logistic regression ----------------\n",
      "          precision  recall  f1-score\n",
      "Fracture      0.958   0.964     0.962\n",
      "Normal        0.946   0.942     0.944\n",
      "macro         0.954   0.952     0.952\n",
      "weighted      0.956   0.952     0.952\n",
      "------------------ K Nearest neighbors ----------------\n",
      "          precision  recall  f1-score\n",
      "Fracture      0.988   0.930     0.958\n",
      "Normal        0.916   0.988     0.948\n",
      "macro         0.952   0.960     0.954\n",
      "weighted      0.960   0.954     0.954\n"
     ]
    }
   ],
   "source": [
    "for clf in ['Decision Tree','SVM',\"logistic regression\",'K Nearest neighbors']:\n",
    "    print('------------------',clf,'----------------')\n",
    "    print(clf_report[0][clf][0])"
   ]
  },
  {
   "cell_type": "code",
   "execution_count": 8,
   "id": "threatened-publisher",
   "metadata": {},
   "outputs": [
    {
     "data": {
      "text/html": [
       "<div>\n",
       "<style scoped>\n",
       "    .dataframe tbody tr th:only-of-type {\n",
       "        vertical-align: middle;\n",
       "    }\n",
       "\n",
       "    .dataframe tbody tr th {\n",
       "        vertical-align: top;\n",
       "    }\n",
       "\n",
       "    .dataframe thead th {\n",
       "        text-align: right;\n",
       "    }\n",
       "</style>\n",
       "<table border=\"1\" class=\"dataframe\">\n",
       "  <thead>\n",
       "    <tr style=\"text-align: right;\">\n",
       "      <th></th>\n",
       "      <th>DT</th>\n",
       "      <th>SVM</th>\n",
       "      <th>LR</th>\n",
       "      <th>KNN</th>\n",
       "    </tr>\n",
       "  </thead>\n",
       "  <tbody>\n",
       "    <tr>\n",
       "      <th>0</th>\n",
       "      <td>0.87</td>\n",
       "      <td>0.85</td>\n",
       "      <td>0.79</td>\n",
       "      <td>0.85</td>\n",
       "    </tr>\n",
       "    <tr>\n",
       "      <th>1</th>\n",
       "      <td>0.92</td>\n",
       "      <td>0.97</td>\n",
       "      <td>0.97</td>\n",
       "      <td>0.92</td>\n",
       "    </tr>\n",
       "    <tr>\n",
       "      <th>2</th>\n",
       "      <td>1.00</td>\n",
       "      <td>1.00</td>\n",
       "      <td>1.00</td>\n",
       "      <td>1.00</td>\n",
       "    </tr>\n",
       "    <tr>\n",
       "      <th>3</th>\n",
       "      <td>1.00</td>\n",
       "      <td>1.00</td>\n",
       "      <td>1.00</td>\n",
       "      <td>1.00</td>\n",
       "    </tr>\n",
       "    <tr>\n",
       "      <th>4</th>\n",
       "      <td>1.00</td>\n",
       "      <td>1.00</td>\n",
       "      <td>1.00</td>\n",
       "      <td>1.00</td>\n",
       "    </tr>\n",
       "    <tr>\n",
       "      <th>mean</th>\n",
       "      <td>0.958</td>\n",
       "      <td>0.964</td>\n",
       "      <td>0.952</td>\n",
       "      <td>0.954</td>\n",
       "    </tr>\n",
       "  </tbody>\n",
       "</table>\n",
       "</div>"
      ],
      "text/plain": [
       "         DT    SVM     LR    KNN\n",
       "0      0.87   0.85   0.79   0.85\n",
       "1      0.92   0.97   0.97   0.92\n",
       "2      1.00   1.00   1.00   1.00\n",
       "3      1.00   1.00   1.00   1.00\n",
       "4      1.00   1.00   1.00   1.00\n",
       "mean  0.958  0.964  0.952  0.954"
      ]
     },
     "execution_count": 8,
     "metadata": {},
     "output_type": "execute_result"
    }
   ],
   "source": [
    "#aacuracy\n",
    "clf_report[1]"
   ]
  },
  {
   "cell_type": "markdown",
   "id": "periodic-destruction",
   "metadata": {},
   "source": [
    "# SqueezeNet"
   ]
  },
  {
   "cell_type": "code",
   "execution_count": 9,
   "id": "considerable-church",
   "metadata": {},
   "outputs": [
    {
     "name": "stdout",
     "output_type": "stream",
     "text": [
      "Wall time: 17min 57s\n"
     ]
    }
   ],
   "source": [
    "%%time\n",
    "train_cv,clf_report=kfoldcv(model=squeezenet1_1(),epochs=50,batchsize=8,data=data,lr=0.001,skip_tuning=False)"
   ]
  },
  {
   "cell_type": "code",
   "execution_count": 10,
   "id": "sharing-guess",
   "metadata": {},
   "outputs": [
    {
     "name": "stdout",
     "output_type": "stream",
     "text": [
      "------------------ Decision Tree ----------------\n",
      "          precision  recall  f1-score\n",
      "Fracture      0.982   0.982     0.982\n",
      "Normal        0.976   0.976     0.976\n",
      "macro         0.980   0.980     0.980\n",
      "weighted      0.980   0.980     0.980\n",
      "------------------ SVM ----------------\n",
      "          precision  recall  f1-score\n",
      "Fracture      0.972   0.972     0.972\n",
      "Normal        0.964   0.964     0.964\n",
      "macro         0.968   0.968     0.968\n",
      "weighted      0.970   0.970     0.970\n",
      "------------------ logistic regression ----------------\n",
      "          precision  recall  f1-score\n",
      "Fracture      0.980   0.972     0.976\n",
      "Normal        0.966   0.976     0.972\n",
      "macro         0.974   0.974     0.974\n",
      "weighted      0.974   0.974     0.974\n",
      "------------------ K Nearest neighbors ----------------\n",
      "          precision  recall  f1-score\n",
      "Fracture      0.984   0.928     0.950\n",
      "Normal        0.926   0.972     0.944\n",
      "macro         0.954   0.950     0.948\n",
      "weighted      0.958   0.948     0.948\n"
     ]
    }
   ],
   "source": [
    "for clf in ['Decision Tree','SVM',\"logistic regression\",'K Nearest neighbors']:\n",
    "    print('------------------',clf,'----------------')\n",
    "    print(clf_report[0][clf][0])"
   ]
  },
  {
   "cell_type": "code",
   "execution_count": 11,
   "id": "pressing-choir",
   "metadata": {},
   "outputs": [
    {
     "data": {
      "text/html": [
       "<div>\n",
       "<style scoped>\n",
       "    .dataframe tbody tr th:only-of-type {\n",
       "        vertical-align: middle;\n",
       "    }\n",
       "\n",
       "    .dataframe tbody tr th {\n",
       "        vertical-align: top;\n",
       "    }\n",
       "\n",
       "    .dataframe thead th {\n",
       "        text-align: right;\n",
       "    }\n",
       "</style>\n",
       "<table border=\"1\" class=\"dataframe\">\n",
       "  <thead>\n",
       "    <tr style=\"text-align: right;\">\n",
       "      <th></th>\n",
       "      <th>DT</th>\n",
       "      <th>SVM</th>\n",
       "      <th>LR</th>\n",
       "      <th>KNN</th>\n",
       "    </tr>\n",
       "  </thead>\n",
       "  <tbody>\n",
       "    <tr>\n",
       "      <th>0</th>\n",
       "      <td>0.90</td>\n",
       "      <td>0.85</td>\n",
       "      <td>0.87</td>\n",
       "      <td>0.82</td>\n",
       "    </tr>\n",
       "    <tr>\n",
       "      <th>1</th>\n",
       "      <td>1.00</td>\n",
       "      <td>1.00</td>\n",
       "      <td>1.00</td>\n",
       "      <td>0.92</td>\n",
       "    </tr>\n",
       "    <tr>\n",
       "      <th>2</th>\n",
       "      <td>1.00</td>\n",
       "      <td>1.00</td>\n",
       "      <td>1.00</td>\n",
       "      <td>1.00</td>\n",
       "    </tr>\n",
       "    <tr>\n",
       "      <th>3</th>\n",
       "      <td>1.00</td>\n",
       "      <td>1.00</td>\n",
       "      <td>1.00</td>\n",
       "      <td>1.00</td>\n",
       "    </tr>\n",
       "    <tr>\n",
       "      <th>4</th>\n",
       "      <td>1.00</td>\n",
       "      <td>1.00</td>\n",
       "      <td>1.00</td>\n",
       "      <td>1.00</td>\n",
       "    </tr>\n",
       "    <tr>\n",
       "      <th>mean</th>\n",
       "      <td>0.98</td>\n",
       "      <td>0.97</td>\n",
       "      <td>0.974</td>\n",
       "      <td>0.948</td>\n",
       "    </tr>\n",
       "  </tbody>\n",
       "</table>\n",
       "</div>"
      ],
      "text/plain": [
       "        DT   SVM     LR    KNN\n",
       "0     0.90  0.85   0.87   0.82\n",
       "1     1.00  1.00   1.00   0.92\n",
       "2     1.00  1.00   1.00   1.00\n",
       "3     1.00  1.00   1.00   1.00\n",
       "4     1.00  1.00   1.00   1.00\n",
       "mean  0.98  0.97  0.974  0.948"
      ]
     },
     "execution_count": 11,
     "metadata": {},
     "output_type": "execute_result"
    }
   ],
   "source": [
    "#aacuracy\n",
    "clf_report[1]"
   ]
  },
  {
   "cell_type": "markdown",
   "id": "forbidden-marketing",
   "metadata": {},
   "source": [
    "# ShuffleNet"
   ]
  },
  {
   "cell_type": "code",
   "execution_count": 12,
   "id": "necessary-clause",
   "metadata": {},
   "outputs": [
    {
     "name": "stdout",
     "output_type": "stream",
     "text": [
      "Wall time: 25min 56s\n"
     ]
    }
   ],
   "source": [
    "%%time\n",
    "train_cv,clf_report=kfoldcv(model=shufflenet_v2_x0_5(),epochs=50,batchsize=8,data=data,lr=0.001,skip_tuning=True)"
   ]
  },
  {
   "cell_type": "code",
   "execution_count": 13,
   "id": "capable-simple",
   "metadata": {},
   "outputs": [
    {
     "name": "stdout",
     "output_type": "stream",
     "text": [
      "------------------ Decision Tree ----------------\n",
      "          precision  recall  f1-score\n",
      "Fracture      0.896   0.812     0.844\n",
      "Normal        0.780   0.870     0.808\n",
      "macro         0.838   0.842     0.824\n",
      "weighted      0.856   0.828     0.828\n",
      "------------------ SVM ----------------\n",
      "          precision  recall  f1-score\n",
      "Fracture      0.926   0.830     0.870\n",
      "Normal        0.788   0.904     0.834\n",
      "macro         0.858   0.866     0.852\n",
      "weighted      0.872   0.856     0.856\n",
      "------------------ logistic regression ----------------\n",
      "          precision  recall  f1-score\n",
      "Fracture      0.928   0.840     0.876\n",
      "Normal        0.794   0.904     0.838\n",
      "macro         0.862   0.870     0.856\n",
      "weighted      0.876   0.860     0.862\n",
      "------------------ K Nearest neighbors ----------------\n",
      "          precision  recall  f1-score\n",
      "Fracture      0.932   0.812     0.862\n",
      "Normal        0.772   0.914     0.834\n",
      "macro         0.852   0.862     0.848\n",
      "weighted      0.870   0.850     0.850\n"
     ]
    }
   ],
   "source": [
    "for clf in ['Decision Tree','SVM',\"logistic regression\",'K Nearest neighbors']:\n",
    "    print('------------------',clf,'----------------')\n",
    "    print(clf_report[0][clf][0])"
   ]
  },
  {
   "cell_type": "code",
   "execution_count": 14,
   "id": "guilty-constraint",
   "metadata": {},
   "outputs": [
    {
     "data": {
      "text/html": [
       "<div>\n",
       "<style scoped>\n",
       "    .dataframe tbody tr th:only-of-type {\n",
       "        vertical-align: middle;\n",
       "    }\n",
       "\n",
       "    .dataframe tbody tr th {\n",
       "        vertical-align: top;\n",
       "    }\n",
       "\n",
       "    .dataframe thead th {\n",
       "        text-align: right;\n",
       "    }\n",
       "</style>\n",
       "<table border=\"1\" class=\"dataframe\">\n",
       "  <thead>\n",
       "    <tr style=\"text-align: right;\">\n",
       "      <th></th>\n",
       "      <th>DT</th>\n",
       "      <th>SVM</th>\n",
       "      <th>LR</th>\n",
       "      <th>KNN</th>\n",
       "    </tr>\n",
       "  </thead>\n",
       "  <tbody>\n",
       "    <tr>\n",
       "      <th>0</th>\n",
       "      <td>0.82</td>\n",
       "      <td>0.82</td>\n",
       "      <td>0.82</td>\n",
       "      <td>0.82</td>\n",
       "    </tr>\n",
       "    <tr>\n",
       "      <th>1</th>\n",
       "      <td>0.79</td>\n",
       "      <td>0.82</td>\n",
       "      <td>0.82</td>\n",
       "      <td>0.82</td>\n",
       "    </tr>\n",
       "    <tr>\n",
       "      <th>2</th>\n",
       "      <td>0.69</td>\n",
       "      <td>0.77</td>\n",
       "      <td>0.79</td>\n",
       "      <td>0.74</td>\n",
       "    </tr>\n",
       "    <tr>\n",
       "      <th>3</th>\n",
       "      <td>0.87</td>\n",
       "      <td>0.87</td>\n",
       "      <td>0.87</td>\n",
       "      <td>0.87</td>\n",
       "    </tr>\n",
       "    <tr>\n",
       "      <th>4</th>\n",
       "      <td>0.97</td>\n",
       "      <td>1.00</td>\n",
       "      <td>1.00</td>\n",
       "      <td>1.00</td>\n",
       "    </tr>\n",
       "    <tr>\n",
       "      <th>mean</th>\n",
       "      <td>0.828</td>\n",
       "      <td>0.856</td>\n",
       "      <td>0.86</td>\n",
       "      <td>0.85</td>\n",
       "    </tr>\n",
       "  </tbody>\n",
       "</table>\n",
       "</div>"
      ],
      "text/plain": [
       "         DT    SVM    LR   KNN\n",
       "0      0.82   0.82  0.82  0.82\n",
       "1      0.79   0.82  0.82  0.82\n",
       "2      0.69   0.77  0.79  0.74\n",
       "3      0.87   0.87  0.87  0.87\n",
       "4      0.97   1.00  1.00  1.00\n",
       "mean  0.828  0.856  0.86  0.85"
      ]
     },
     "execution_count": 14,
     "metadata": {},
     "output_type": "execute_result"
    }
   ],
   "source": [
    "#aacuracy\n",
    "clf_report[1]"
   ]
  },
  {
   "cell_type": "markdown",
   "id": "controlling-hollywood",
   "metadata": {},
   "source": [
    "# Mnasnet"
   ]
  },
  {
   "cell_type": "code",
   "execution_count": 15,
   "id": "continent-investigator",
   "metadata": {},
   "outputs": [
    {
     "name": "stdout",
     "output_type": "stream",
     "text": [
      "Wall time: 24min 10s\n"
     ]
    }
   ],
   "source": [
    "%%time\n",
    "train_cv,clf_report=kfoldcv(model=mnasnet0_5(),epochs=50,batchsize=8,data=data,lr=0.001,skip_tuning=True)"
   ]
  },
  {
   "cell_type": "code",
   "execution_count": 16,
   "id": "suitable-grill",
   "metadata": {},
   "outputs": [
    {
     "name": "stdout",
     "output_type": "stream",
     "text": [
      "------------------ Decision Tree ----------------\n",
      "          precision  recall  f1-score\n",
      "Fracture      0.898   0.878     0.884\n",
      "Normal        0.810   0.846     0.824\n",
      "macro         0.854   0.864     0.854\n",
      "weighted      0.862   0.862     0.858\n",
      "------------------ SVM ----------------\n",
      "          precision  recall  f1-score\n",
      "Fracture      0.908   0.904     0.904\n",
      "Normal        0.842   0.858     0.844\n",
      "macro         0.876   0.882     0.874\n",
      "weighted      0.882   0.880     0.878\n",
      "------------------ logistic regression ----------------\n",
      "          precision  recall  f1-score\n",
      "Fracture      0.902   0.894     0.896\n",
      "Normal        0.826   0.846     0.830\n",
      "macro         0.864   0.872     0.864\n",
      "weighted      0.872   0.870     0.868\n",
      "------------------ K Nearest neighbors ----------------\n",
      "          precision  recall  f1-score\n",
      "Fracture      0.932   0.868     0.898\n",
      "Normal        0.852   0.930     0.886\n",
      "macro         0.892   0.900     0.892\n",
      "weighted      0.900   0.892     0.892\n"
     ]
    }
   ],
   "source": [
    "for clf in ['Decision Tree','SVM',\"logistic regression\",'K Nearest neighbors']:\n",
    "    print('------------------',clf,'----------------')\n",
    "    print(clf_report[0][clf][0])"
   ]
  },
  {
   "cell_type": "code",
   "execution_count": 17,
   "id": "pursuant-burke",
   "metadata": {},
   "outputs": [
    {
     "data": {
      "text/html": [
       "<div>\n",
       "<style scoped>\n",
       "    .dataframe tbody tr th:only-of-type {\n",
       "        vertical-align: middle;\n",
       "    }\n",
       "\n",
       "    .dataframe tbody tr th {\n",
       "        vertical-align: top;\n",
       "    }\n",
       "\n",
       "    .dataframe thead th {\n",
       "        text-align: right;\n",
       "    }\n",
       "</style>\n",
       "<table border=\"1\" class=\"dataframe\">\n",
       "  <thead>\n",
       "    <tr style=\"text-align: right;\">\n",
       "      <th></th>\n",
       "      <th>DT</th>\n",
       "      <th>SVM</th>\n",
       "      <th>LR</th>\n",
       "      <th>KNN</th>\n",
       "    </tr>\n",
       "  </thead>\n",
       "  <tbody>\n",
       "    <tr>\n",
       "      <th>0</th>\n",
       "      <td>0.49</td>\n",
       "      <td>0.56</td>\n",
       "      <td>0.51</td>\n",
       "      <td>0.62</td>\n",
       "    </tr>\n",
       "    <tr>\n",
       "      <th>1</th>\n",
       "      <td>0.90</td>\n",
       "      <td>0.92</td>\n",
       "      <td>0.92</td>\n",
       "      <td>0.92</td>\n",
       "    </tr>\n",
       "    <tr>\n",
       "      <th>2</th>\n",
       "      <td>0.92</td>\n",
       "      <td>0.92</td>\n",
       "      <td>0.92</td>\n",
       "      <td>0.92</td>\n",
       "    </tr>\n",
       "    <tr>\n",
       "      <th>3</th>\n",
       "      <td>1.00</td>\n",
       "      <td>1.00</td>\n",
       "      <td>1.00</td>\n",
       "      <td>1.00</td>\n",
       "    </tr>\n",
       "    <tr>\n",
       "      <th>4</th>\n",
       "      <td>1.00</td>\n",
       "      <td>1.00</td>\n",
       "      <td>1.00</td>\n",
       "      <td>1.00</td>\n",
       "    </tr>\n",
       "    <tr>\n",
       "      <th>mean</th>\n",
       "      <td>0.862</td>\n",
       "      <td>0.88</td>\n",
       "      <td>0.87</td>\n",
       "      <td>0.892</td>\n",
       "    </tr>\n",
       "  </tbody>\n",
       "</table>\n",
       "</div>"
      ],
      "text/plain": [
       "         DT   SVM    LR    KNN\n",
       "0      0.49  0.56  0.51   0.62\n",
       "1      0.90  0.92  0.92   0.92\n",
       "2      0.92  0.92  0.92   0.92\n",
       "3      1.00  1.00  1.00   1.00\n",
       "4      1.00  1.00  1.00   1.00\n",
       "mean  0.862  0.88  0.87  0.892"
      ]
     },
     "execution_count": 17,
     "metadata": {},
     "output_type": "execute_result"
    }
   ],
   "source": [
    "#aacuracy\n",
    "clf_report[1]"
   ]
  },
  {
   "cell_type": "markdown",
   "id": "needed-investor",
   "metadata": {},
   "source": [
    "# MobileNet"
   ]
  },
  {
   "cell_type": "code",
   "execution_count": 18,
   "id": "excited-habitat",
   "metadata": {},
   "outputs": [
    {
     "name": "stdout",
     "output_type": "stream",
     "text": [
      "Wall time: 24min 7s\n"
     ]
    }
   ],
   "source": [
    "%%time\n",
    "train_cv,clf_report=kfoldcv(model=mobilenet(),epochs=50,batchsize=8,data=data,lr=0.001,skip_tuning=True)"
   ]
  },
  {
   "cell_type": "code",
   "execution_count": 19,
   "id": "unable-whale",
   "metadata": {},
   "outputs": [
    {
     "name": "stdout",
     "output_type": "stream",
     "text": [
      "------------------ Decision Tree ----------------\n",
      "          precision  recall  f1-score\n",
      "Fracture      0.832   0.778     0.806\n",
      "Normal        0.696   0.768     0.730\n",
      "macro         0.764   0.772     0.766\n",
      "weighted      0.782   0.774     0.774\n",
      "------------------ SVM ----------------\n",
      "          precision  recall  f1-score\n",
      "Fracture      0.860   0.794     0.822\n",
      "Normal        0.724   0.808     0.762\n",
      "macro         0.792   0.802     0.792\n",
      "weighted      0.808   0.798     0.800\n",
      "------------------ logistic regression ----------------\n",
      "          precision  recall  f1-score\n",
      "Fracture      0.856   0.818     0.836\n",
      "Normal        0.748   0.800     0.772\n",
      "macro         0.802   0.808     0.804\n",
      "weighted      0.816   0.810     0.810\n",
      "------------------ K Nearest neighbors ----------------\n",
      "          precision  recall  f1-score\n",
      "Fracture      0.858   0.802     0.828\n",
      "Normal        0.738   0.808     0.770\n",
      "macro         0.796   0.806     0.798\n",
      "weighted      0.810   0.806     0.808\n"
     ]
    }
   ],
   "source": [
    "for clf in ['Decision Tree','SVM',\"logistic regression\",'K Nearest neighbors']:\n",
    "    print('------------------',clf,'----------------')\n",
    "    print(clf_report[0][clf][0])"
   ]
  },
  {
   "cell_type": "code",
   "execution_count": 20,
   "id": "weighted-incentive",
   "metadata": {},
   "outputs": [
    {
     "data": {
      "text/html": [
       "<div>\n",
       "<style scoped>\n",
       "    .dataframe tbody tr th:only-of-type {\n",
       "        vertical-align: middle;\n",
       "    }\n",
       "\n",
       "    .dataframe tbody tr th {\n",
       "        vertical-align: top;\n",
       "    }\n",
       "\n",
       "    .dataframe thead th {\n",
       "        text-align: right;\n",
       "    }\n",
       "</style>\n",
       "<table border=\"1\" class=\"dataframe\">\n",
       "  <thead>\n",
       "    <tr style=\"text-align: right;\">\n",
       "      <th></th>\n",
       "      <th>DT</th>\n",
       "      <th>SVM</th>\n",
       "      <th>LR</th>\n",
       "      <th>KNN</th>\n",
       "    </tr>\n",
       "  </thead>\n",
       "  <tbody>\n",
       "    <tr>\n",
       "      <th>0</th>\n",
       "      <td>0.67</td>\n",
       "      <td>0.74</td>\n",
       "      <td>0.72</td>\n",
       "      <td>0.72</td>\n",
       "    </tr>\n",
       "    <tr>\n",
       "      <th>1</th>\n",
       "      <td>0.54</td>\n",
       "      <td>0.67</td>\n",
       "      <td>0.74</td>\n",
       "      <td>0.64</td>\n",
       "    </tr>\n",
       "    <tr>\n",
       "      <th>2</th>\n",
       "      <td>0.74</td>\n",
       "      <td>0.69</td>\n",
       "      <td>0.67</td>\n",
       "      <td>0.72</td>\n",
       "    </tr>\n",
       "    <tr>\n",
       "      <th>3</th>\n",
       "      <td>0.92</td>\n",
       "      <td>0.89</td>\n",
       "      <td>0.92</td>\n",
       "      <td>0.95</td>\n",
       "    </tr>\n",
       "    <tr>\n",
       "      <th>4</th>\n",
       "      <td>1.00</td>\n",
       "      <td>1.00</td>\n",
       "      <td>1.00</td>\n",
       "      <td>1.00</td>\n",
       "    </tr>\n",
       "    <tr>\n",
       "      <th>mean</th>\n",
       "      <td>0.774</td>\n",
       "      <td>0.798</td>\n",
       "      <td>0.81</td>\n",
       "      <td>0.806</td>\n",
       "    </tr>\n",
       "  </tbody>\n",
       "</table>\n",
       "</div>"
      ],
      "text/plain": [
       "         DT    SVM    LR    KNN\n",
       "0      0.67   0.74  0.72   0.72\n",
       "1      0.54   0.67  0.74   0.64\n",
       "2      0.74   0.69  0.67   0.72\n",
       "3      0.92   0.89  0.92   0.95\n",
       "4      1.00   1.00  1.00   1.00\n",
       "mean  0.774  0.798  0.81  0.806"
      ]
     },
     "execution_count": 20,
     "metadata": {},
     "output_type": "execute_result"
    }
   ],
   "source": [
    "#aacuracy\n",
    "clf_report[1]"
   ]
  },
  {
   "cell_type": "markdown",
   "id": "plain-syndicate",
   "metadata": {},
   "source": [
    "# DenseNet121"
   ]
  },
  {
   "cell_type": "code",
   "execution_count": 21,
   "id": "scheduled-synthetic",
   "metadata": {},
   "outputs": [
    {
     "name": "stdout",
     "output_type": "stream",
     "text": [
      "Wall time: 43min 33s\n"
     ]
    }
   ],
   "source": [
    "%%time\n",
    "train_cv,clf_report=kfoldcv(model=densenet121(),epochs=50,batchsize=8,data=data,lr=0.001,skip_tuning=True)"
   ]
  },
  {
   "cell_type": "code",
   "execution_count": 22,
   "id": "important-blade",
   "metadata": {},
   "outputs": [
    {
     "name": "stdout",
     "output_type": "stream",
     "text": [
      "------------------ Decision Tree ----------------\n",
      "          precision  recall  f1-score\n",
      "Fracture      0.950   0.936     0.942\n",
      "Normal        0.930   0.938     0.932\n",
      "macro         0.940   0.936     0.938\n",
      "weighted      0.942   0.938     0.938\n",
      "------------------ SVM ----------------\n",
      "          precision  recall  f1-score\n",
      "Fracture      0.962   0.954     0.958\n",
      "Normal        0.944   0.952     0.948\n",
      "macro         0.954   0.954     0.954\n",
      "weighted      0.954   0.954     0.954\n",
      "------------------ logistic regression ----------------\n",
      "          precision  recall  f1-score\n",
      "Fracture      0.950   0.972     0.962\n",
      "Normal        0.960   0.928     0.942\n",
      "macro         0.956   0.948     0.952\n",
      "weighted      0.956   0.952     0.952\n",
      "------------------ K Nearest neighbors ----------------\n",
      "          precision  recall  f1-score\n",
      "Fracture      0.970   0.946     0.958\n",
      "Normal        0.934   0.964     0.950\n",
      "macro         0.952   0.956     0.952\n",
      "weighted      0.956   0.952     0.954\n"
     ]
    }
   ],
   "source": [
    "for clf in ['Decision Tree','SVM',\"logistic regression\",'K Nearest neighbors']:\n",
    "    print('------------------',clf,'----------------')\n",
    "    print(clf_report[0][clf][0])"
   ]
  },
  {
   "cell_type": "code",
   "execution_count": 23,
   "id": "structural-scott",
   "metadata": {},
   "outputs": [
    {
     "data": {
      "text/html": [
       "<div>\n",
       "<style scoped>\n",
       "    .dataframe tbody tr th:only-of-type {\n",
       "        vertical-align: middle;\n",
       "    }\n",
       "\n",
       "    .dataframe tbody tr th {\n",
       "        vertical-align: top;\n",
       "    }\n",
       "\n",
       "    .dataframe thead th {\n",
       "        text-align: right;\n",
       "    }\n",
       "</style>\n",
       "<table border=\"1\" class=\"dataframe\">\n",
       "  <thead>\n",
       "    <tr style=\"text-align: right;\">\n",
       "      <th></th>\n",
       "      <th>DT</th>\n",
       "      <th>SVM</th>\n",
       "      <th>LR</th>\n",
       "      <th>KNN</th>\n",
       "    </tr>\n",
       "  </thead>\n",
       "  <tbody>\n",
       "    <tr>\n",
       "      <th>0</th>\n",
       "      <td>0.72</td>\n",
       "      <td>0.77</td>\n",
       "      <td>0.79</td>\n",
       "      <td>0.79</td>\n",
       "    </tr>\n",
       "    <tr>\n",
       "      <th>1</th>\n",
       "      <td>0.97</td>\n",
       "      <td>1.00</td>\n",
       "      <td>0.97</td>\n",
       "      <td>0.97</td>\n",
       "    </tr>\n",
       "    <tr>\n",
       "      <th>2</th>\n",
       "      <td>1.00</td>\n",
       "      <td>1.00</td>\n",
       "      <td>1.00</td>\n",
       "      <td>1.00</td>\n",
       "    </tr>\n",
       "    <tr>\n",
       "      <th>3</th>\n",
       "      <td>1.00</td>\n",
       "      <td>1.00</td>\n",
       "      <td>1.00</td>\n",
       "      <td>1.00</td>\n",
       "    </tr>\n",
       "    <tr>\n",
       "      <th>4</th>\n",
       "      <td>1.00</td>\n",
       "      <td>1.00</td>\n",
       "      <td>1.00</td>\n",
       "      <td>1.00</td>\n",
       "    </tr>\n",
       "    <tr>\n",
       "      <th>mean</th>\n",
       "      <td>0.938</td>\n",
       "      <td>0.954</td>\n",
       "      <td>0.952</td>\n",
       "      <td>0.952</td>\n",
       "    </tr>\n",
       "  </tbody>\n",
       "</table>\n",
       "</div>"
      ],
      "text/plain": [
       "         DT    SVM     LR    KNN\n",
       "0      0.72   0.77   0.79   0.79\n",
       "1      0.97   1.00   0.97   0.97\n",
       "2      1.00   1.00   1.00   1.00\n",
       "3      1.00   1.00   1.00   1.00\n",
       "4      1.00   1.00   1.00   1.00\n",
       "mean  0.938  0.954  0.952  0.952"
      ]
     },
     "execution_count": 23,
     "metadata": {},
     "output_type": "execute_result"
    }
   ],
   "source": [
    "#aacuracy\n",
    "clf_report[1]"
   ]
  },
  {
   "cell_type": "code",
   "execution_count": null,
   "id": "overhead-nickel",
   "metadata": {},
   "outputs": [],
   "source": []
  }
 ],
 "metadata": {
  "kernelspec": {
   "display_name": "Python 3",
   "language": "python",
   "name": "python3"
  },
  "language_info": {
   "codemirror_mode": {
    "name": "ipython",
    "version": 3
   },
   "file_extension": ".py",
   "mimetype": "text/x-python",
   "name": "python",
   "nbconvert_exporter": "python",
   "pygments_lexer": "ipython3",
   "version": "3.7.9"
  }
 },
 "nbformat": 4,
 "nbformat_minor": 5
}
