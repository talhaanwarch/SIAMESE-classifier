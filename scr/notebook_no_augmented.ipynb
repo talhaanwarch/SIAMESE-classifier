{
 "cells": [
  {
   "cell_type": "markdown",
   "id": "proof-census",
   "metadata": {},
   "source": [
    "# load data"
   ]
  },
  {
   "cell_type": "code",
   "execution_count": 1,
   "id": "imposed-electron",
   "metadata": {},
   "outputs": [],
   "source": [
    "from glob import glob\n",
    "import os\n",
    "images=[]\n",
    "labels=[]\n",
    "for folder in os.listdir('../dataset'):\n",
    "    for pic in glob('../dataset/{}/*.jpg'.format(folder)):\n",
    "        images.append(pic)\n",
    "        labels.append(folder)\n",
    "        "
   ]
  },
  {
   "cell_type": "code",
   "execution_count": 2,
   "id": "engaged-harassment",
   "metadata": {},
   "outputs": [
    {
     "data": {
      "text/html": [
       "<div>\n",
       "<style scoped>\n",
       "    .dataframe tbody tr th:only-of-type {\n",
       "        vertical-align: middle;\n",
       "    }\n",
       "\n",
       "    .dataframe tbody tr th {\n",
       "        vertical-align: top;\n",
       "    }\n",
       "\n",
       "    .dataframe thead th {\n",
       "        text-align: right;\n",
       "    }\n",
       "</style>\n",
       "<table border=\"1\" class=\"dataframe\">\n",
       "  <thead>\n",
       "    <tr style=\"text-align: right;\">\n",
       "      <th></th>\n",
       "      <th>img</th>\n",
       "      <th>label</th>\n",
       "    </tr>\n",
       "  </thead>\n",
       "  <tbody>\n",
       "    <tr>\n",
       "      <th>0</th>\n",
       "      <td>../dataset/Normal\\42.jpg</td>\n",
       "      <td>1</td>\n",
       "    </tr>\n",
       "    <tr>\n",
       "      <th>1</th>\n",
       "      <td>../dataset/Normal\\24.jpg</td>\n",
       "      <td>1</td>\n",
       "    </tr>\n",
       "    <tr>\n",
       "      <th>2</th>\n",
       "      <td>../dataset/Normal\\79.jpg</td>\n",
       "      <td>1</td>\n",
       "    </tr>\n",
       "    <tr>\n",
       "      <th>3</th>\n",
       "      <td>../dataset/Fracture\\8 Male (A View).jpg</td>\n",
       "      <td>0</td>\n",
       "    </tr>\n",
       "    <tr>\n",
       "      <th>4</th>\n",
       "      <td>../dataset/Fracture\\32 Male (A View).jpg</td>\n",
       "      <td>0</td>\n",
       "    </tr>\n",
       "  </tbody>\n",
       "</table>\n",
       "</div>"
      ],
      "text/plain": [
       "                                        img  label\n",
       "0                  ../dataset/Normal\\42.jpg      1\n",
       "1                  ../dataset/Normal\\24.jpg      1\n",
       "2                  ../dataset/Normal\\79.jpg      1\n",
       "3   ../dataset/Fracture\\8 Male (A View).jpg      0\n",
       "4  ../dataset/Fracture\\32 Male (A View).jpg      0"
      ]
     },
     "execution_count": 2,
     "metadata": {},
     "output_type": "execute_result"
    }
   ],
   "source": [
    "import pandas as pd\n",
    "data=pd.DataFrame(zip(images,labels),columns=['img','label'])\n",
    "data.label=data.label.map({'Fracture':0,'Normal':1})\n",
    "data = data.sample(frac=1).reset_index(drop=True)\n",
    "data.head()"
   ]
  },
  {
   "cell_type": "markdown",
   "id": "prostate-divide",
   "metadata": {},
   "source": [
    "# top 5 lightest models in torchvision\n",
    "1\tsqueezenet1_1\t1235496  \n",
    "2\tshufflenet_v2_x0_5\t1366792  \n",
    "3\tmnasnet0_5\t2218512  \n",
    "4\tmobilenet_v2\t3504872  \n",
    "5\tdensenet121\t7978856  `"
   ]
  },
  {
   "cell_type": "code",
   "execution_count": null,
   "id": "hidden-interval",
   "metadata": {},
   "outputs": [],
   "source": []
  },
  {
   "cell_type": "code",
   "execution_count": 3,
   "id": "silver-narrow",
   "metadata": {},
   "outputs": [],
   "source": [
    "from models.squeezenet import squeezenet1_1\n",
    "from models.mymodels import mymodel,mymodel1\n",
    "from models.shufflenet import shufflenet_v2_x0_5\n",
    "from models.mnastnet import mnasnet0_5\n",
    "from models.densenet import densenet121\n",
    "from models.mobilenet import mobilenet\n",
    "from cross_vals import kfoldcv"
   ]
  },
  {
   "cell_type": "code",
   "execution_count": 4,
   "id": "abandoned-medium",
   "metadata": {},
   "outputs": [],
   "source": [
    "def count_parameters(model):\n",
    "    return sum(p.numel() for p in model.parameters() if p.requires_grad)/1e6"
   ]
  },
  {
   "cell_type": "code",
   "execution_count": 5,
   "id": "delayed-labor",
   "metadata": {},
   "outputs": [
    {
     "name": "stdout",
     "output_type": "stream",
     "text": [
      "MyNet parameters : 0.774768\n",
      "SqueezeNet parameters : 0.984\n",
      "ShuffleNet parameters : 0.86616\n",
      "MnastNet parameters : 1.593096\n",
      "MobileNet parameters : 2.879168\n",
      "DenseNet parameters : 7.472384\n"
     ]
    }
   ],
   "source": [
    "print('MyNet parameters :' ,count_parameters(mymodel()))\n",
    "print('SqueezeNet parameters :', count_parameters(squeezenet1_1()))\n",
    "print('ShuffleNet parameters :', count_parameters(shufflenet_v2_x0_5()))\n",
    "print('MnastNet parameters :', count_parameters(mnasnet0_5()))\n",
    "print('MobileNet parameters :', count_parameters(mobilenet()))\n",
    "print('DenseNet parameters :', count_parameters(densenet121()))\n"
   ]
  },
  {
   "cell_type": "code",
   "execution_count": 6,
   "id": "naked-surname",
   "metadata": {},
   "outputs": [],
   "source": [
    "#batch 32 lr 0.001 epoch 50 -->0.948\n",
    "#batch 32 lr 0.0001 epoch 50 --> bad\n",
    "#batch 32 lr 0.01 epoch 50 --> too bad\n",
    "#batch 16 lr 0.001 epoch 50 --> 95.8\n",
    "#batch 16 lr 0.0001 epoch 50 --> \n",
    "#batch 16 lr 0.01 epoch 50 --> "
   ]
  },
  {
   "cell_type": "markdown",
   "id": "canadian-republic",
   "metadata": {},
   "source": [
    "# MyNet"
   ]
  },
  {
   "cell_type": "code",
   "execution_count": 7,
   "id": "charming-equality",
   "metadata": {},
   "outputs": [
    {
     "name": "stdout",
     "output_type": "stream",
     "text": [
      "Wall time: 15min 51s\n"
     ]
    }
   ],
   "source": [
    "%%time\n",
    "train_cv,clf_report=kfoldcv(model=mymodel1(),epochs=50,batchsize=8,data=data,lr=0.001,skip_tuning=False)"
   ]
  },
  {
   "cell_type": "code",
   "execution_count": 8,
   "id": "selective-numbers",
   "metadata": {},
   "outputs": [
    {
     "name": "stdout",
     "output_type": "stream",
     "text": [
      "------------------ Decision Tree ----------------\n",
      "          precision  recall  f1-score\n",
      "Fracture      0.968   0.958     0.964\n",
      "Normal        0.960   0.970     0.964\n",
      "macro         0.964   0.966     0.964\n",
      "weighted      0.966   0.964     0.964\n",
      "------------------ SVM ----------------\n",
      "          precision  recall  f1-score\n",
      "Fracture      0.968   0.968     0.968\n",
      "Normal        0.970   0.970     0.970\n",
      "macro         0.970   0.970     0.970\n",
      "weighted      0.970   0.970     0.970\n",
      "------------------ logistic regression ----------------\n",
      "          precision  recall  f1-score\n",
      "Fracture      0.960   0.968     0.964\n",
      "Normal        0.968   0.960     0.964\n",
      "macro         0.964   0.964     0.964\n",
      "weighted      0.964   0.964     0.964\n",
      "------------------ K Nearest neighbors ----------------\n",
      "          precision  recall  f1-score\n",
      "Fracture      0.966   0.948     0.958\n",
      "Normal        0.952   0.970     0.960\n",
      "macro         0.958   0.960     0.958\n",
      "weighted      0.960   0.958     0.958\n"
     ]
    }
   ],
   "source": [
    "for clf in ['Decision Tree','SVM',\"logistic regression\",'K Nearest neighbors']:\n",
    "    print('------------------',clf,'----------------')\n",
    "    print(clf_report[0][clf][0])"
   ]
  },
  {
   "cell_type": "code",
   "execution_count": 9,
   "id": "threatened-publisher",
   "metadata": {},
   "outputs": [
    {
     "data": {
      "text/html": [
       "<div>\n",
       "<style scoped>\n",
       "    .dataframe tbody tr th:only-of-type {\n",
       "        vertical-align: middle;\n",
       "    }\n",
       "\n",
       "    .dataframe tbody tr th {\n",
       "        vertical-align: top;\n",
       "    }\n",
       "\n",
       "    .dataframe thead th {\n",
       "        text-align: right;\n",
       "    }\n",
       "</style>\n",
       "<table border=\"1\" class=\"dataframe\">\n",
       "  <thead>\n",
       "    <tr style=\"text-align: right;\">\n",
       "      <th></th>\n",
       "      <th>DT</th>\n",
       "      <th>SVM</th>\n",
       "      <th>LR</th>\n",
       "      <th>KNN</th>\n",
       "    </tr>\n",
       "  </thead>\n",
       "  <tbody>\n",
       "    <tr>\n",
       "      <th>0</th>\n",
       "      <td>0.85</td>\n",
       "      <td>0.85</td>\n",
       "      <td>0.82</td>\n",
       "      <td>0.82</td>\n",
       "    </tr>\n",
       "    <tr>\n",
       "      <th>1</th>\n",
       "      <td>0.97</td>\n",
       "      <td>1.00</td>\n",
       "      <td>1.00</td>\n",
       "      <td>0.97</td>\n",
       "    </tr>\n",
       "    <tr>\n",
       "      <th>2</th>\n",
       "      <td>1.00</td>\n",
       "      <td>1.00</td>\n",
       "      <td>1.00</td>\n",
       "      <td>1.00</td>\n",
       "    </tr>\n",
       "    <tr>\n",
       "      <th>3</th>\n",
       "      <td>1.00</td>\n",
       "      <td>1.00</td>\n",
       "      <td>1.00</td>\n",
       "      <td>1.00</td>\n",
       "    </tr>\n",
       "    <tr>\n",
       "      <th>4</th>\n",
       "      <td>1.00</td>\n",
       "      <td>1.00</td>\n",
       "      <td>1.00</td>\n",
       "      <td>1.00</td>\n",
       "    </tr>\n",
       "    <tr>\n",
       "      <th>mean</th>\n",
       "      <td>0.964</td>\n",
       "      <td>0.97</td>\n",
       "      <td>0.964</td>\n",
       "      <td>0.958</td>\n",
       "    </tr>\n",
       "  </tbody>\n",
       "</table>\n",
       "</div>"
      ],
      "text/plain": [
       "         DT   SVM     LR    KNN\n",
       "0      0.85  0.85   0.82   0.82\n",
       "1      0.97  1.00   1.00   0.97\n",
       "2      1.00  1.00   1.00   1.00\n",
       "3      1.00  1.00   1.00   1.00\n",
       "4      1.00  1.00   1.00   1.00\n",
       "mean  0.964  0.97  0.964  0.958"
      ]
     },
     "execution_count": 9,
     "metadata": {},
     "output_type": "execute_result"
    }
   ],
   "source": [
    "#aacuracy\n",
    "clf_report[1]"
   ]
  },
  {
   "cell_type": "markdown",
   "id": "periodic-destruction",
   "metadata": {},
   "source": [
    "# SqueezeNet"
   ]
  },
  {
   "cell_type": "code",
   "execution_count": 10,
   "id": "considerable-church",
   "metadata": {},
   "outputs": [
    {
     "name": "stdout",
     "output_type": "stream",
     "text": [
      "Wall time: 17min 46s\n"
     ]
    }
   ],
   "source": [
    "%%time\n",
    "train_cv,clf_report=kfoldcv(model=squeezenet1_1(),epochs=50,batchsize=8,data=data,lr=0.001,skip_tuning=False)"
   ]
  },
  {
   "cell_type": "code",
   "execution_count": 11,
   "id": "sharing-guess",
   "metadata": {},
   "outputs": [
    {
     "name": "stdout",
     "output_type": "stream",
     "text": [
      "------------------ Decision Tree ----------------\n",
      "          precision  recall  f1-score\n",
      "Fracture      0.968   0.958     0.964\n",
      "Normal        0.960   0.970     0.964\n",
      "macro         0.964   0.966     0.964\n",
      "weighted      0.966   0.964     0.964\n",
      "------------------ SVM ----------------\n",
      "          precision  recall  f1-score\n",
      "Fracture      0.948   0.978     0.962\n",
      "Normal        0.976   0.940     0.956\n",
      "macro         0.962   0.960     0.958\n",
      "weighted      0.962   0.958     0.958\n",
      "------------------ logistic regression ----------------\n",
      "          precision  recall  f1-score\n",
      "Fracture      0.932   0.948     0.940\n",
      "Normal        0.946   0.928     0.936\n",
      "macro         0.940   0.938     0.938\n",
      "weighted      0.938   0.938     0.938\n",
      "------------------ K Nearest neighbors ----------------\n",
      "          precision  recall  f1-score\n",
      "Fracture      0.952   0.958     0.954\n",
      "Normal        0.960   0.946     0.952\n",
      "macro         0.954   0.952     0.954\n",
      "weighted      0.954   0.954     0.954\n"
     ]
    }
   ],
   "source": [
    "for clf in ['Decision Tree','SVM',\"logistic regression\",'K Nearest neighbors']:\n",
    "    print('------------------',clf,'----------------')\n",
    "    print(clf_report[0][clf][0])"
   ]
  },
  {
   "cell_type": "code",
   "execution_count": 12,
   "id": "pressing-choir",
   "metadata": {},
   "outputs": [
    {
     "data": {
      "text/html": [
       "<div>\n",
       "<style scoped>\n",
       "    .dataframe tbody tr th:only-of-type {\n",
       "        vertical-align: middle;\n",
       "    }\n",
       "\n",
       "    .dataframe tbody tr th {\n",
       "        vertical-align: top;\n",
       "    }\n",
       "\n",
       "    .dataframe thead th {\n",
       "        text-align: right;\n",
       "    }\n",
       "</style>\n",
       "<table border=\"1\" class=\"dataframe\">\n",
       "  <thead>\n",
       "    <tr style=\"text-align: right;\">\n",
       "      <th></th>\n",
       "      <th>DT</th>\n",
       "      <th>SVM</th>\n",
       "      <th>LR</th>\n",
       "      <th>KNN</th>\n",
       "    </tr>\n",
       "  </thead>\n",
       "  <tbody>\n",
       "    <tr>\n",
       "      <th>0</th>\n",
       "      <td>0.85</td>\n",
       "      <td>0.79</td>\n",
       "      <td>0.77</td>\n",
       "      <td>0.87</td>\n",
       "    </tr>\n",
       "    <tr>\n",
       "      <th>1</th>\n",
       "      <td>0.97</td>\n",
       "      <td>1.00</td>\n",
       "      <td>0.92</td>\n",
       "      <td>0.90</td>\n",
       "    </tr>\n",
       "    <tr>\n",
       "      <th>2</th>\n",
       "      <td>1.00</td>\n",
       "      <td>1.00</td>\n",
       "      <td>1.00</td>\n",
       "      <td>1.00</td>\n",
       "    </tr>\n",
       "    <tr>\n",
       "      <th>3</th>\n",
       "      <td>1.00</td>\n",
       "      <td>1.00</td>\n",
       "      <td>1.00</td>\n",
       "      <td>1.00</td>\n",
       "    </tr>\n",
       "    <tr>\n",
       "      <th>4</th>\n",
       "      <td>1.00</td>\n",
       "      <td>1.00</td>\n",
       "      <td>1.00</td>\n",
       "      <td>1.00</td>\n",
       "    </tr>\n",
       "    <tr>\n",
       "      <th>mean</th>\n",
       "      <td>0.964</td>\n",
       "      <td>0.958</td>\n",
       "      <td>0.938</td>\n",
       "      <td>0.954</td>\n",
       "    </tr>\n",
       "  </tbody>\n",
       "</table>\n",
       "</div>"
      ],
      "text/plain": [
       "         DT    SVM     LR    KNN\n",
       "0      0.85   0.79   0.77   0.87\n",
       "1      0.97   1.00   0.92   0.90\n",
       "2      1.00   1.00   1.00   1.00\n",
       "3      1.00   1.00   1.00   1.00\n",
       "4      1.00   1.00   1.00   1.00\n",
       "mean  0.964  0.958  0.938  0.954"
      ]
     },
     "execution_count": 12,
     "metadata": {},
     "output_type": "execute_result"
    }
   ],
   "source": [
    "#aacuracy\n",
    "clf_report[1]"
   ]
  },
  {
   "cell_type": "markdown",
   "id": "forbidden-marketing",
   "metadata": {},
   "source": [
    "# ShuffleNet"
   ]
  },
  {
   "cell_type": "code",
   "execution_count": null,
   "id": "necessary-clause",
   "metadata": {},
   "outputs": [],
   "source": [
    "%%time\n",
    "train_cv,clf_report=kfoldcv(model=shufflenet_v2_x0_5(),epochs=50,batchsize=8,data=data,lr=0.001,skip_tuning=True)"
   ]
  },
  {
   "cell_type": "code",
   "execution_count": null,
   "id": "capable-simple",
   "metadata": {},
   "outputs": [],
   "source": [
    "for clf in ['Decision Tree','SVM',\"logistic regression\",'K Nearest neighbors']:\n",
    "    print('------------------',clf,'----------------')\n",
    "    print(clf_report[0][clf][0])"
   ]
  },
  {
   "cell_type": "code",
   "execution_count": null,
   "id": "guilty-constraint",
   "metadata": {},
   "outputs": [],
   "source": [
    "#aacuracy\n",
    "clf_report[1]"
   ]
  },
  {
   "cell_type": "markdown",
   "id": "controlling-hollywood",
   "metadata": {},
   "source": [
    "# Mnasnet"
   ]
  },
  {
   "cell_type": "code",
   "execution_count": null,
   "id": "continent-investigator",
   "metadata": {},
   "outputs": [],
   "source": [
    "%%time\n",
    "train_cv,clf_report=kfoldcv(model=mnasnet0_5(),epochs=50,batchsize=8,data=data,lr=0.001,skip_tuning=True)"
   ]
  },
  {
   "cell_type": "code",
   "execution_count": null,
   "id": "suitable-grill",
   "metadata": {},
   "outputs": [],
   "source": [
    "for clf in ['Decision Tree','SVM',\"logistic regression\",'K Nearest neighbors']:\n",
    "    print('------------------',clf,'----------------')\n",
    "    print(clf_report[0][clf][0])"
   ]
  },
  {
   "cell_type": "code",
   "execution_count": null,
   "id": "pursuant-burke",
   "metadata": {},
   "outputs": [],
   "source": [
    "#aacuracy\n",
    "clf_report[1]"
   ]
  },
  {
   "cell_type": "markdown",
   "id": "needed-investor",
   "metadata": {},
   "source": [
    "# MobileNet"
   ]
  },
  {
   "cell_type": "code",
   "execution_count": null,
   "id": "excited-habitat",
   "metadata": {},
   "outputs": [],
   "source": [
    "%%time\n",
    "train_cv,clf_report=kfoldcv(model=mobilenet(),epochs=50,batchsize=8,data=data,lr=0.001,skip_tuning=True)"
   ]
  },
  {
   "cell_type": "code",
   "execution_count": null,
   "id": "unable-whale",
   "metadata": {},
   "outputs": [],
   "source": [
    "for clf in ['Decision Tree','SVM',\"logistic regression\",'K Nearest neighbors']:\n",
    "    print('------------------',clf,'----------------')\n",
    "    print(clf_report[0][clf][0])"
   ]
  },
  {
   "cell_type": "code",
   "execution_count": null,
   "id": "weighted-incentive",
   "metadata": {},
   "outputs": [],
   "source": [
    "#aacuracy\n",
    "clf_report[1]"
   ]
  },
  {
   "cell_type": "markdown",
   "id": "plain-syndicate",
   "metadata": {},
   "source": [
    "# DenseNet121"
   ]
  },
  {
   "cell_type": "code",
   "execution_count": null,
   "id": "scheduled-synthetic",
   "metadata": {},
   "outputs": [],
   "source": [
    "%%time\n",
    "train_cv,clf_report=kfoldcv(model=densenet121(),epochs=50,batchsize=8,data=data,lr=0.001,skip_tuning=True)"
   ]
  },
  {
   "cell_type": "code",
   "execution_count": null,
   "id": "important-blade",
   "metadata": {},
   "outputs": [],
   "source": [
    "for clf in ['Decision Tree','SVM',\"logistic regression\",'K Nearest neighbors']:\n",
    "    print('------------------',clf,'----------------')\n",
    "    print(clf_report[0][clf][0])"
   ]
  },
  {
   "cell_type": "code",
   "execution_count": null,
   "id": "structural-scott",
   "metadata": {},
   "outputs": [],
   "source": [
    "#aacuracy\n",
    "clf_report[1]"
   ]
  },
  {
   "cell_type": "code",
   "execution_count": null,
   "id": "overhead-nickel",
   "metadata": {},
   "outputs": [],
   "source": []
  }
 ],
 "metadata": {
  "kernelspec": {
   "display_name": "Python 3",
   "language": "python",
   "name": "python3"
  },
  "language_info": {
   "codemirror_mode": {
    "name": "ipython",
    "version": 3
   },
   "file_extension": ".py",
   "mimetype": "text/x-python",
   "name": "python",
   "nbconvert_exporter": "python",
   "pygments_lexer": "ipython3",
   "version": "3.7.9"
  }
 },
 "nbformat": 4,
 "nbformat_minor": 5
}
