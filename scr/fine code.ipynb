{
 "cells": [
  {
   "cell_type": "code",
   "execution_count": 1,
   "metadata": {},
   "outputs": [],
   "source": [
    "#initialize model\n",
    "from loss import ContrastiveLoss\n",
    "import torch\n",
    "from ml_training import *\n",
    "from dl_training import *\n"
   ]
  },
  {
   "cell_type": "code",
   "execution_count": 2,
   "metadata": {},
   "outputs": [],
   "source": [
    "def count_parameters(model):\n",
    "    return sum(p.numel() for p in model.parameters() if p.requires_grad)"
   ]
  },
  {
   "cell_type": "markdown",
   "metadata": {},
   "source": [
    "# Resnet 50"
   ]
  },
  {
   "cell_type": "code",
   "execution_count": 3,
   "metadata": {},
   "outputs": [
    {
     "name": "stdout",
     "output_type": "stream",
     "text": [
      "24577408\n"
     ]
    }
   ],
   "source": [
    "from models.resnet import ResNet50\n",
    "criterion=ContrastiveLoss()\n",
    "res50_model=ResNet50()\n",
    "opt=torch.optim.Adam(params=res50_model.parameters(),lr=0.0001)\n",
    "print(count_parameters(res50_model))"
   ]
  },
  {
   "cell_type": "code",
   "execution_count": 4,
   "metadata": {},
   "outputs": [],
   "source": [
    "#train model\n",
    "res50_model_trained=train_dl(50,res50_model,\"cuda\",criterion,opt)"
   ]
  },
  {
   "cell_type": "code",
   "execution_count": 5,
   "metadata": {},
   "outputs": [],
   "source": [
    "#extract features\n",
    "fracture=get_features('../dataset/train/Fracture',res50_model_trained)\n",
    "normal= get_features('../dataset/train/Normal',res50_model_trained)"
   ]
  },
  {
   "cell_type": "code",
   "execution_count": 6,
   "metadata": {},
   "outputs": [],
   "source": [
    "#features and labels\n",
    "feature=np.array(fracture+normal)\n",
    "label=np.array([0]*len(normal)+[1]*len(fracture))"
   ]
  },
  {
   "cell_type": "code",
   "execution_count": 7,
   "metadata": {},
   "outputs": [],
   "source": [
    "#tune ml hyper parameters\n",
    "dt_clf,_=classifiers_tuning('dt',feature,label)\n",
    "svm_clf,_=classifiers_tuning('svm',feature,label)\n",
    "knn_clf,_=classifiers_tuning('knn',feature,label)\n",
    "lr_clf,_=classifiers_tuning('lr',feature,label)"
   ]
  },
  {
   "cell_type": "code",
   "execution_count": 8,
   "metadata": {},
   "outputs": [
    {
     "data": {
      "text/html": [
       "<div>\n",
       "<style scoped>\n",
       "    .dataframe tbody tr th:only-of-type {\n",
       "        vertical-align: middle;\n",
       "    }\n",
       "\n",
       "    .dataframe tbody tr th {\n",
       "        vertical-align: top;\n",
       "    }\n",
       "\n",
       "    .dataframe thead th {\n",
       "        text-align: right;\n",
       "    }\n",
       "</style>\n",
       "<table border=\"1\" class=\"dataframe\">\n",
       "  <thead>\n",
       "    <tr style=\"text-align: right;\">\n",
       "      <th></th>\n",
       "      <th>dt</th>\n",
       "      <th>svm</th>\n",
       "      <th>lr</th>\n",
       "      <th>knn</th>\n",
       "    </tr>\n",
       "  </thead>\n",
       "  <tbody>\n",
       "    <tr>\n",
       "      <th>fit_time</th>\n",
       "      <td>0.008287</td>\n",
       "      <td>0.118387</td>\n",
       "      <td>0.018148</td>\n",
       "      <td>0.014547</td>\n",
       "    </tr>\n",
       "    <tr>\n",
       "      <th>score_time</th>\n",
       "      <td>0.007573</td>\n",
       "      <td>0.010372</td>\n",
       "      <td>0.007786</td>\n",
       "      <td>0.016194</td>\n",
       "    </tr>\n",
       "    <tr>\n",
       "      <th>test_accuracy</th>\n",
       "      <td>0.815330</td>\n",
       "      <td>0.821569</td>\n",
       "      <td>0.791622</td>\n",
       "      <td>0.815686</td>\n",
       "    </tr>\n",
       "    <tr>\n",
       "      <th>train_accuracy</th>\n",
       "      <td>0.896184</td>\n",
       "      <td>1.000000</td>\n",
       "      <td>0.881123</td>\n",
       "      <td>0.805878</td>\n",
       "    </tr>\n",
       "    <tr>\n",
       "      <th>test_precision_macro</th>\n",
       "      <td>0.844632</td>\n",
       "      <td>0.844360</td>\n",
       "      <td>0.808635</td>\n",
       "      <td>0.830094</td>\n",
       "    </tr>\n",
       "    <tr>\n",
       "      <th>train_precision_macro</th>\n",
       "      <td>0.900889</td>\n",
       "      <td>1.000000</td>\n",
       "      <td>0.879435</td>\n",
       "      <td>0.820912</td>\n",
       "    </tr>\n",
       "    <tr>\n",
       "      <th>test_recall_macro</th>\n",
       "      <td>0.833797</td>\n",
       "      <td>0.831541</td>\n",
       "      <td>0.794211</td>\n",
       "      <td>0.834060</td>\n",
       "    </tr>\n",
       "    <tr>\n",
       "      <th>train_recall_macro</th>\n",
       "      <td>0.908843</td>\n",
       "      <td>1.000000</td>\n",
       "      <td>0.887107</td>\n",
       "      <td>0.822573</td>\n",
       "    </tr>\n",
       "    <tr>\n",
       "      <th>test_f1_macro</th>\n",
       "      <td>0.804429</td>\n",
       "      <td>0.810685</td>\n",
       "      <td>0.777894</td>\n",
       "      <td>0.803919</td>\n",
       "    </tr>\n",
       "    <tr>\n",
       "      <th>train_f1_macro</th>\n",
       "      <td>0.895841</td>\n",
       "      <td>1.000000</td>\n",
       "      <td>0.880010</td>\n",
       "      <td>0.805613</td>\n",
       "    </tr>\n",
       "  </tbody>\n",
       "</table>\n",
       "</div>"
      ],
      "text/plain": [
       "                             dt       svm        lr       knn\n",
       "fit_time               0.008287  0.118387  0.018148  0.014547\n",
       "score_time             0.007573  0.010372  0.007786  0.016194\n",
       "test_accuracy          0.815330  0.821569  0.791622  0.815686\n",
       "train_accuracy         0.896184  1.000000  0.881123  0.805878\n",
       "test_precision_macro   0.844632  0.844360  0.808635  0.830094\n",
       "train_precision_macro  0.900889  1.000000  0.879435  0.820912\n",
       "test_recall_macro      0.833797  0.831541  0.794211  0.834060\n",
       "train_recall_macro     0.908843  1.000000  0.887107  0.822573\n",
       "test_f1_macro          0.804429  0.810685  0.777894  0.803919\n",
       "train_f1_macro         0.895841  1.000000  0.880010  0.805613"
      ]
     },
     "execution_count": 8,
     "metadata": {},
     "output_type": "execute_result"
    }
   ],
   "source": [
    "#display 5 fold cross validation result\n",
    "dt_result=display_result(dt_clf,feature,label)\n",
    "svm_result=display_result(svm_clf,feature,label)\n",
    "knn_result=display_result(knn_clf,feature,label)\n",
    "lr_result=display_result(lr_clf,feature,label)\n",
    "df=pd.DataFrame(zip(dt_result,svm_result,lr_result,knn_result),index=dt_result.index,columns=['dt','svm','lr','knn'])\n",
    "df\n"
   ]
  },
  {
   "cell_type": "code",
   "execution_count": 9,
   "metadata": {},
   "outputs": [],
   "source": [
    "#embeddings of test data\n",
    "test_fracture=get_features('../dataset/test/Fracture',res50_model_trained)\n",
    "test_normal= get_features('../dataset/test/Normal',res50_model_trained)\n",
    "test_feature=np.array(test_fracture+test_normal)\n",
    "test_label=np.array([0]*len(test_normal)+[1]*len(test_fracture))"
   ]
  },
  {
   "cell_type": "code",
   "execution_count": 10,
   "metadata": {},
   "outputs": [],
   "source": [
    "#scale the data\n",
    "scaler=StandardScaler()\n",
    "feature=scaler.fit_transform(feature)\n",
    "test_feature=scaler.transform(test_feature)"
   ]
  },
  {
   "cell_type": "code",
   "execution_count": 11,
   "metadata": {
    "scrolled": false
   },
   "outputs": [
    {
     "name": "stdout",
     "output_type": "stream",
     "text": [
      "-----------------Decision Tree--------------\n",
      "              precision    recall  f1-score   support\n",
      "\n",
      "           0       0.58      0.58      0.58        12\n",
      "           1       0.67      0.67      0.67        15\n",
      "\n",
      "    accuracy                           0.63        27\n",
      "   macro avg       0.62      0.62      0.62        27\n",
      "weighted avg       0.63      0.63      0.63        27\n",
      "\n",
      "-----------------SVM--------------\n",
      "              precision    recall  f1-score   support\n",
      "\n",
      "           0       0.54      0.58      0.56        12\n",
      "           1       0.64      0.60      0.62        15\n",
      "\n",
      "    accuracy                           0.59        27\n",
      "   macro avg       0.59      0.59      0.59        27\n",
      "weighted avg       0.60      0.59      0.59        27\n",
      "\n",
      "-----------------logistic regression--------------\n",
      "              precision    recall  f1-score   support\n",
      "\n",
      "           0       0.75      0.75      0.75        12\n",
      "           1       0.80      0.80      0.80        15\n",
      "\n",
      "    accuracy                           0.78        27\n",
      "   macro avg       0.78      0.78      0.78        27\n",
      "weighted avg       0.78      0.78      0.78        27\n",
      "\n",
      "-----------------K Nearest neighbors--------------\n",
      "              precision    recall  f1-score   support\n",
      "\n",
      "           0       0.67      0.83      0.74        12\n",
      "           1       0.83      0.67      0.74        15\n",
      "\n",
      "    accuracy                           0.74        27\n",
      "   macro avg       0.75      0.75      0.74        27\n",
      "weighted avg       0.76      0.74      0.74        27\n",
      "\n"
     ]
    }
   ],
   "source": [
    "for clf_model,clf_name in zip([dt_clf,svm_clf,lr_clf,knn_clf],\\\n",
    "                              ['Decision Tree','SVM',\"logistic regression\",'K Nearest neighbors']):\n",
    "    print('-----------------{}--------------'.format(clf_name))\n",
    "    clf_model.fit(feature,label)\n",
    "    test_pred=clf_model.predict(test_feature)\n",
    "    print(classification_report(test_label,test_pred))"
   ]
  },
  {
   "cell_type": "markdown",
   "metadata": {},
   "source": [
    "# mobile net"
   ]
  },
  {
   "cell_type": "code",
   "execution_count": 12,
   "metadata": {},
   "outputs": [
    {
     "name": "stdout",
     "output_type": "stream",
     "text": [
      "2879168\n"
     ]
    }
   ],
   "source": [
    "from models.mobilenet import MobileNetV2\n",
    "criterion=ContrastiveLoss()\n",
    "mobilenet=MobileNetV2()\n",
    "opt=torch.optim.Adam(params=mobilenet.parameters(),lr=0.0001)\n",
    "print(count_parameters(mobilenet))"
   ]
  },
  {
   "cell_type": "code",
   "execution_count": 13,
   "metadata": {},
   "outputs": [],
   "source": [
    "#train model\n",
    "mobilenet_trained=train_dl(50,mobilenet,\"cuda\",criterion,opt)\n"
   ]
  },
  {
   "cell_type": "code",
   "execution_count": 14,
   "metadata": {},
   "outputs": [],
   "source": [
    "#extract features\n",
    "fracture=get_features('../dataset/train/Fracture',mobilenet_trained)\n",
    "normal= get_features('../dataset/train/Normal',mobilenet_trained)"
   ]
  },
  {
   "cell_type": "code",
   "execution_count": 15,
   "metadata": {},
   "outputs": [],
   "source": [
    "#features and labels\n",
    "feature=np.array(fracture+normal)\n",
    "label=np.array([0]*len(normal)+[1]*len(fracture))"
   ]
  },
  {
   "cell_type": "code",
   "execution_count": 16,
   "metadata": {},
   "outputs": [],
   "source": [
    "#tune ml hyper parameters\n",
    "dt_clf,_=classifiers_tuning('dt',feature,label)\n",
    "svm_clf,_=classifiers_tuning('svm',feature,label)\n",
    "knn_clf,_=classifiers_tuning('knn',feature,label)\n",
    "lr_clf,_=classifiers_tuning('lr',feature,label)"
   ]
  },
  {
   "cell_type": "code",
   "execution_count": 17,
   "metadata": {},
   "outputs": [
    {
     "data": {
      "text/html": [
       "<div>\n",
       "<style scoped>\n",
       "    .dataframe tbody tr th:only-of-type {\n",
       "        vertical-align: middle;\n",
       "    }\n",
       "\n",
       "    .dataframe tbody tr th {\n",
       "        vertical-align: top;\n",
       "    }\n",
       "\n",
       "    .dataframe thead th {\n",
       "        text-align: right;\n",
       "    }\n",
       "</style>\n",
       "<table border=\"1\" class=\"dataframe\">\n",
       "  <thead>\n",
       "    <tr style=\"text-align: right;\">\n",
       "      <th></th>\n",
       "      <th>dt</th>\n",
       "      <th>svm</th>\n",
       "      <th>lr</th>\n",
       "      <th>knn</th>\n",
       "    </tr>\n",
       "  </thead>\n",
       "  <tbody>\n",
       "    <tr>\n",
       "      <th>fit_time</th>\n",
       "      <td>0.009816</td>\n",
       "      <td>0.118514</td>\n",
       "      <td>0.021947</td>\n",
       "      <td>0.014170</td>\n",
       "    </tr>\n",
       "    <tr>\n",
       "      <th>score_time</th>\n",
       "      <td>0.006596</td>\n",
       "      <td>0.010030</td>\n",
       "      <td>0.006425</td>\n",
       "      <td>0.013784</td>\n",
       "    </tr>\n",
       "    <tr>\n",
       "      <th>test_accuracy</th>\n",
       "      <td>0.602496</td>\n",
       "      <td>0.619964</td>\n",
       "      <td>0.607843</td>\n",
       "      <td>0.590018</td>\n",
       "    </tr>\n",
       "    <tr>\n",
       "      <th>train_accuracy</th>\n",
       "      <td>0.911005</td>\n",
       "      <td>1.000000</td>\n",
       "      <td>1.000000</td>\n",
       "      <td>0.730383</td>\n",
       "    </tr>\n",
       "    <tr>\n",
       "      <th>test_precision_macro</th>\n",
       "      <td>0.592568</td>\n",
       "      <td>0.607448</td>\n",
       "      <td>0.594015</td>\n",
       "      <td>0.579702</td>\n",
       "    </tr>\n",
       "    <tr>\n",
       "      <th>train_precision_macro</th>\n",
       "      <td>0.910100</td>\n",
       "      <td>1.000000</td>\n",
       "      <td>1.000000</td>\n",
       "      <td>0.730829</td>\n",
       "    </tr>\n",
       "    <tr>\n",
       "      <th>test_recall_macro</th>\n",
       "      <td>0.592444</td>\n",
       "      <td>0.603947</td>\n",
       "      <td>0.589662</td>\n",
       "      <td>0.565827</td>\n",
       "    </tr>\n",
       "    <tr>\n",
       "      <th>train_recall_macro</th>\n",
       "      <td>0.911953</td>\n",
       "      <td>1.000000</td>\n",
       "      <td>1.000000</td>\n",
       "      <td>0.711287</td>\n",
       "    </tr>\n",
       "    <tr>\n",
       "      <th>test_f1_macro</th>\n",
       "      <td>0.592278</td>\n",
       "      <td>0.601139</td>\n",
       "      <td>0.583623</td>\n",
       "      <td>0.562908</td>\n",
       "    </tr>\n",
       "    <tr>\n",
       "      <th>train_f1_macro</th>\n",
       "      <td>0.909256</td>\n",
       "      <td>1.000000</td>\n",
       "      <td>1.000000</td>\n",
       "      <td>0.713895</td>\n",
       "    </tr>\n",
       "  </tbody>\n",
       "</table>\n",
       "</div>"
      ],
      "text/plain": [
       "                             dt       svm        lr       knn\n",
       "fit_time               0.009816  0.118514  0.021947  0.014170\n",
       "score_time             0.006596  0.010030  0.006425  0.013784\n",
       "test_accuracy          0.602496  0.619964  0.607843  0.590018\n",
       "train_accuracy         0.911005  1.000000  1.000000  0.730383\n",
       "test_precision_macro   0.592568  0.607448  0.594015  0.579702\n",
       "train_precision_macro  0.910100  1.000000  1.000000  0.730829\n",
       "test_recall_macro      0.592444  0.603947  0.589662  0.565827\n",
       "train_recall_macro     0.911953  1.000000  1.000000  0.711287\n",
       "test_f1_macro          0.592278  0.601139  0.583623  0.562908\n",
       "train_f1_macro         0.909256  1.000000  1.000000  0.713895"
      ]
     },
     "execution_count": 17,
     "metadata": {},
     "output_type": "execute_result"
    }
   ],
   "source": [
    "#display 5 fold cross validation result\n",
    "dt_result=display_result(dt_clf,feature,label)\n",
    "svm_result=display_result(svm_clf,feature,label)\n",
    "knn_result=display_result(knn_clf,feature,label)\n",
    "lr_result=display_result(lr_clf,feature,label)\n",
    "df=pd.DataFrame(zip(dt_result,svm_result,lr_result,knn_result),index=dt_result.index,columns=['dt','svm','lr','knn'])\n",
    "df\n"
   ]
  },
  {
   "cell_type": "code",
   "execution_count": 18,
   "metadata": {},
   "outputs": [],
   "source": [
    "#embeddings of test data\n",
    "test_fracture=get_features('../dataset/test/Fracture',mobilenet_trained)\n",
    "test_normal= get_features('../dataset/test/Normal',mobilenet_trained)\n",
    "test_feature=np.array(test_fracture+test_normal)\n",
    "test_label=np.array([0]*len(test_normal)+[1]*len(test_fracture))"
   ]
  },
  {
   "cell_type": "code",
   "execution_count": 19,
   "metadata": {},
   "outputs": [],
   "source": [
    "#scale the data\n",
    "scaler=StandardScaler()\n",
    "feature=scaler.fit_transform(feature)\n",
    "test_feature=scaler.transform(test_feature)"
   ]
  },
  {
   "cell_type": "code",
   "execution_count": 20,
   "metadata": {},
   "outputs": [
    {
     "name": "stdout",
     "output_type": "stream",
     "text": [
      "-----------------Decision Tree--------------\n",
      "              precision    recall  f1-score   support\n",
      "\n",
      "           0       0.69      0.75      0.72        12\n",
      "           1       0.79      0.73      0.76        15\n",
      "\n",
      "    accuracy                           0.74        27\n",
      "   macro avg       0.74      0.74      0.74        27\n",
      "weighted avg       0.74      0.74      0.74        27\n",
      "\n",
      "-----------------SVM--------------\n",
      "              precision    recall  f1-score   support\n",
      "\n",
      "           0       0.67      0.50      0.57        12\n",
      "           1       0.67      0.80      0.73        15\n",
      "\n",
      "    accuracy                           0.67        27\n",
      "   macro avg       0.67      0.65      0.65        27\n",
      "weighted avg       0.67      0.67      0.66        27\n",
      "\n",
      "-----------------logistic regression--------------\n",
      "              precision    recall  f1-score   support\n",
      "\n",
      "           0       0.67      0.50      0.57        12\n",
      "           1       0.67      0.80      0.73        15\n",
      "\n",
      "    accuracy                           0.67        27\n",
      "   macro avg       0.67      0.65      0.65        27\n",
      "weighted avg       0.67      0.67      0.66        27\n",
      "\n",
      "-----------------K Nearest neighbors--------------\n",
      "              precision    recall  f1-score   support\n",
      "\n",
      "           0       0.71      0.42      0.53        12\n",
      "           1       0.65      0.87      0.74        15\n",
      "\n",
      "    accuracy                           0.67        27\n",
      "   macro avg       0.68      0.64      0.63        27\n",
      "weighted avg       0.68      0.67      0.65        27\n",
      "\n"
     ]
    }
   ],
   "source": [
    "for clf_model,clf_name in zip([dt_clf,svm_clf,lr_clf,knn_clf],\\\n",
    "                              ['Decision Tree','SVM',\"logistic regression\",'K Nearest neighbors']):\n",
    "    print('-----------------{}--------------'.format(clf_name))\n",
    "    clf_model.fit(feature,label)\n",
    "    test_pred=clf_model.predict(test_feature)\n",
    "    print(classification_report(test_label,test_pred))"
   ]
  },
  {
   "cell_type": "code",
   "execution_count": null,
   "metadata": {},
   "outputs": [],
   "source": []
  },
  {
   "cell_type": "markdown",
   "metadata": {},
   "source": [
    "# Squeeze net"
   ]
  },
  {
   "cell_type": "code",
   "execution_count": 21,
   "metadata": {},
   "outputs": [
    {
     "name": "stdout",
     "output_type": "stream",
     "text": [
      "984000\n"
     ]
    }
   ],
   "source": [
    "from models.squeezenet import SqueezeNetV1\n",
    "criterion=ContrastiveLoss()\n",
    "squeezenet=SqueezeNetV1()\n",
    "opt=torch.optim.Adam(params=squeezenet.parameters(),lr=0.0001)\n",
    "print(count_parameters(squeezenet))"
   ]
  },
  {
   "cell_type": "code",
   "execution_count": 22,
   "metadata": {},
   "outputs": [],
   "source": [
    "#train model\n",
    "squeezenet_trained=train_dl(50,squeezenet,\"cuda\",criterion,opt)"
   ]
  },
  {
   "cell_type": "code",
   "execution_count": 23,
   "metadata": {},
   "outputs": [],
   "source": [
    "#extract features\n",
    "fracture=get_features('../dataset/train/Fracture',squeezenet_trained)\n",
    "normal= get_features('../dataset/train/Normal',squeezenet_trained)"
   ]
  },
  {
   "cell_type": "code",
   "execution_count": 24,
   "metadata": {},
   "outputs": [],
   "source": [
    "#features and labels\n",
    "feature=np.array(fracture+normal)\n",
    "label=np.array([0]*len(normal)+[1]*len(fracture))"
   ]
  },
  {
   "cell_type": "code",
   "execution_count": 25,
   "metadata": {},
   "outputs": [],
   "source": [
    "#tune ml hyper parameters\n",
    "dt_clf,_=classifiers_tuning('dt',feature,label)\n",
    "svm_clf,_=classifiers_tuning('svm',feature,label)\n",
    "knn_clf,_=classifiers_tuning('knn',feature,label)\n",
    "lr_clf,_=classifiers_tuning('lr',feature,label)"
   ]
  },
  {
   "cell_type": "code",
   "execution_count": 26,
   "metadata": {},
   "outputs": [
    {
     "data": {
      "text/html": [
       "<div>\n",
       "<style scoped>\n",
       "    .dataframe tbody tr th:only-of-type {\n",
       "        vertical-align: middle;\n",
       "    }\n",
       "\n",
       "    .dataframe tbody tr th {\n",
       "        vertical-align: top;\n",
       "    }\n",
       "\n",
       "    .dataframe thead th {\n",
       "        text-align: right;\n",
       "    }\n",
       "</style>\n",
       "<table border=\"1\" class=\"dataframe\">\n",
       "  <thead>\n",
       "    <tr style=\"text-align: right;\">\n",
       "      <th></th>\n",
       "      <th>dt</th>\n",
       "      <th>svm</th>\n",
       "      <th>lr</th>\n",
       "      <th>knn</th>\n",
       "    </tr>\n",
       "  </thead>\n",
       "  <tbody>\n",
       "    <tr>\n",
       "      <th>fit_time</th>\n",
       "      <td>0.010568</td>\n",
       "      <td>0.102596</td>\n",
       "      <td>0.019949</td>\n",
       "      <td>0.024237</td>\n",
       "    </tr>\n",
       "    <tr>\n",
       "      <th>score_time</th>\n",
       "      <td>0.006738</td>\n",
       "      <td>0.010372</td>\n",
       "      <td>0.007579</td>\n",
       "      <td>0.015765</td>\n",
       "    </tr>\n",
       "    <tr>\n",
       "      <th>test_accuracy</th>\n",
       "      <td>0.754189</td>\n",
       "      <td>0.707130</td>\n",
       "      <td>0.706774</td>\n",
       "      <td>0.731194</td>\n",
       "    </tr>\n",
       "    <tr>\n",
       "      <th>train_accuracy</th>\n",
       "      <td>0.819424</td>\n",
       "      <td>0.799784</td>\n",
       "      <td>0.826885</td>\n",
       "      <td>0.738095</td>\n",
       "    </tr>\n",
       "    <tr>\n",
       "      <th>test_precision_macro</th>\n",
       "      <td>0.783860</td>\n",
       "      <td>0.720349</td>\n",
       "      <td>0.744494</td>\n",
       "      <td>0.744911</td>\n",
       "    </tr>\n",
       "    <tr>\n",
       "      <th>train_precision_macro</th>\n",
       "      <td>0.845459</td>\n",
       "      <td>0.795902</td>\n",
       "      <td>0.827749</td>\n",
       "      <td>0.733569</td>\n",
       "    </tr>\n",
       "    <tr>\n",
       "      <th>test_recall_macro</th>\n",
       "      <td>0.768308</td>\n",
       "      <td>0.704962</td>\n",
       "      <td>0.689398</td>\n",
       "      <td>0.727632</td>\n",
       "    </tr>\n",
       "    <tr>\n",
       "      <th>train_recall_macro</th>\n",
       "      <td>0.837286</td>\n",
       "      <td>0.798402</td>\n",
       "      <td>0.815499</td>\n",
       "      <td>0.734911</td>\n",
       "    </tr>\n",
       "    <tr>\n",
       "      <th>test_f1_macro</th>\n",
       "      <td>0.751386</td>\n",
       "      <td>0.697600</td>\n",
       "      <td>0.689153</td>\n",
       "      <td>0.722365</td>\n",
       "    </tr>\n",
       "    <tr>\n",
       "      <th>train_f1_macro</th>\n",
       "      <td>0.818551</td>\n",
       "      <td>0.796206</td>\n",
       "      <td>0.819483</td>\n",
       "      <td>0.733378</td>\n",
       "    </tr>\n",
       "  </tbody>\n",
       "</table>\n",
       "</div>"
      ],
      "text/plain": [
       "                             dt       svm        lr       knn\n",
       "fit_time               0.010568  0.102596  0.019949  0.024237\n",
       "score_time             0.006738  0.010372  0.007579  0.015765\n",
       "test_accuracy          0.754189  0.707130  0.706774  0.731194\n",
       "train_accuracy         0.819424  0.799784  0.826885  0.738095\n",
       "test_precision_macro   0.783860  0.720349  0.744494  0.744911\n",
       "train_precision_macro  0.845459  0.795902  0.827749  0.733569\n",
       "test_recall_macro      0.768308  0.704962  0.689398  0.727632\n",
       "train_recall_macro     0.837286  0.798402  0.815499  0.734911\n",
       "test_f1_macro          0.751386  0.697600  0.689153  0.722365\n",
       "train_f1_macro         0.818551  0.796206  0.819483  0.733378"
      ]
     },
     "execution_count": 26,
     "metadata": {},
     "output_type": "execute_result"
    }
   ],
   "source": [
    "#display 5 fold cross validation result\n",
    "dt_result=display_result(dt_clf,feature,label)\n",
    "svm_result=display_result(svm_clf,feature,label)\n",
    "knn_result=display_result(knn_clf,feature,label)\n",
    "lr_result=display_result(lr_clf,feature,label)\n",
    "df=pd.DataFrame(zip(dt_result,svm_result,lr_result,knn_result),index=dt_result.index,columns=['dt','svm','lr','knn'])\n",
    "df\n"
   ]
  },
  {
   "cell_type": "code",
   "execution_count": 27,
   "metadata": {},
   "outputs": [],
   "source": [
    "#embeddings of test data\n",
    "test_fracture=get_features('../dataset/test/Fracture',squeezenet_trained)\n",
    "test_normal= get_features('../dataset/test/Normal',squeezenet_trained)\n",
    "test_feature=np.array(test_fracture+test_normal)\n",
    "test_label=np.array([0]*len(test_normal)+[1]*len(test_fracture))"
   ]
  },
  {
   "cell_type": "code",
   "execution_count": 28,
   "metadata": {},
   "outputs": [],
   "source": [
    "#scale the data\n",
    "scaler=StandardScaler()\n",
    "feature=scaler.fit_transform(feature)\n",
    "test_feature=scaler.transform(test_feature)"
   ]
  },
  {
   "cell_type": "code",
   "execution_count": 29,
   "metadata": {},
   "outputs": [
    {
     "name": "stdout",
     "output_type": "stream",
     "text": [
      "-----------------Decision Tree--------------\n",
      "              precision    recall  f1-score   support\n",
      "\n",
      "           0       0.50      0.67      0.57        12\n",
      "           1       0.64      0.47      0.54        15\n",
      "\n",
      "    accuracy                           0.56        27\n",
      "   macro avg       0.57      0.57      0.55        27\n",
      "weighted avg       0.58      0.56      0.55        27\n",
      "\n",
      "-----------------SVM--------------\n",
      "              precision    recall  f1-score   support\n",
      "\n",
      "           0       0.62      0.67      0.64        12\n",
      "           1       0.71      0.67      0.69        15\n",
      "\n",
      "    accuracy                           0.67        27\n",
      "   macro avg       0.66      0.67      0.66        27\n",
      "weighted avg       0.67      0.67      0.67        27\n",
      "\n",
      "-----------------logistic regression--------------\n",
      "              precision    recall  f1-score   support\n",
      "\n",
      "           0       0.55      0.50      0.52        12\n",
      "           1       0.62      0.67      0.65        15\n",
      "\n",
      "    accuracy                           0.59        27\n",
      "   macro avg       0.59      0.58      0.58        27\n",
      "weighted avg       0.59      0.59      0.59        27\n",
      "\n",
      "-----------------K Nearest neighbors--------------\n",
      "              precision    recall  f1-score   support\n",
      "\n",
      "           0       0.73      0.67      0.70        12\n",
      "           1       0.75      0.80      0.77        15\n",
      "\n",
      "    accuracy                           0.74        27\n",
      "   macro avg       0.74      0.73      0.73        27\n",
      "weighted avg       0.74      0.74      0.74        27\n",
      "\n"
     ]
    }
   ],
   "source": [
    "for clf_model,clf_name in zip([dt_clf,svm_clf,lr_clf,knn_clf],\\\n",
    "                              ['Decision Tree','SVM',\"logistic regression\",'K Nearest neighbors']):\n",
    "    print('-----------------{}--------------'.format(clf_name))\n",
    "    clf_model.fit(feature,label)\n",
    "    test_pred=clf_model.predict(test_feature)\n",
    "    print(classification_report(test_label,test_pred))"
   ]
  },
  {
   "cell_type": "code",
   "execution_count": null,
   "metadata": {},
   "outputs": [],
   "source": []
  },
  {
   "cell_type": "markdown",
   "metadata": {},
   "source": [
    "# My Model V1"
   ]
  },
  {
   "cell_type": "code",
   "execution_count": 30,
   "metadata": {},
   "outputs": [
    {
     "name": "stdout",
     "output_type": "stream",
     "text": [
      "5781184\n"
     ]
    }
   ],
   "source": [
    "from models.mymodels import SqueezeNetV2\n",
    "criterion=ContrastiveLoss()\n",
    "v2_model=SqueezeNetV2()\n",
    "opt=torch.optim.Adam(params=v2_model.parameters(),lr=0.0001)\n",
    "print(count_parameters(v2_model))"
   ]
  },
  {
   "cell_type": "code",
   "execution_count": 31,
   "metadata": {},
   "outputs": [],
   "source": [
    "#train model\n",
    "v2_model_trained=train_dl(50,v2_model,\"cuda\",criterion,opt)"
   ]
  },
  {
   "cell_type": "code",
   "execution_count": 32,
   "metadata": {},
   "outputs": [],
   "source": [
    "#extract features\n",
    "fracture=get_features('../dataset/train/Fracture',v2_model_trained)\n",
    "normal= get_features('../dataset/train/Normal',v2_model_trained)"
   ]
  },
  {
   "cell_type": "code",
   "execution_count": 33,
   "metadata": {},
   "outputs": [],
   "source": [
    "#features and labels\n",
    "feature=np.array(fracture+normal)\n",
    "label=np.array([0]*len(normal)+[1]*len(fracture))"
   ]
  },
  {
   "cell_type": "code",
   "execution_count": 34,
   "metadata": {},
   "outputs": [],
   "source": [
    "#tune ml hyper parameters\n",
    "dt_clf,_=classifiers_tuning('dt',feature,label)\n",
    "svm_clf,_=classifiers_tuning('svm',feature,label)\n",
    "knn_clf,_=classifiers_tuning('knn',feature,label)\n",
    "lr_clf,_=classifiers_tuning('lr',feature,label)"
   ]
  },
  {
   "cell_type": "code",
   "execution_count": 35,
   "metadata": {},
   "outputs": [
    {
     "data": {
      "text/html": [
       "<div>\n",
       "<style scoped>\n",
       "    .dataframe tbody tr th:only-of-type {\n",
       "        vertical-align: middle;\n",
       "    }\n",
       "\n",
       "    .dataframe tbody tr th {\n",
       "        vertical-align: top;\n",
       "    }\n",
       "\n",
       "    .dataframe thead th {\n",
       "        text-align: right;\n",
       "    }\n",
       "</style>\n",
       "<table border=\"1\" class=\"dataframe\">\n",
       "  <thead>\n",
       "    <tr style=\"text-align: right;\">\n",
       "      <th></th>\n",
       "      <th>dt</th>\n",
       "      <th>svm</th>\n",
       "      <th>lr</th>\n",
       "      <th>knn</th>\n",
       "    </tr>\n",
       "  </thead>\n",
       "  <tbody>\n",
       "    <tr>\n",
       "      <th>fit_time</th>\n",
       "      <td>0.008977</td>\n",
       "      <td>0.088437</td>\n",
       "      <td>0.020541</td>\n",
       "      <td>0.016157</td>\n",
       "    </tr>\n",
       "    <tr>\n",
       "      <th>score_time</th>\n",
       "      <td>0.008377</td>\n",
       "      <td>0.010374</td>\n",
       "      <td>0.007578</td>\n",
       "      <td>0.015666</td>\n",
       "    </tr>\n",
       "    <tr>\n",
       "      <th>test_accuracy</th>\n",
       "      <td>0.803209</td>\n",
       "      <td>0.791087</td>\n",
       "      <td>0.748841</td>\n",
       "      <td>0.796970</td>\n",
       "    </tr>\n",
       "    <tr>\n",
       "      <th>train_accuracy</th>\n",
       "      <td>0.814878</td>\n",
       "      <td>0.781761</td>\n",
       "      <td>0.762224</td>\n",
       "      <td>0.778754</td>\n",
       "    </tr>\n",
       "    <tr>\n",
       "      <th>test_precision_macro</th>\n",
       "      <td>0.808931</td>\n",
       "      <td>0.801821</td>\n",
       "      <td>0.774743</td>\n",
       "      <td>0.809242</td>\n",
       "    </tr>\n",
       "    <tr>\n",
       "      <th>train_precision_macro</th>\n",
       "      <td>0.813288</td>\n",
       "      <td>0.785481</td>\n",
       "      <td>0.756877</td>\n",
       "      <td>0.780961</td>\n",
       "    </tr>\n",
       "    <tr>\n",
       "      <th>test_recall_macro</th>\n",
       "      <td>0.805301</td>\n",
       "      <td>0.796917</td>\n",
       "      <td>0.741278</td>\n",
       "      <td>0.801917</td>\n",
       "    </tr>\n",
       "    <tr>\n",
       "      <th>train_recall_macro</th>\n",
       "      <td>0.817755</td>\n",
       "      <td>0.788192</td>\n",
       "      <td>0.754281</td>\n",
       "      <td>0.785091</td>\n",
       "    </tr>\n",
       "    <tr>\n",
       "      <th>test_f1_macro</th>\n",
       "      <td>0.800354</td>\n",
       "      <td>0.787391</td>\n",
       "      <td>0.735742</td>\n",
       "      <td>0.794126</td>\n",
       "    </tr>\n",
       "    <tr>\n",
       "      <th>train_f1_macro</th>\n",
       "      <td>0.812672</td>\n",
       "      <td>0.780126</td>\n",
       "      <td>0.755318</td>\n",
       "      <td>0.777231</td>\n",
       "    </tr>\n",
       "  </tbody>\n",
       "</table>\n",
       "</div>"
      ],
      "text/plain": [
       "                             dt       svm        lr       knn\n",
       "fit_time               0.008977  0.088437  0.020541  0.016157\n",
       "score_time             0.008377  0.010374  0.007578  0.015666\n",
       "test_accuracy          0.803209  0.791087  0.748841  0.796970\n",
       "train_accuracy         0.814878  0.781761  0.762224  0.778754\n",
       "test_precision_macro   0.808931  0.801821  0.774743  0.809242\n",
       "train_precision_macro  0.813288  0.785481  0.756877  0.780961\n",
       "test_recall_macro      0.805301  0.796917  0.741278  0.801917\n",
       "train_recall_macro     0.817755  0.788192  0.754281  0.785091\n",
       "test_f1_macro          0.800354  0.787391  0.735742  0.794126\n",
       "train_f1_macro         0.812672  0.780126  0.755318  0.777231"
      ]
     },
     "execution_count": 35,
     "metadata": {},
     "output_type": "execute_result"
    }
   ],
   "source": [
    "#display 5 fold cross validation result\n",
    "dt_result=display_result(dt_clf,feature,label)\n",
    "svm_result=display_result(svm_clf,feature,label)\n",
    "knn_result=display_result(knn_clf,feature,label)\n",
    "lr_result=display_result(lr_clf,feature,label)\n",
    "df=pd.DataFrame(zip(dt_result,svm_result,lr_result,knn_result),index=dt_result.index,columns=['dt','svm','lr','knn'])\n",
    "df\n"
   ]
  },
  {
   "cell_type": "code",
   "execution_count": 36,
   "metadata": {},
   "outputs": [],
   "source": [
    "#embeddings of test data\n",
    "test_fracture=get_features('../dataset/test/Fracture',v2_model_trained)\n",
    "test_normal= get_features('../dataset/test/Normal',v2_model_trained)\n",
    "test_feature=np.array(test_fracture+test_normal)\n",
    "test_label=np.array([0]*len(test_normal)+[1]*len(test_fracture))"
   ]
  },
  {
   "cell_type": "code",
   "execution_count": 37,
   "metadata": {},
   "outputs": [],
   "source": [
    "#scale the data\n",
    "scaler=StandardScaler()\n",
    "feature=scaler.fit_transform(feature)\n",
    "test_feature=scaler.transform(test_feature)"
   ]
  },
  {
   "cell_type": "code",
   "execution_count": 38,
   "metadata": {},
   "outputs": [
    {
     "name": "stdout",
     "output_type": "stream",
     "text": [
      "-----------------Decision Tree--------------\n",
      "              precision    recall  f1-score   support\n",
      "\n",
      "           0       0.71      0.83      0.77        12\n",
      "           1       0.85      0.73      0.79        15\n",
      "\n",
      "    accuracy                           0.78        27\n",
      "   macro avg       0.78      0.78      0.78        27\n",
      "weighted avg       0.79      0.78      0.78        27\n",
      "\n",
      "-----------------SVM--------------\n",
      "              precision    recall  f1-score   support\n",
      "\n",
      "           0       0.71      0.83      0.77        12\n",
      "           1       0.85      0.73      0.79        15\n",
      "\n",
      "    accuracy                           0.78        27\n",
      "   macro avg       0.78      0.78      0.78        27\n",
      "weighted avg       0.79      0.78      0.78        27\n",
      "\n",
      "-----------------logistic regression--------------\n",
      "              precision    recall  f1-score   support\n",
      "\n",
      "           0       0.75      0.75      0.75        12\n",
      "           1       0.80      0.80      0.80        15\n",
      "\n",
      "    accuracy                           0.78        27\n",
      "   macro avg       0.78      0.78      0.78        27\n",
      "weighted avg       0.78      0.78      0.78        27\n",
      "\n",
      "-----------------K Nearest neighbors--------------\n",
      "              precision    recall  f1-score   support\n",
      "\n",
      "           0       0.71      0.83      0.77        12\n",
      "           1       0.85      0.73      0.79        15\n",
      "\n",
      "    accuracy                           0.78        27\n",
      "   macro avg       0.78      0.78      0.78        27\n",
      "weighted avg       0.79      0.78      0.78        27\n",
      "\n"
     ]
    }
   ],
   "source": [
    "for clf_model,clf_name in zip([dt_clf,svm_clf,lr_clf,knn_clf],\\\n",
    "                              ['Decision Tree','SVM',\"logistic regression\",'K Nearest neighbors']):\n",
    "    print('-----------------{}--------------'.format(clf_name))\n",
    "    clf_model.fit(feature,label)\n",
    "    test_pred=clf_model.predict(test_feature)\n",
    "    print(classification_report(test_label,test_pred))"
   ]
  },
  {
   "cell_type": "code",
   "execution_count": null,
   "metadata": {},
   "outputs": [],
   "source": []
  },
  {
   "cell_type": "markdown",
   "metadata": {},
   "source": [
    "# My Model V2"
   ]
  },
  {
   "cell_type": "code",
   "execution_count": 39,
   "metadata": {},
   "outputs": [
    {
     "name": "stdout",
     "output_type": "stream",
     "text": [
      "774768\n"
     ]
    }
   ],
   "source": [
    "from models.mymodels import SqueezeNetV3\n",
    "criterion=ContrastiveLoss()\n",
    "v3_model=SqueezeNetV3()\n",
    "opt=torch.optim.Adam(params=v3_model.parameters(),lr=0.0001)\n",
    "print(count_parameters(v3_model))"
   ]
  },
  {
   "cell_type": "code",
   "execution_count": 40,
   "metadata": {},
   "outputs": [],
   "source": [
    "#train model\n",
    "v3_model_trained=train_dl(50,v3_model,\"cuda\",criterion,opt)"
   ]
  },
  {
   "cell_type": "code",
   "execution_count": 41,
   "metadata": {},
   "outputs": [],
   "source": [
    "#extract features\n",
    "fracture=get_features('../dataset/train/Fracture',v3_model_trained)\n",
    "normal= get_features('../dataset/train/Normal',v3_model_trained)"
   ]
  },
  {
   "cell_type": "code",
   "execution_count": 42,
   "metadata": {},
   "outputs": [],
   "source": [
    "#features and labels\n",
    "feature=np.array(fracture+normal)\n",
    "label=np.array([0]*len(normal)+[1]*len(fracture))"
   ]
  },
  {
   "cell_type": "code",
   "execution_count": 43,
   "metadata": {},
   "outputs": [],
   "source": [
    "#tune ml hyper parameters\n",
    "dt_clf,_=classifiers_tuning('dt',feature,label)\n",
    "svm_clf,_=classifiers_tuning('svm',feature,label)\n",
    "knn_clf,_=classifiers_tuning('knn',feature,label)\n",
    "lr_clf,_=classifiers_tuning('lr',feature,label)"
   ]
  },
  {
   "cell_type": "code",
   "execution_count": 44,
   "metadata": {},
   "outputs": [
    {
     "data": {
      "text/html": [
       "<div>\n",
       "<style scoped>\n",
       "    .dataframe tbody tr th:only-of-type {\n",
       "        vertical-align: middle;\n",
       "    }\n",
       "\n",
       "    .dataframe tbody tr th {\n",
       "        vertical-align: top;\n",
       "    }\n",
       "\n",
       "    .dataframe thead th {\n",
       "        text-align: right;\n",
       "    }\n",
       "</style>\n",
       "<table border=\"1\" class=\"dataframe\">\n",
       "  <thead>\n",
       "    <tr style=\"text-align: right;\">\n",
       "      <th></th>\n",
       "      <th>dt</th>\n",
       "      <th>svm</th>\n",
       "      <th>lr</th>\n",
       "      <th>knn</th>\n",
       "    </tr>\n",
       "  </thead>\n",
       "  <tbody>\n",
       "    <tr>\n",
       "      <th>fit_time</th>\n",
       "      <td>0.008578</td>\n",
       "      <td>0.071814</td>\n",
       "      <td>0.024744</td>\n",
       "      <td>0.014568</td>\n",
       "    </tr>\n",
       "    <tr>\n",
       "      <th>score_time</th>\n",
       "      <td>0.006582</td>\n",
       "      <td>0.007580</td>\n",
       "      <td>0.006788</td>\n",
       "      <td>0.015359</td>\n",
       "    </tr>\n",
       "    <tr>\n",
       "      <th>test_accuracy</th>\n",
       "      <td>0.814795</td>\n",
       "      <td>0.839037</td>\n",
       "      <td>0.796613</td>\n",
       "      <td>0.839216</td>\n",
       "    </tr>\n",
       "    <tr>\n",
       "      <th>train_accuracy</th>\n",
       "      <td>0.837503</td>\n",
       "      <td>0.837434</td>\n",
       "      <td>0.840453</td>\n",
       "      <td>0.869059</td>\n",
       "    </tr>\n",
       "    <tr>\n",
       "      <th>test_precision_macro</th>\n",
       "      <td>0.859426</td>\n",
       "      <td>0.879729</td>\n",
       "      <td>0.850465</td>\n",
       "      <td>0.880347</td>\n",
       "    </tr>\n",
       "    <tr>\n",
       "      <th>train_precision_macro</th>\n",
       "      <td>0.853123</td>\n",
       "      <td>0.838707</td>\n",
       "      <td>0.837316</td>\n",
       "      <td>0.872352</td>\n",
       "    </tr>\n",
       "    <tr>\n",
       "      <th>test_recall_macro</th>\n",
       "      <td>0.831391</td>\n",
       "      <td>0.846805</td>\n",
       "      <td>0.794925</td>\n",
       "      <td>0.850827</td>\n",
       "    </tr>\n",
       "    <tr>\n",
       "      <th>train_recall_macro</th>\n",
       "      <td>0.853341</td>\n",
       "      <td>0.845010</td>\n",
       "      <td>0.842268</td>\n",
       "      <td>0.879605</td>\n",
       "    </tr>\n",
       "    <tr>\n",
       "      <th>test_f1_macro</th>\n",
       "      <td>0.806361</td>\n",
       "      <td>0.829778</td>\n",
       "      <td>0.781694</td>\n",
       "      <td>0.828320</td>\n",
       "    </tr>\n",
       "    <tr>\n",
       "      <th>train_f1_macro</th>\n",
       "      <td>0.837154</td>\n",
       "      <td>0.836258</td>\n",
       "      <td>0.838146</td>\n",
       "      <td>0.868413</td>\n",
       "    </tr>\n",
       "  </tbody>\n",
       "</table>\n",
       "</div>"
      ],
      "text/plain": [
       "                             dt       svm        lr       knn\n",
       "fit_time               0.008578  0.071814  0.024744  0.014568\n",
       "score_time             0.006582  0.007580  0.006788  0.015359\n",
       "test_accuracy          0.814795  0.839037  0.796613  0.839216\n",
       "train_accuracy         0.837503  0.837434  0.840453  0.869059\n",
       "test_precision_macro   0.859426  0.879729  0.850465  0.880347\n",
       "train_precision_macro  0.853123  0.838707  0.837316  0.872352\n",
       "test_recall_macro      0.831391  0.846805  0.794925  0.850827\n",
       "train_recall_macro     0.853341  0.845010  0.842268  0.879605\n",
       "test_f1_macro          0.806361  0.829778  0.781694  0.828320\n",
       "train_f1_macro         0.837154  0.836258  0.838146  0.868413"
      ]
     },
     "execution_count": 44,
     "metadata": {},
     "output_type": "execute_result"
    }
   ],
   "source": [
    "#display 5 fold cross validation result\n",
    "dt_result=display_result(dt_clf,feature,label)\n",
    "svm_result=display_result(svm_clf,feature,label)\n",
    "knn_result=display_result(knn_clf,feature,label)\n",
    "lr_result=display_result(lr_clf,feature,label)\n",
    "df=pd.DataFrame(zip(dt_result,svm_result,lr_result,knn_result),index=dt_result.index,columns=['dt','svm','lr','knn'])\n",
    "df\n"
   ]
  },
  {
   "cell_type": "code",
   "execution_count": 45,
   "metadata": {},
   "outputs": [],
   "source": [
    "#embeddings of test data\n",
    "test_fracture=get_features('../dataset/test/Fracture',v3_model_trained)\n",
    "test_normal= get_features('../dataset/test/Normal',v3_model_trained)\n",
    "test_feature=np.array(test_fracture+test_normal)\n",
    "test_label=np.array([0]*len(test_normal)+[1]*len(test_fracture))"
   ]
  },
  {
   "cell_type": "code",
   "execution_count": 46,
   "metadata": {},
   "outputs": [],
   "source": [
    "#scale the data\n",
    "scaler=StandardScaler()\n",
    "feature=scaler.fit_transform(feature)\n",
    "test_feature=scaler.transform(test_feature)"
   ]
  },
  {
   "cell_type": "code",
   "execution_count": 47,
   "metadata": {},
   "outputs": [
    {
     "name": "stdout",
     "output_type": "stream",
     "text": [
      "-----------------Decision Tree--------------\n",
      "              precision    recall  f1-score   support\n",
      "\n",
      "           0       0.62      0.83      0.71        12\n",
      "           1       0.82      0.60      0.69        15\n",
      "\n",
      "    accuracy                           0.70        27\n",
      "   macro avg       0.72      0.72      0.70        27\n",
      "weighted avg       0.73      0.70      0.70        27\n",
      "\n",
      "-----------------SVM--------------\n",
      "              precision    recall  f1-score   support\n",
      "\n",
      "           0       0.71      0.83      0.77        12\n",
      "           1       0.85      0.73      0.79        15\n",
      "\n",
      "    accuracy                           0.78        27\n",
      "   macro avg       0.78      0.78      0.78        27\n",
      "weighted avg       0.79      0.78      0.78        27\n",
      "\n",
      "-----------------logistic regression--------------\n",
      "              precision    recall  f1-score   support\n",
      "\n",
      "           0       0.73      0.67      0.70        12\n",
      "           1       0.75      0.80      0.77        15\n",
      "\n",
      "    accuracy                           0.74        27\n",
      "   macro avg       0.74      0.73      0.73        27\n",
      "weighted avg       0.74      0.74      0.74        27\n",
      "\n",
      "-----------------K Nearest neighbors--------------\n",
      "              precision    recall  f1-score   support\n",
      "\n",
      "           0       0.75      0.75      0.75        12\n",
      "           1       0.80      0.80      0.80        15\n",
      "\n",
      "    accuracy                           0.78        27\n",
      "   macro avg       0.78      0.78      0.78        27\n",
      "weighted avg       0.78      0.78      0.78        27\n",
      "\n"
     ]
    }
   ],
   "source": [
    "for clf_model,clf_name in zip([dt_clf,svm_clf,lr_clf,knn_clf],\\\n",
    "                              ['Decision Tree','SVM',\"logistic regression\",'K Nearest neighbors']):\n",
    "    print('-----------------{}--------------'.format(clf_name))\n",
    "    clf_model.fit(feature,label)\n",
    "    test_pred=clf_model.predict(test_feature)\n",
    "    print(classification_report(test_label,test_pred))"
   ]
  },
  {
   "cell_type": "markdown",
   "metadata": {},
   "source": [
    "# My Model V3"
   ]
  },
  {
   "cell_type": "code",
   "execution_count": 48,
   "metadata": {},
   "outputs": [
    {
     "name": "stdout",
     "output_type": "stream",
     "text": [
      "774768\n"
     ]
    }
   ],
   "source": [
    "from models.mymodels import SqueezeNetV4\n",
    "criterion=ContrastiveLoss()\n",
    "v4_model=SqueezeNetV4()\n",
    "opt=torch.optim.Adam(params=v4_model.parameters(),lr=0.0001)\n",
    "print(count_parameters(v4_model))"
   ]
  },
  {
   "cell_type": "code",
   "execution_count": 49,
   "metadata": {},
   "outputs": [],
   "source": [
    "#train model\n",
    "v4_model_trained=train_dl(50,v4_model,\"cuda\",criterion,opt)"
   ]
  },
  {
   "cell_type": "code",
   "execution_count": 50,
   "metadata": {},
   "outputs": [],
   "source": [
    "#extract features\n",
    "fracture=get_features('../dataset/train/Fracture',v4_model_trained)\n",
    "normal= get_features('../dataset/train/Normal',v4_model_trained)"
   ]
  },
  {
   "cell_type": "code",
   "execution_count": 51,
   "metadata": {},
   "outputs": [],
   "source": [
    "#features and labels\n",
    "feature=np.array(fracture+normal)\n",
    "label=np.array([0]*len(normal)+[1]*len(fracture))"
   ]
  },
  {
   "cell_type": "code",
   "execution_count": 52,
   "metadata": {},
   "outputs": [],
   "source": [
    "#tune ml hyper parameters\n",
    "dt_clf,_=classifiers_tuning('dt',feature,label)\n",
    "svm_clf,_=classifiers_tuning('svm',feature,label)\n",
    "knn_clf,_=classifiers_tuning('knn',feature,label)\n",
    "lr_clf,_=classifiers_tuning('lr',feature,label)"
   ]
  },
  {
   "cell_type": "code",
   "execution_count": 53,
   "metadata": {},
   "outputs": [
    {
     "data": {
      "text/html": [
       "<div>\n",
       "<style scoped>\n",
       "    .dataframe tbody tr th:only-of-type {\n",
       "        vertical-align: middle;\n",
       "    }\n",
       "\n",
       "    .dataframe tbody tr th {\n",
       "        vertical-align: top;\n",
       "    }\n",
       "\n",
       "    .dataframe thead th {\n",
       "        text-align: right;\n",
       "    }\n",
       "</style>\n",
       "<table border=\"1\" class=\"dataframe\">\n",
       "  <thead>\n",
       "    <tr style=\"text-align: right;\">\n",
       "      <th></th>\n",
       "      <th>dt</th>\n",
       "      <th>svm</th>\n",
       "      <th>lr</th>\n",
       "      <th>knn</th>\n",
       "    </tr>\n",
       "  </thead>\n",
       "  <tbody>\n",
       "    <tr>\n",
       "      <th>fit_time</th>\n",
       "      <td>0.011768</td>\n",
       "      <td>0.086996</td>\n",
       "      <td>0.025058</td>\n",
       "      <td>0.014746</td>\n",
       "    </tr>\n",
       "    <tr>\n",
       "      <th>score_time</th>\n",
       "      <td>0.007779</td>\n",
       "      <td>0.008577</td>\n",
       "      <td>0.008580</td>\n",
       "      <td>0.014179</td>\n",
       "    </tr>\n",
       "    <tr>\n",
       "      <th>test_accuracy</th>\n",
       "      <td>0.808200</td>\n",
       "      <td>0.808556</td>\n",
       "      <td>0.778075</td>\n",
       "      <td>0.790909</td>\n",
       "    </tr>\n",
       "    <tr>\n",
       "      <th>train_accuracy</th>\n",
       "      <td>0.926247</td>\n",
       "      <td>0.813329</td>\n",
       "      <td>0.840453</td>\n",
       "      <td>1.000000</td>\n",
       "    </tr>\n",
       "    <tr>\n",
       "      <th>test_precision_macro</th>\n",
       "      <td>0.820714</td>\n",
       "      <td>0.837890</td>\n",
       "      <td>0.816669</td>\n",
       "      <td>0.824998</td>\n",
       "    </tr>\n",
       "    <tr>\n",
       "      <th>train_precision_macro</th>\n",
       "      <td>0.928986</td>\n",
       "      <td>0.813228</td>\n",
       "      <td>0.836469</td>\n",
       "      <td>1.000000</td>\n",
       "    </tr>\n",
       "    <tr>\n",
       "      <th>test_recall_macro</th>\n",
       "      <td>0.817556</td>\n",
       "      <td>0.818083</td>\n",
       "      <td>0.772707</td>\n",
       "      <td>0.804962</td>\n",
       "    </tr>\n",
       "    <tr>\n",
       "      <th>train_recall_macro</th>\n",
       "      <td>0.930904</td>\n",
       "      <td>0.820267</td>\n",
       "      <td>0.836406</td>\n",
       "      <td>1.000000</td>\n",
       "    </tr>\n",
       "    <tr>\n",
       "      <th>test_f1_macro</th>\n",
       "      <td>0.804903</td>\n",
       "      <td>0.803430</td>\n",
       "      <td>0.767186</td>\n",
       "      <td>0.781506</td>\n",
       "    </tr>\n",
       "    <tr>\n",
       "      <th>train_f1_macro</th>\n",
       "      <td>0.925132</td>\n",
       "      <td>0.812002</td>\n",
       "      <td>0.836318</td>\n",
       "      <td>1.000000</td>\n",
       "    </tr>\n",
       "  </tbody>\n",
       "</table>\n",
       "</div>"
      ],
      "text/plain": [
       "                             dt       svm        lr       knn\n",
       "fit_time               0.011768  0.086996  0.025058  0.014746\n",
       "score_time             0.007779  0.008577  0.008580  0.014179\n",
       "test_accuracy          0.808200  0.808556  0.778075  0.790909\n",
       "train_accuracy         0.926247  0.813329  0.840453  1.000000\n",
       "test_precision_macro   0.820714  0.837890  0.816669  0.824998\n",
       "train_precision_macro  0.928986  0.813228  0.836469  1.000000\n",
       "test_recall_macro      0.817556  0.818083  0.772707  0.804962\n",
       "train_recall_macro     0.930904  0.820267  0.836406  1.000000\n",
       "test_f1_macro          0.804903  0.803430  0.767186  0.781506\n",
       "train_f1_macro         0.925132  0.812002  0.836318  1.000000"
      ]
     },
     "execution_count": 53,
     "metadata": {},
     "output_type": "execute_result"
    }
   ],
   "source": [
    "#display 5 fold cross validation result\n",
    "dt_result=display_result(dt_clf,feature,label)\n",
    "svm_result=display_result(svm_clf,feature,label)\n",
    "knn_result=display_result(knn_clf,feature,label)\n",
    "lr_result=display_result(lr_clf,feature,label)\n",
    "df=pd.DataFrame(zip(dt_result,svm_result,lr_result,knn_result),index=dt_result.index,columns=['dt','svm','lr','knn'])\n",
    "df\n"
   ]
  },
  {
   "cell_type": "code",
   "execution_count": 54,
   "metadata": {},
   "outputs": [],
   "source": [
    "#embeddings of test data\n",
    "test_fracture=get_features('../dataset/test/Fracture',v4_model_trained)\n",
    "test_normal= get_features('../dataset/test/Normal',v4_model_trained)\n",
    "test_feature=np.array(test_fracture+test_normal)\n",
    "test_label=np.array([0]*len(test_normal)+[1]*len(test_fracture))"
   ]
  },
  {
   "cell_type": "code",
   "execution_count": 55,
   "metadata": {},
   "outputs": [],
   "source": [
    "#scale the data\n",
    "scaler=StandardScaler()\n",
    "feature=scaler.fit_transform(feature)\n",
    "test_feature=scaler.transform(test_feature)"
   ]
  },
  {
   "cell_type": "code",
   "execution_count": 56,
   "metadata": {},
   "outputs": [
    {
     "name": "stdout",
     "output_type": "stream",
     "text": [
      "-----------------Decision Tree--------------\n",
      "              precision    recall  f1-score   support\n",
      "\n",
      "           0       0.83      0.42      0.56        12\n",
      "           1       0.67      0.93      0.78        15\n",
      "\n",
      "    accuracy                           0.70        27\n",
      "   macro avg       0.75      0.68      0.67        27\n",
      "weighted avg       0.74      0.70      0.68        27\n",
      "\n",
      "-----------------SVM--------------\n",
      "              precision    recall  f1-score   support\n",
      "\n",
      "           0       0.91      0.83      0.87        12\n",
      "           1       0.88      0.93      0.90        15\n",
      "\n",
      "    accuracy                           0.89        27\n",
      "   macro avg       0.89      0.88      0.89        27\n",
      "weighted avg       0.89      0.89      0.89        27\n",
      "\n",
      "-----------------logistic regression--------------\n",
      "              precision    recall  f1-score   support\n",
      "\n",
      "           0       1.00      0.50      0.67        12\n",
      "           1       0.71      1.00      0.83        15\n",
      "\n",
      "    accuracy                           0.78        27\n",
      "   macro avg       0.86      0.75      0.75        27\n",
      "weighted avg       0.84      0.78      0.76        27\n",
      "\n",
      "-----------------K Nearest neighbors--------------\n",
      "              precision    recall  f1-score   support\n",
      "\n",
      "           0       0.77      0.83      0.80        12\n",
      "           1       0.86      0.80      0.83        15\n",
      "\n",
      "    accuracy                           0.81        27\n",
      "   macro avg       0.81      0.82      0.81        27\n",
      "weighted avg       0.82      0.81      0.82        27\n",
      "\n"
     ]
    }
   ],
   "source": [
    "for clf_model,clf_name in zip([dt_clf,svm_clf,lr_clf,knn_clf],\\\n",
    "                              ['Decision Tree','SVM',\"logistic regression\",'K Nearest neighbors']):\n",
    "    print('-----------------{}--------------'.format(clf_name))\n",
    "    clf_model.fit(feature,label)\n",
    "    test_pred=clf_model.predict(test_feature)\n",
    "    print(classification_report(test_label,test_pred))"
   ]
  },
  {
   "cell_type": "code",
   "execution_count": null,
   "metadata": {},
   "outputs": [],
   "source": []
  },
  {
   "cell_type": "code",
   "execution_count": null,
   "metadata": {},
   "outputs": [],
   "source": []
  }
 ],
 "metadata": {
  "kernelspec": {
   "display_name": "Python 3",
   "language": "python",
   "name": "python3"
  },
  "language_info": {
   "codemirror_mode": {
    "name": "ipython",
    "version": 3
   },
   "file_extension": ".py",
   "mimetype": "text/x-python",
   "name": "python",
   "nbconvert_exporter": "python",
   "pygments_lexer": "ipython3",
   "version": "3.7.6"
  }
 },
 "nbformat": 4,
 "nbformat_minor": 4
}
