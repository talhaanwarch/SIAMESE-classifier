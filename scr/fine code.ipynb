{
 "cells": [
  {
   "cell_type": "code",
   "execution_count": 1,
   "metadata": {},
   "outputs": [],
   "source": [
    "#initialize model\n",
    "from loss import ContrastiveLoss\n",
    "import torch\n",
    "from ml_training import *\n",
    "from dl_training import *\n"
   ]
  },
  {
   "cell_type": "code",
   "execution_count": 2,
   "metadata": {},
   "outputs": [],
   "source": [
    "def count_parameters(model):\n",
    "    return sum(p.numel() for p in model.parameters() if p.requires_grad)"
   ]
  },
  {
   "cell_type": "markdown",
   "metadata": {},
   "source": [
    "# Resnet 50"
   ]
  },
  {
   "cell_type": "code",
   "execution_count": 3,
   "metadata": {},
   "outputs": [
    {
     "name": "stdout",
     "output_type": "stream",
     "text": [
      "24577408\n"
     ]
    }
   ],
   "source": [
    "from models.resnet import ResNet50\n",
    "criterion=ContrastiveLoss()\n",
    "res50_model=ResNet50()\n",
    "opt=torch.optim.Adam(params=res50_model.parameters(),lr=0.0001)\n",
    "print(count_parameters(res50_model))"
   ]
  },
  {
   "cell_type": "code",
   "execution_count": 4,
   "metadata": {},
   "outputs": [],
   "source": [
    "#train model\n",
    "res50_model_trained=train_dl(50,res50_model,\"cuda\",criterion,opt)"
   ]
  },
  {
   "cell_type": "code",
   "execution_count": 5,
   "metadata": {},
   "outputs": [],
   "source": [
    "#extract features\n",
    "fracture=get_features('../dataset/train/Fracture',res50_model_trained)\n",
    "normal= get_features('../dataset/train/Normal',res50_model_trained)"
   ]
  },
  {
   "cell_type": "code",
   "execution_count": 6,
   "metadata": {},
   "outputs": [],
   "source": [
    "#features and labels\n",
    "feature=np.array(fracture+normal)\n",
    "label=np.array([0]*len(normal)+[1]*len(fracture))"
   ]
  },
  {
   "cell_type": "code",
   "execution_count": 7,
   "metadata": {},
   "outputs": [],
   "source": [
    "#tune ml hyper parameters\n",
    "dt_clf,_=classifiers_tuning('dt',feature,label)\n",
    "svm_clf,_=classifiers_tuning('svm',feature,label)\n",
    "knn_clf,_=classifiers_tuning('knn',feature,label)\n",
    "lr_clf,_=classifiers_tuning('lr',feature,label)"
   ]
  },
  {
   "cell_type": "code",
   "execution_count": 8,
   "metadata": {},
   "outputs": [
    {
     "data": {
      "text/html": [
       "<div>\n",
       "<style scoped>\n",
       "    .dataframe tbody tr th:only-of-type {\n",
       "        vertical-align: middle;\n",
       "    }\n",
       "\n",
       "    .dataframe tbody tr th {\n",
       "        vertical-align: top;\n",
       "    }\n",
       "\n",
       "    .dataframe thead th {\n",
       "        text-align: right;\n",
       "    }\n",
       "</style>\n",
       "<table border=\"1\" class=\"dataframe\">\n",
       "  <thead>\n",
       "    <tr style=\"text-align: right;\">\n",
       "      <th></th>\n",
       "      <th>dt</th>\n",
       "      <th>svm</th>\n",
       "      <th>lr</th>\n",
       "      <th>knn</th>\n",
       "    </tr>\n",
       "  </thead>\n",
       "  <tbody>\n",
       "    <tr>\n",
       "      <th>fit_time</th>\n",
       "      <td>0.008386</td>\n",
       "      <td>0.080326</td>\n",
       "      <td>0.022361</td>\n",
       "      <td>0.014591</td>\n",
       "    </tr>\n",
       "    <tr>\n",
       "      <th>score_time</th>\n",
       "      <td>0.008395</td>\n",
       "      <td>0.008595</td>\n",
       "      <td>0.005984</td>\n",
       "      <td>0.016351</td>\n",
       "    </tr>\n",
       "    <tr>\n",
       "      <th>test_accuracy</th>\n",
       "      <td>0.815152</td>\n",
       "      <td>0.815330</td>\n",
       "      <td>0.791266</td>\n",
       "      <td>0.773262</td>\n",
       "    </tr>\n",
       "    <tr>\n",
       "      <th>train_accuracy</th>\n",
       "      <td>0.848018</td>\n",
       "      <td>0.915733</td>\n",
       "      <td>0.875085</td>\n",
       "      <td>0.826942</td>\n",
       "    </tr>\n",
       "    <tr>\n",
       "      <th>test_precision_macro</th>\n",
       "      <td>0.839025</td>\n",
       "      <td>0.837306</td>\n",
       "      <td>0.811131</td>\n",
       "      <td>0.795143</td>\n",
       "    </tr>\n",
       "    <tr>\n",
       "      <th>train_precision_macro</th>\n",
       "      <td>0.846907</td>\n",
       "      <td>0.914976</td>\n",
       "      <td>0.871521</td>\n",
       "      <td>0.833297</td>\n",
       "    </tr>\n",
       "    <tr>\n",
       "      <th>test_recall_macro</th>\n",
       "      <td>0.820113</td>\n",
       "      <td>0.829774</td>\n",
       "      <td>0.791805</td>\n",
       "      <td>0.783534</td>\n",
       "    </tr>\n",
       "    <tr>\n",
       "      <th>train_recall_macro</th>\n",
       "      <td>0.853631</td>\n",
       "      <td>0.924282</td>\n",
       "      <td>0.878469</td>\n",
       "      <td>0.839311</td>\n",
       "    </tr>\n",
       "    <tr>\n",
       "      <th>test_f1_macro</th>\n",
       "      <td>0.807645</td>\n",
       "      <td>0.808029</td>\n",
       "      <td>0.781803</td>\n",
       "      <td>0.766794</td>\n",
       "    </tr>\n",
       "    <tr>\n",
       "      <th>train_f1_macro</th>\n",
       "      <td>0.846534</td>\n",
       "      <td>0.915098</td>\n",
       "      <td>0.873429</td>\n",
       "      <td>0.826490</td>\n",
       "    </tr>\n",
       "  </tbody>\n",
       "</table>\n",
       "</div>"
      ],
      "text/plain": [
       "                             dt       svm        lr       knn\n",
       "fit_time               0.008386  0.080326  0.022361  0.014591\n",
       "score_time             0.008395  0.008595  0.005984  0.016351\n",
       "test_accuracy          0.815152  0.815330  0.791266  0.773262\n",
       "train_accuracy         0.848018  0.915733  0.875085  0.826942\n",
       "test_precision_macro   0.839025  0.837306  0.811131  0.795143\n",
       "train_precision_macro  0.846907  0.914976  0.871521  0.833297\n",
       "test_recall_macro      0.820113  0.829774  0.791805  0.783534\n",
       "train_recall_macro     0.853631  0.924282  0.878469  0.839311\n",
       "test_f1_macro          0.807645  0.808029  0.781803  0.766794\n",
       "train_f1_macro         0.846534  0.915098  0.873429  0.826490"
      ]
     },
     "execution_count": 8,
     "metadata": {},
     "output_type": "execute_result"
    }
   ],
   "source": [
    "#display 5 fold cross validation result\n",
    "dt_result=display_result(dt_clf,feature,label)\n",
    "svm_result=display_result(svm_clf,feature,label)\n",
    "knn_result=display_result(knn_clf,feature,label)\n",
    "lr_result=display_result(lr_clf,feature,label)\n",
    "df=pd.DataFrame(zip(dt_result,svm_result,lr_result,knn_result),index=dt_result.index,columns=['dt','svm','lr','knn'])\n",
    "df\n"
   ]
  },
  {
   "cell_type": "code",
   "execution_count": 9,
   "metadata": {},
   "outputs": [],
   "source": [
    "#embeddings of test data\n",
    "test_fracture=get_features('../dataset/test/Fracture',res50_model_trained)\n",
    "test_normal= get_features('../dataset/test/Normal',res50_model_trained)\n",
    "test_feature=np.array(test_fracture+test_normal)\n",
    "test_label=np.array([0]*len(test_normal)+[1]*len(test_fracture))"
   ]
  },
  {
   "cell_type": "code",
   "execution_count": 10,
   "metadata": {},
   "outputs": [],
   "source": [
    "#scale the data\n",
    "scaler=StandardScaler()\n",
    "feature=scaler.fit_transform(feature)\n",
    "test_feature=scaler.transform(test_feature)"
   ]
  },
  {
   "cell_type": "code",
   "execution_count": 11,
   "metadata": {
    "scrolled": false
   },
   "outputs": [
    {
     "name": "stdout",
     "output_type": "stream",
     "text": [
      "-----------------Decision Tree--------------\n",
      "              precision    recall  f1-score   support\n",
      "\n",
      "           0       0.67      0.67      0.67        12\n",
      "           1       0.73      0.73      0.73        15\n",
      "\n",
      "    accuracy                           0.70        27\n",
      "   macro avg       0.70      0.70      0.70        27\n",
      "weighted avg       0.70      0.70      0.70        27\n",
      "\n",
      "-----------------SVM--------------\n",
      "              precision    recall  f1-score   support\n",
      "\n",
      "           0       0.71      0.83      0.77        12\n",
      "           1       0.85      0.73      0.79        15\n",
      "\n",
      "    accuracy                           0.78        27\n",
      "   macro avg       0.78      0.78      0.78        27\n",
      "weighted avg       0.79      0.78      0.78        27\n",
      "\n",
      "-----------------logistic regression--------------\n",
      "              precision    recall  f1-score   support\n",
      "\n",
      "           0       0.78      0.58      0.67        12\n",
      "           1       0.72      0.87      0.79        15\n",
      "\n",
      "    accuracy                           0.74        27\n",
      "   macro avg       0.75      0.73      0.73        27\n",
      "weighted avg       0.75      0.74      0.73        27\n",
      "\n",
      "-----------------K Nearest neighbors--------------\n",
      "              precision    recall  f1-score   support\n",
      "\n",
      "           0       0.67      0.83      0.74        12\n",
      "           1       0.83      0.67      0.74        15\n",
      "\n",
      "    accuracy                           0.74        27\n",
      "   macro avg       0.75      0.75      0.74        27\n",
      "weighted avg       0.76      0.74      0.74        27\n",
      "\n"
     ]
    }
   ],
   "source": [
    "for clf_model,clf_name in zip([dt_clf,svm_clf,lr_clf,knn_clf],\\\n",
    "                              ['Decision Tree','SVM',\"logistic regression\",'K Nearest neighbors']):\n",
    "    print('-----------------{}--------------'.format(clf_name))\n",
    "    clf_model.fit(feature,label)\n",
    "    test_pred=clf_model.predict(test_feature)\n",
    "    print(classification_report(test_label,test_pred))"
   ]
  },
  {
   "cell_type": "markdown",
   "metadata": {},
   "source": [
    "# mobile net"
   ]
  },
  {
   "cell_type": "code",
   "execution_count": 12,
   "metadata": {},
   "outputs": [
    {
     "name": "stdout",
     "output_type": "stream",
     "text": [
      "2879168\n"
     ]
    }
   ],
   "source": [
    "from models.mobilenet import MobileNetV2\n",
    "criterion=ContrastiveLoss()\n",
    "mobilenet=MobileNetV2()\n",
    "opt=torch.optim.Adam(params=mobilenet.parameters(),lr=0.0001)\n",
    "print(count_parameters(mobilenet))"
   ]
  },
  {
   "cell_type": "code",
   "execution_count": 13,
   "metadata": {},
   "outputs": [],
   "source": [
    "#train model\n",
    "mobilenet_trained=train_dl(50,mobilenet,\"cuda\",criterion,opt)\n"
   ]
  },
  {
   "cell_type": "code",
   "execution_count": 14,
   "metadata": {},
   "outputs": [],
   "source": [
    "#extract features\n",
    "fracture=get_features('../dataset/train/Fracture',mobilenet_trained)\n",
    "normal= get_features('../dataset/train/Normal',mobilenet_trained)"
   ]
  },
  {
   "cell_type": "code",
   "execution_count": 15,
   "metadata": {},
   "outputs": [],
   "source": [
    "#features and labels\n",
    "feature=np.array(fracture+normal)\n",
    "label=np.array([0]*len(normal)+[1]*len(fracture))"
   ]
  },
  {
   "cell_type": "code",
   "execution_count": 16,
   "metadata": {},
   "outputs": [],
   "source": [
    "#tune ml hyper parameters\n",
    "dt_clf,_=classifiers_tuning('dt',feature,label)\n",
    "svm_clf,_=classifiers_tuning('svm',feature,label)\n",
    "knn_clf,_=classifiers_tuning('knn',feature,label)\n",
    "lr_clf,_=classifiers_tuning('lr',feature,label)"
   ]
  },
  {
   "cell_type": "code",
   "execution_count": 17,
   "metadata": {},
   "outputs": [
    {
     "data": {
      "text/html": [
       "<div>\n",
       "<style scoped>\n",
       "    .dataframe tbody tr th:only-of-type {\n",
       "        vertical-align: middle;\n",
       "    }\n",
       "\n",
       "    .dataframe tbody tr th {\n",
       "        vertical-align: top;\n",
       "    }\n",
       "\n",
       "    .dataframe thead th {\n",
       "        text-align: right;\n",
       "    }\n",
       "</style>\n",
       "<table border=\"1\" class=\"dataframe\">\n",
       "  <thead>\n",
       "    <tr style=\"text-align: right;\">\n",
       "      <th></th>\n",
       "      <th>dt</th>\n",
       "      <th>svm</th>\n",
       "      <th>lr</th>\n",
       "      <th>knn</th>\n",
       "    </tr>\n",
       "  </thead>\n",
       "  <tbody>\n",
       "    <tr>\n",
       "      <th>fit_time</th>\n",
       "      <td>0.010976</td>\n",
       "      <td>0.120387</td>\n",
       "      <td>0.018152</td>\n",
       "      <td>0.014925</td>\n",
       "    </tr>\n",
       "    <tr>\n",
       "      <th>score_time</th>\n",
       "      <td>0.007978</td>\n",
       "      <td>0.010173</td>\n",
       "      <td>0.007180</td>\n",
       "      <td>0.014960</td>\n",
       "    </tr>\n",
       "    <tr>\n",
       "      <th>test_accuracy</th>\n",
       "      <td>0.579144</td>\n",
       "      <td>0.536364</td>\n",
       "      <td>0.530303</td>\n",
       "      <td>0.596613</td>\n",
       "    </tr>\n",
       "    <tr>\n",
       "      <th>train_accuracy</th>\n",
       "      <td>1.000000</td>\n",
       "      <td>0.993985</td>\n",
       "      <td>1.000000</td>\n",
       "      <td>0.719891</td>\n",
       "    </tr>\n",
       "    <tr>\n",
       "      <th>test_precision_macro</th>\n",
       "      <td>0.584649</td>\n",
       "      <td>0.513479</td>\n",
       "      <td>0.499862</td>\n",
       "      <td>0.587120</td>\n",
       "    </tr>\n",
       "    <tr>\n",
       "      <th>train_precision_macro</th>\n",
       "      <td>1.000000</td>\n",
       "      <td>0.994904</td>\n",
       "      <td>1.000000</td>\n",
       "      <td>0.716515</td>\n",
       "    </tr>\n",
       "    <tr>\n",
       "      <th>test_recall_macro</th>\n",
       "      <td>0.583459</td>\n",
       "      <td>0.516805</td>\n",
       "      <td>0.505902</td>\n",
       "      <td>0.574549</td>\n",
       "    </tr>\n",
       "    <tr>\n",
       "      <th>train_recall_macro</th>\n",
       "      <td>1.000000</td>\n",
       "      <td>0.992857</td>\n",
       "      <td>1.000000</td>\n",
       "      <td>0.704563</td>\n",
       "    </tr>\n",
       "    <tr>\n",
       "      <th>test_f1_macro</th>\n",
       "      <td>0.574803</td>\n",
       "      <td>0.505757</td>\n",
       "      <td>0.489797</td>\n",
       "      <td>0.565725</td>\n",
       "    </tr>\n",
       "    <tr>\n",
       "      <th>train_f1_macro</th>\n",
       "      <td>1.000000</td>\n",
       "      <td>0.993808</td>\n",
       "      <td>1.000000</td>\n",
       "      <td>0.705733</td>\n",
       "    </tr>\n",
       "  </tbody>\n",
       "</table>\n",
       "</div>"
      ],
      "text/plain": [
       "                             dt       svm        lr       knn\n",
       "fit_time               0.010976  0.120387  0.018152  0.014925\n",
       "score_time             0.007978  0.010173  0.007180  0.014960\n",
       "test_accuracy          0.579144  0.536364  0.530303  0.596613\n",
       "train_accuracy         1.000000  0.993985  1.000000  0.719891\n",
       "test_precision_macro   0.584649  0.513479  0.499862  0.587120\n",
       "train_precision_macro  1.000000  0.994904  1.000000  0.716515\n",
       "test_recall_macro      0.583459  0.516805  0.505902  0.574549\n",
       "train_recall_macro     1.000000  0.992857  1.000000  0.704563\n",
       "test_f1_macro          0.574803  0.505757  0.489797  0.565725\n",
       "train_f1_macro         1.000000  0.993808  1.000000  0.705733"
      ]
     },
     "execution_count": 17,
     "metadata": {},
     "output_type": "execute_result"
    }
   ],
   "source": [
    "#display 5 fold cross validation result\n",
    "dt_result=display_result(dt_clf,feature,label)\n",
    "svm_result=display_result(svm_clf,feature,label)\n",
    "knn_result=display_result(knn_clf,feature,label)\n",
    "lr_result=display_result(lr_clf,feature,label)\n",
    "df=pd.DataFrame(zip(dt_result,svm_result,lr_result,knn_result),index=dt_result.index,columns=['dt','svm','lr','knn'])\n",
    "df\n"
   ]
  },
  {
   "cell_type": "code",
   "execution_count": 18,
   "metadata": {},
   "outputs": [],
   "source": [
    "#embeddings of test data\n",
    "test_fracture=get_features('../dataset/test/Fracture',mobilenet_trained)\n",
    "test_normal= get_features('../dataset/test/Normal',mobilenet_trained)\n",
    "test_feature=np.array(test_fracture+test_normal)\n",
    "test_label=np.array([0]*len(test_normal)+[1]*len(test_fracture))"
   ]
  },
  {
   "cell_type": "code",
   "execution_count": 19,
   "metadata": {},
   "outputs": [],
   "source": [
    "#scale the data\n",
    "scaler=StandardScaler()\n",
    "feature=scaler.fit_transform(feature)\n",
    "test_feature=scaler.transform(test_feature)"
   ]
  },
  {
   "cell_type": "code",
   "execution_count": 20,
   "metadata": {},
   "outputs": [
    {
     "name": "stdout",
     "output_type": "stream",
     "text": [
      "-----------------Decision Tree--------------\n",
      "              precision    recall  f1-score   support\n",
      "\n",
      "           0       0.36      0.33      0.35        12\n",
      "           1       0.50      0.53      0.52        15\n",
      "\n",
      "    accuracy                           0.44        27\n",
      "   macro avg       0.43      0.43      0.43        27\n",
      "weighted avg       0.44      0.44      0.44        27\n",
      "\n",
      "-----------------SVM--------------\n",
      "              precision    recall  f1-score   support\n",
      "\n",
      "           0       0.44      0.33      0.38        12\n",
      "           1       0.56      0.67      0.61        15\n",
      "\n",
      "    accuracy                           0.52        27\n",
      "   macro avg       0.50      0.50      0.49        27\n",
      "weighted avg       0.51      0.52      0.51        27\n",
      "\n",
      "-----------------logistic regression--------------\n",
      "              precision    recall  f1-score   support\n",
      "\n",
      "           0       0.33      0.25      0.29        12\n",
      "           1       0.50      0.60      0.55        15\n",
      "\n",
      "    accuracy                           0.44        27\n",
      "   macro avg       0.42      0.42      0.42        27\n",
      "weighted avg       0.43      0.44      0.43        27\n",
      "\n",
      "-----------------K Nearest neighbors--------------\n",
      "              precision    recall  f1-score   support\n",
      "\n",
      "           0       0.45      0.42      0.43        12\n",
      "           1       0.56      0.60      0.58        15\n",
      "\n",
      "    accuracy                           0.52        27\n",
      "   macro avg       0.51      0.51      0.51        27\n",
      "weighted avg       0.51      0.52      0.52        27\n",
      "\n"
     ]
    }
   ],
   "source": [
    "for clf_model,clf_name in zip([dt_clf,svm_clf,lr_clf,knn_clf],\\\n",
    "                              ['Decision Tree','SVM',\"logistic regression\",'K Nearest neighbors']):\n",
    "    print('-----------------{}--------------'.format(clf_name))\n",
    "    clf_model.fit(feature,label)\n",
    "    test_pred=clf_model.predict(test_feature)\n",
    "    print(classification_report(test_label,test_pred))"
   ]
  },
  {
   "cell_type": "code",
   "execution_count": null,
   "metadata": {},
   "outputs": [],
   "source": []
  },
  {
   "cell_type": "markdown",
   "metadata": {},
   "source": [
    "# Squeeze net"
   ]
  },
  {
   "cell_type": "code",
   "execution_count": 21,
   "metadata": {},
   "outputs": [
    {
     "name": "stdout",
     "output_type": "stream",
     "text": [
      "984000\n"
     ]
    }
   ],
   "source": [
    "from models.squeezenet import SqueezeNetV1\n",
    "criterion=ContrastiveLoss()\n",
    "squeezenet=SqueezeNetV1()\n",
    "opt=torch.optim.Adam(params=squeezenet.parameters(),lr=0.0001)\n",
    "print(count_parameters(squeezenet))"
   ]
  },
  {
   "cell_type": "code",
   "execution_count": 22,
   "metadata": {},
   "outputs": [],
   "source": [
    "#train model\n",
    "squeezenet_trained=train_dl(50,squeezenet,\"cuda\",criterion,opt)"
   ]
  },
  {
   "cell_type": "code",
   "execution_count": 23,
   "metadata": {},
   "outputs": [],
   "source": [
    "#extract features\n",
    "fracture=get_features('../dataset/train/Fracture',squeezenet_trained)\n",
    "normal= get_features('../dataset/train/Normal',squeezenet_trained)"
   ]
  },
  {
   "cell_type": "code",
   "execution_count": 24,
   "metadata": {},
   "outputs": [],
   "source": [
    "#features and labels\n",
    "feature=np.array(fracture+normal)\n",
    "label=np.array([0]*len(normal)+[1]*len(fracture))"
   ]
  },
  {
   "cell_type": "code",
   "execution_count": 25,
   "metadata": {},
   "outputs": [],
   "source": [
    "#tune ml hyper parameters\n",
    "dt_clf,_=classifiers_tuning('dt',feature,label)\n",
    "svm_clf,_=classifiers_tuning('svm',feature,label)\n",
    "knn_clf,_=classifiers_tuning('knn',feature,label)\n",
    "lr_clf,_=classifiers_tuning('lr',feature,label)"
   ]
  },
  {
   "cell_type": "code",
   "execution_count": 26,
   "metadata": {},
   "outputs": [
    {
     "data": {
      "text/html": [
       "<div>\n",
       "<style scoped>\n",
       "    .dataframe tbody tr th:only-of-type {\n",
       "        vertical-align: middle;\n",
       "    }\n",
       "\n",
       "    .dataframe tbody tr th {\n",
       "        vertical-align: top;\n",
       "    }\n",
       "\n",
       "    .dataframe thead th {\n",
       "        text-align: right;\n",
       "    }\n",
       "</style>\n",
       "<table border=\"1\" class=\"dataframe\">\n",
       "  <thead>\n",
       "    <tr style=\"text-align: right;\">\n",
       "      <th></th>\n",
       "      <th>dt</th>\n",
       "      <th>svm</th>\n",
       "      <th>lr</th>\n",
       "      <th>knn</th>\n",
       "    </tr>\n",
       "  </thead>\n",
       "  <tbody>\n",
       "    <tr>\n",
       "      <th>fit_time</th>\n",
       "      <td>0.011775</td>\n",
       "      <td>0.119706</td>\n",
       "      <td>0.025732</td>\n",
       "      <td>0.015758</td>\n",
       "    </tr>\n",
       "    <tr>\n",
       "      <th>score_time</th>\n",
       "      <td>0.009375</td>\n",
       "      <td>0.009574</td>\n",
       "      <td>0.007881</td>\n",
       "      <td>0.017154</td>\n",
       "    </tr>\n",
       "    <tr>\n",
       "      <th>test_accuracy</th>\n",
       "      <td>0.584670</td>\n",
       "      <td>0.572193</td>\n",
       "      <td>0.572193</td>\n",
       "      <td>0.495009</td>\n",
       "    </tr>\n",
       "    <tr>\n",
       "      <th>train_accuracy</th>\n",
       "      <td>1.000000</td>\n",
       "      <td>1.000000</td>\n",
       "      <td>1.000000</td>\n",
       "      <td>1.000000</td>\n",
       "    </tr>\n",
       "    <tr>\n",
       "      <th>test_precision_macro</th>\n",
       "      <td>0.576965</td>\n",
       "      <td>0.559713</td>\n",
       "      <td>0.560750</td>\n",
       "      <td>0.472833</td>\n",
       "    </tr>\n",
       "    <tr>\n",
       "      <th>train_precision_macro</th>\n",
       "      <td>1.000000</td>\n",
       "      <td>1.000000</td>\n",
       "      <td>1.000000</td>\n",
       "      <td>1.000000</td>\n",
       "    </tr>\n",
       "    <tr>\n",
       "      <th>test_recall_macro</th>\n",
       "      <td>0.576917</td>\n",
       "      <td>0.554850</td>\n",
       "      <td>0.552970</td>\n",
       "      <td>0.477820</td>\n",
       "    </tr>\n",
       "    <tr>\n",
       "      <th>train_recall_macro</th>\n",
       "      <td>1.000000</td>\n",
       "      <td>1.000000</td>\n",
       "      <td>1.000000</td>\n",
       "      <td>1.000000</td>\n",
       "    </tr>\n",
       "    <tr>\n",
       "      <th>test_f1_macro</th>\n",
       "      <td>0.575958</td>\n",
       "      <td>0.549063</td>\n",
       "      <td>0.545045</td>\n",
       "      <td>0.472655</td>\n",
       "    </tr>\n",
       "    <tr>\n",
       "      <th>train_f1_macro</th>\n",
       "      <td>1.000000</td>\n",
       "      <td>1.000000</td>\n",
       "      <td>1.000000</td>\n",
       "      <td>1.000000</td>\n",
       "    </tr>\n",
       "  </tbody>\n",
       "</table>\n",
       "</div>"
      ],
      "text/plain": [
       "                             dt       svm        lr       knn\n",
       "fit_time               0.011775  0.119706  0.025732  0.015758\n",
       "score_time             0.009375  0.009574  0.007881  0.017154\n",
       "test_accuracy          0.584670  0.572193  0.572193  0.495009\n",
       "train_accuracy         1.000000  1.000000  1.000000  1.000000\n",
       "test_precision_macro   0.576965  0.559713  0.560750  0.472833\n",
       "train_precision_macro  1.000000  1.000000  1.000000  1.000000\n",
       "test_recall_macro      0.576917  0.554850  0.552970  0.477820\n",
       "train_recall_macro     1.000000  1.000000  1.000000  1.000000\n",
       "test_f1_macro          0.575958  0.549063  0.545045  0.472655\n",
       "train_f1_macro         1.000000  1.000000  1.000000  1.000000"
      ]
     },
     "execution_count": 26,
     "metadata": {},
     "output_type": "execute_result"
    }
   ],
   "source": [
    "#display 5 fold cross validation result\n",
    "dt_result=display_result(dt_clf,feature,label)\n",
    "svm_result=display_result(svm_clf,feature,label)\n",
    "knn_result=display_result(knn_clf,feature,label)\n",
    "lr_result=display_result(lr_clf,feature,label)\n",
    "df=pd.DataFrame(zip(dt_result,svm_result,lr_result,knn_result),index=dt_result.index,columns=['dt','svm','lr','knn'])\n",
    "df\n"
   ]
  },
  {
   "cell_type": "code",
   "execution_count": 27,
   "metadata": {},
   "outputs": [],
   "source": [
    "#embeddings of test data\n",
    "test_fracture=get_features('../dataset/test/Fracture',squeezenet_trained)\n",
    "test_normal= get_features('../dataset/test/Normal',squeezenet_trained)\n",
    "test_feature=np.array(test_fracture+test_normal)\n",
    "test_label=np.array([0]*len(test_normal)+[1]*len(test_fracture))"
   ]
  },
  {
   "cell_type": "code",
   "execution_count": 28,
   "metadata": {},
   "outputs": [],
   "source": [
    "#scale the data\n",
    "scaler=StandardScaler()\n",
    "feature=scaler.fit_transform(feature)\n",
    "test_feature=scaler.transform(test_feature)"
   ]
  },
  {
   "cell_type": "code",
   "execution_count": 29,
   "metadata": {},
   "outputs": [
    {
     "name": "stdout",
     "output_type": "stream",
     "text": [
      "-----------------Decision Tree--------------\n",
      "              precision    recall  f1-score   support\n",
      "\n",
      "           0       0.44      0.67      0.53        12\n",
      "           1       0.56      0.33      0.42        15\n",
      "\n",
      "    accuracy                           0.48        27\n",
      "   macro avg       0.50      0.50      0.47        27\n",
      "weighted avg       0.51      0.48      0.47        27\n",
      "\n",
      "-----------------SVM--------------\n",
      "              precision    recall  f1-score   support\n",
      "\n",
      "           0       0.50      0.50      0.50        12\n",
      "           1       0.60      0.60      0.60        15\n",
      "\n",
      "    accuracy                           0.56        27\n",
      "   macro avg       0.55      0.55      0.55        27\n",
      "weighted avg       0.56      0.56      0.56        27\n",
      "\n",
      "-----------------logistic regression--------------\n",
      "              precision    recall  f1-score   support\n",
      "\n",
      "           0       0.55      0.50      0.52        12\n",
      "           1       0.62      0.67      0.65        15\n",
      "\n",
      "    accuracy                           0.59        27\n",
      "   macro avg       0.59      0.58      0.58        27\n",
      "weighted avg       0.59      0.59      0.59        27\n",
      "\n",
      "-----------------K Nearest neighbors--------------\n",
      "              precision    recall  f1-score   support\n",
      "\n",
      "           0       0.60      0.75      0.67        12\n",
      "           1       0.75      0.60      0.67        15\n",
      "\n",
      "    accuracy                           0.67        27\n",
      "   macro avg       0.68      0.68      0.67        27\n",
      "weighted avg       0.68      0.67      0.67        27\n",
      "\n"
     ]
    }
   ],
   "source": [
    "for clf_model,clf_name in zip([dt_clf,svm_clf,lr_clf,knn_clf],\\\n",
    "                              ['Decision Tree','SVM',\"logistic regression\",'K Nearest neighbors']):\n",
    "    print('-----------------{}--------------'.format(clf_name))\n",
    "    clf_model.fit(feature,label)\n",
    "    test_pred=clf_model.predict(test_feature)\n",
    "    print(classification_report(test_label,test_pred))"
   ]
  },
  {
   "cell_type": "code",
   "execution_count": null,
   "metadata": {},
   "outputs": [],
   "source": []
  },
  {
   "cell_type": "markdown",
   "metadata": {},
   "source": [
    "# My Model V1"
   ]
  },
  {
   "cell_type": "code",
   "execution_count": 30,
   "metadata": {},
   "outputs": [
    {
     "name": "stdout",
     "output_type": "stream",
     "text": [
      "5781184\n"
     ]
    }
   ],
   "source": [
    "from models.mymodels import SqueezeNetV2\n",
    "criterion=ContrastiveLoss()\n",
    "v2_model=SqueezeNetV2()\n",
    "opt=torch.optim.Adam(params=v2_model.parameters(),lr=0.0001)\n",
    "print(count_parameters(v2_model))"
   ]
  },
  {
   "cell_type": "code",
   "execution_count": 31,
   "metadata": {},
   "outputs": [],
   "source": [
    "#train model\n",
    "v2_model_trained=train_dl(50,v2_model,\"cuda\",criterion,opt)"
   ]
  },
  {
   "cell_type": "code",
   "execution_count": 32,
   "metadata": {},
   "outputs": [],
   "source": [
    "#extract features\n",
    "fracture=get_features('../dataset/train/Fracture',v2_model_trained)\n",
    "normal= get_features('../dataset/train/Normal',v2_model_trained)"
   ]
  },
  {
   "cell_type": "code",
   "execution_count": 33,
   "metadata": {},
   "outputs": [],
   "source": [
    "#features and labels\n",
    "feature=np.array(fracture+normal)\n",
    "label=np.array([0]*len(normal)+[1]*len(fracture))"
   ]
  },
  {
   "cell_type": "code",
   "execution_count": 34,
   "metadata": {},
   "outputs": [
    {
     "name": "stderr",
     "output_type": "stream",
     "text": [
      "C:\\Anaconda3\\lib\\site-packages\\sklearn\\linear_model\\_logistic.py:764: ConvergenceWarning: lbfgs failed to converge (status=1):\n",
      "STOP: TOTAL NO. of ITERATIONS REACHED LIMIT.\n",
      "\n",
      "Increase the number of iterations (max_iter) or scale the data as shown in:\n",
      "    https://scikit-learn.org/stable/modules/preprocessing.html\n",
      "Please also refer to the documentation for alternative solver options:\n",
      "    https://scikit-learn.org/stable/modules/linear_model.html#logistic-regression\n",
      "  extra_warning_msg=_LOGISTIC_SOLVER_CONVERGENCE_MSG)\n"
     ]
    }
   ],
   "source": [
    "#tune ml hyper parameters\n",
    "dt_clf,_=classifiers_tuning('dt',feature,label)\n",
    "svm_clf,_=classifiers_tuning('svm',feature,label)\n",
    "knn_clf,_=classifiers_tuning('knn',feature,label)\n",
    "lr_clf,_=classifiers_tuning('lr',feature,label)"
   ]
  },
  {
   "cell_type": "code",
   "execution_count": 35,
   "metadata": {},
   "outputs": [
    {
     "name": "stderr",
     "output_type": "stream",
     "text": [
      "C:\\Anaconda3\\lib\\site-packages\\sklearn\\linear_model\\_logistic.py:764: ConvergenceWarning: lbfgs failed to converge (status=1):\n",
      "STOP: TOTAL NO. of ITERATIONS REACHED LIMIT.\n",
      "\n",
      "Increase the number of iterations (max_iter) or scale the data as shown in:\n",
      "    https://scikit-learn.org/stable/modules/preprocessing.html\n",
      "Please also refer to the documentation for alternative solver options:\n",
      "    https://scikit-learn.org/stable/modules/linear_model.html#logistic-regression\n",
      "  extra_warning_msg=_LOGISTIC_SOLVER_CONVERGENCE_MSG)\n",
      "C:\\Anaconda3\\lib\\site-packages\\sklearn\\linear_model\\_logistic.py:764: ConvergenceWarning: lbfgs failed to converge (status=1):\n",
      "STOP: TOTAL NO. of ITERATIONS REACHED LIMIT.\n",
      "\n",
      "Increase the number of iterations (max_iter) or scale the data as shown in:\n",
      "    https://scikit-learn.org/stable/modules/preprocessing.html\n",
      "Please also refer to the documentation for alternative solver options:\n",
      "    https://scikit-learn.org/stable/modules/linear_model.html#logistic-regression\n",
      "  extra_warning_msg=_LOGISTIC_SOLVER_CONVERGENCE_MSG)\n",
      "C:\\Anaconda3\\lib\\site-packages\\sklearn\\linear_model\\_logistic.py:764: ConvergenceWarning: lbfgs failed to converge (status=1):\n",
      "STOP: TOTAL NO. of ITERATIONS REACHED LIMIT.\n",
      "\n",
      "Increase the number of iterations (max_iter) or scale the data as shown in:\n",
      "    https://scikit-learn.org/stable/modules/preprocessing.html\n",
      "Please also refer to the documentation for alternative solver options:\n",
      "    https://scikit-learn.org/stable/modules/linear_model.html#logistic-regression\n",
      "  extra_warning_msg=_LOGISTIC_SOLVER_CONVERGENCE_MSG)\n",
      "C:\\Anaconda3\\lib\\site-packages\\sklearn\\linear_model\\_logistic.py:764: ConvergenceWarning: lbfgs failed to converge (status=1):\n",
      "STOP: TOTAL NO. of ITERATIONS REACHED LIMIT.\n",
      "\n",
      "Increase the number of iterations (max_iter) or scale the data as shown in:\n",
      "    https://scikit-learn.org/stable/modules/preprocessing.html\n",
      "Please also refer to the documentation for alternative solver options:\n",
      "    https://scikit-learn.org/stable/modules/linear_model.html#logistic-regression\n",
      "  extra_warning_msg=_LOGISTIC_SOLVER_CONVERGENCE_MSG)\n",
      "C:\\Anaconda3\\lib\\site-packages\\sklearn\\linear_model\\_logistic.py:764: ConvergenceWarning: lbfgs failed to converge (status=1):\n",
      "STOP: TOTAL NO. of ITERATIONS REACHED LIMIT.\n",
      "\n",
      "Increase the number of iterations (max_iter) or scale the data as shown in:\n",
      "    https://scikit-learn.org/stable/modules/preprocessing.html\n",
      "Please also refer to the documentation for alternative solver options:\n",
      "    https://scikit-learn.org/stable/modules/linear_model.html#logistic-regression\n",
      "  extra_warning_msg=_LOGISTIC_SOLVER_CONVERGENCE_MSG)\n"
     ]
    },
    {
     "data": {
      "text/html": [
       "<div>\n",
       "<style scoped>\n",
       "    .dataframe tbody tr th:only-of-type {\n",
       "        vertical-align: middle;\n",
       "    }\n",
       "\n",
       "    .dataframe tbody tr th {\n",
       "        vertical-align: top;\n",
       "    }\n",
       "\n",
       "    .dataframe thead th {\n",
       "        text-align: right;\n",
       "    }\n",
       "</style>\n",
       "<table border=\"1\" class=\"dataframe\">\n",
       "  <thead>\n",
       "    <tr style=\"text-align: right;\">\n",
       "      <th></th>\n",
       "      <th>dt</th>\n",
       "      <th>svm</th>\n",
       "      <th>lr</th>\n",
       "      <th>knn</th>\n",
       "    </tr>\n",
       "  </thead>\n",
       "  <tbody>\n",
       "    <tr>\n",
       "      <th>fit_time</th>\n",
       "      <td>0.010976</td>\n",
       "      <td>0.102526</td>\n",
       "      <td>0.096445</td>\n",
       "      <td>0.017153</td>\n",
       "    </tr>\n",
       "    <tr>\n",
       "      <th>score_time</th>\n",
       "      <td>0.009177</td>\n",
       "      <td>0.010173</td>\n",
       "      <td>0.008577</td>\n",
       "      <td>0.015360</td>\n",
       "    </tr>\n",
       "    <tr>\n",
       "      <th>test_accuracy</th>\n",
       "      <td>0.730481</td>\n",
       "      <td>0.730838</td>\n",
       "      <td>0.718717</td>\n",
       "      <td>0.663636</td>\n",
       "    </tr>\n",
       "    <tr>\n",
       "      <th>train_accuracy</th>\n",
       "      <td>0.751584</td>\n",
       "      <td>0.707974</td>\n",
       "      <td>0.759125</td>\n",
       "      <td>1.000000</td>\n",
       "    </tr>\n",
       "    <tr>\n",
       "      <th>test_precision_macro</th>\n",
       "      <td>0.758713</td>\n",
       "      <td>0.751985</td>\n",
       "      <td>0.724284</td>\n",
       "      <td>0.665426</td>\n",
       "    </tr>\n",
       "    <tr>\n",
       "      <th>train_precision_macro</th>\n",
       "      <td>0.769013</td>\n",
       "      <td>0.700427</td>\n",
       "      <td>0.753347</td>\n",
       "      <td>1.000000</td>\n",
       "    </tr>\n",
       "    <tr>\n",
       "      <th>test_recall_macro</th>\n",
       "      <td>0.701353</td>\n",
       "      <td>0.721729</td>\n",
       "      <td>0.712820</td>\n",
       "      <td>0.655526</td>\n",
       "    </tr>\n",
       "    <tr>\n",
       "      <th>train_recall_macro</th>\n",
       "      <td>0.723342</td>\n",
       "      <td>0.694762</td>\n",
       "      <td>0.750120</td>\n",
       "      <td>1.000000</td>\n",
       "    </tr>\n",
       "    <tr>\n",
       "      <th>test_f1_macro</th>\n",
       "      <td>0.706038</td>\n",
       "      <td>0.721217</td>\n",
       "      <td>0.712008</td>\n",
       "      <td>0.653881</td>\n",
       "    </tr>\n",
       "    <tr>\n",
       "      <th>train_f1_macro</th>\n",
       "      <td>0.728242</td>\n",
       "      <td>0.695495</td>\n",
       "      <td>0.751340</td>\n",
       "      <td>1.000000</td>\n",
       "    </tr>\n",
       "  </tbody>\n",
       "</table>\n",
       "</div>"
      ],
      "text/plain": [
       "                             dt       svm        lr       knn\n",
       "fit_time               0.010976  0.102526  0.096445  0.017153\n",
       "score_time             0.009177  0.010173  0.008577  0.015360\n",
       "test_accuracy          0.730481  0.730838  0.718717  0.663636\n",
       "train_accuracy         0.751584  0.707974  0.759125  1.000000\n",
       "test_precision_macro   0.758713  0.751985  0.724284  0.665426\n",
       "train_precision_macro  0.769013  0.700427  0.753347  1.000000\n",
       "test_recall_macro      0.701353  0.721729  0.712820  0.655526\n",
       "train_recall_macro     0.723342  0.694762  0.750120  1.000000\n",
       "test_f1_macro          0.706038  0.721217  0.712008  0.653881\n",
       "train_f1_macro         0.728242  0.695495  0.751340  1.000000"
      ]
     },
     "execution_count": 35,
     "metadata": {},
     "output_type": "execute_result"
    }
   ],
   "source": [
    "#display 5 fold cross validation result\n",
    "dt_result=display_result(dt_clf,feature,label)\n",
    "svm_result=display_result(svm_clf,feature,label)\n",
    "knn_result=display_result(knn_clf,feature,label)\n",
    "lr_result=display_result(lr_clf,feature,label)\n",
    "df=pd.DataFrame(zip(dt_result,svm_result,lr_result,knn_result),index=dt_result.index,columns=['dt','svm','lr','knn'])\n",
    "df\n"
   ]
  },
  {
   "cell_type": "code",
   "execution_count": 36,
   "metadata": {},
   "outputs": [],
   "source": [
    "#embeddings of test data\n",
    "test_fracture=get_features('../dataset/test/Fracture',v2_model_trained)\n",
    "test_normal= get_features('../dataset/test/Normal',v2_model_trained)\n",
    "test_feature=np.array(test_fracture+test_normal)\n",
    "test_label=np.array([0]*len(test_normal)+[1]*len(test_fracture))"
   ]
  },
  {
   "cell_type": "code",
   "execution_count": 37,
   "metadata": {},
   "outputs": [],
   "source": [
    "#scale the data\n",
    "scaler=StandardScaler()\n",
    "feature=scaler.fit_transform(feature)\n",
    "test_feature=scaler.transform(test_feature)"
   ]
  },
  {
   "cell_type": "code",
   "execution_count": 38,
   "metadata": {},
   "outputs": [
    {
     "name": "stdout",
     "output_type": "stream",
     "text": [
      "-----------------Decision Tree--------------\n",
      "              precision    recall  f1-score   support\n",
      "\n",
      "           0       0.50      0.25      0.33        12\n",
      "           1       0.57      0.80      0.67        15\n",
      "\n",
      "    accuracy                           0.56        27\n",
      "   macro avg       0.54      0.53      0.50        27\n",
      "weighted avg       0.54      0.56      0.52        27\n",
      "\n",
      "-----------------SVM--------------\n",
      "              precision    recall  f1-score   support\n",
      "\n",
      "           0       0.54      0.58      0.56        12\n",
      "           1       0.64      0.60      0.62        15\n",
      "\n",
      "    accuracy                           0.59        27\n",
      "   macro avg       0.59      0.59      0.59        27\n",
      "weighted avg       0.60      0.59      0.59        27\n",
      "\n",
      "-----------------logistic regression--------------\n",
      "              precision    recall  f1-score   support\n",
      "\n",
      "           0       0.64      0.58      0.61        12\n",
      "           1       0.69      0.73      0.71        15\n",
      "\n",
      "    accuracy                           0.67        27\n",
      "   macro avg       0.66      0.66      0.66        27\n",
      "weighted avg       0.66      0.67      0.66        27\n",
      "\n",
      "-----------------K Nearest neighbors--------------\n",
      "              precision    recall  f1-score   support\n",
      "\n",
      "           0       0.57      0.33      0.42        12\n",
      "           1       0.60      0.80      0.69        15\n",
      "\n",
      "    accuracy                           0.59        27\n",
      "   macro avg       0.59      0.57      0.55        27\n",
      "weighted avg       0.59      0.59      0.57        27\n",
      "\n"
     ]
    },
    {
     "name": "stderr",
     "output_type": "stream",
     "text": [
      "C:\\Anaconda3\\lib\\site-packages\\sklearn\\linear_model\\_logistic.py:764: ConvergenceWarning: lbfgs failed to converge (status=1):\n",
      "STOP: TOTAL NO. of ITERATIONS REACHED LIMIT.\n",
      "\n",
      "Increase the number of iterations (max_iter) or scale the data as shown in:\n",
      "    https://scikit-learn.org/stable/modules/preprocessing.html\n",
      "Please also refer to the documentation for alternative solver options:\n",
      "    https://scikit-learn.org/stable/modules/linear_model.html#logistic-regression\n",
      "  extra_warning_msg=_LOGISTIC_SOLVER_CONVERGENCE_MSG)\n"
     ]
    }
   ],
   "source": [
    "for clf_model,clf_name in zip([dt_clf,svm_clf,lr_clf,knn_clf],\\\n",
    "                              ['Decision Tree','SVM',\"logistic regression\",'K Nearest neighbors']):\n",
    "    print('-----------------{}--------------'.format(clf_name))\n",
    "    clf_model.fit(feature,label)\n",
    "    test_pred=clf_model.predict(test_feature)\n",
    "    print(classification_report(test_label,test_pred))"
   ]
  },
  {
   "cell_type": "code",
   "execution_count": null,
   "metadata": {},
   "outputs": [],
   "source": []
  },
  {
   "cell_type": "markdown",
   "metadata": {},
   "source": [
    "# My Model V2"
   ]
  },
  {
   "cell_type": "code",
   "execution_count": 39,
   "metadata": {},
   "outputs": [
    {
     "name": "stdout",
     "output_type": "stream",
     "text": [
      "774768\n"
     ]
    }
   ],
   "source": [
    "from models.mymodels import SqueezeNetV3\n",
    "criterion=ContrastiveLoss()\n",
    "v3_model=SqueezeNetV3()\n",
    "opt=torch.optim.Adam(params=v3_model.parameters(),lr=0.0001)\n",
    "print(count_parameters(v3_model))"
   ]
  },
  {
   "cell_type": "code",
   "execution_count": 40,
   "metadata": {},
   "outputs": [],
   "source": [
    "#train model\n",
    "v3_model_trained=train_dl(50,v3_model,\"cuda\",criterion,opt)"
   ]
  },
  {
   "cell_type": "code",
   "execution_count": 41,
   "metadata": {},
   "outputs": [],
   "source": [
    "#extract features\n",
    "fracture=get_features('../dataset/train/Fracture',v3_model_trained)\n",
    "normal= get_features('../dataset/train/Normal',v3_model_trained)"
   ]
  },
  {
   "cell_type": "code",
   "execution_count": 42,
   "metadata": {},
   "outputs": [],
   "source": [
    "#features and labels\n",
    "feature=np.array(fracture+normal)\n",
    "label=np.array([0]*len(normal)+[1]*len(fracture))"
   ]
  },
  {
   "cell_type": "code",
   "execution_count": 43,
   "metadata": {},
   "outputs": [],
   "source": [
    "#tune ml hyper parameters\n",
    "dt_clf,_=classifiers_tuning('dt',feature,label)\n",
    "svm_clf,_=classifiers_tuning('svm',feature,label)\n",
    "knn_clf,_=classifiers_tuning('knn',feature,label)\n",
    "lr_clf,_=classifiers_tuning('lr',feature,label)"
   ]
  },
  {
   "cell_type": "code",
   "execution_count": 44,
   "metadata": {},
   "outputs": [
    {
     "data": {
      "text/html": [
       "<div>\n",
       "<style scoped>\n",
       "    .dataframe tbody tr th:only-of-type {\n",
       "        vertical-align: middle;\n",
       "    }\n",
       "\n",
       "    .dataframe tbody tr th {\n",
       "        vertical-align: top;\n",
       "    }\n",
       "\n",
       "    .dataframe thead th {\n",
       "        text-align: right;\n",
       "    }\n",
       "</style>\n",
       "<table border=\"1\" class=\"dataframe\">\n",
       "  <thead>\n",
       "    <tr style=\"text-align: right;\">\n",
       "      <th></th>\n",
       "      <th>dt</th>\n",
       "      <th>svm</th>\n",
       "      <th>lr</th>\n",
       "      <th>knn</th>\n",
       "    </tr>\n",
       "  </thead>\n",
       "  <tbody>\n",
       "    <tr>\n",
       "      <th>fit_time</th>\n",
       "      <td>0.010578</td>\n",
       "      <td>0.103027</td>\n",
       "      <td>0.029925</td>\n",
       "      <td>0.020744</td>\n",
       "    </tr>\n",
       "    <tr>\n",
       "      <th>score_time</th>\n",
       "      <td>0.010572</td>\n",
       "      <td>0.011569</td>\n",
       "      <td>0.010372</td>\n",
       "      <td>0.022540</td>\n",
       "    </tr>\n",
       "    <tr>\n",
       "      <th>test_accuracy</th>\n",
       "      <td>0.808378</td>\n",
       "      <td>0.808378</td>\n",
       "      <td>0.790374</td>\n",
       "      <td>0.790374</td>\n",
       "    </tr>\n",
       "    <tr>\n",
       "      <th>train_accuracy</th>\n",
       "      <td>0.864548</td>\n",
       "      <td>0.825382</td>\n",
       "      <td>0.820893</td>\n",
       "      <td>0.817840</td>\n",
       "    </tr>\n",
       "    <tr>\n",
       "      <th>test_precision_macro</th>\n",
       "      <td>0.846762</td>\n",
       "      <td>0.849252</td>\n",
       "      <td>0.845073</td>\n",
       "      <td>0.825632</td>\n",
       "    </tr>\n",
       "    <tr>\n",
       "      <th>train_precision_macro</th>\n",
       "      <td>0.863434</td>\n",
       "      <td>0.823102</td>\n",
       "      <td>0.816566</td>\n",
       "      <td>0.817563</td>\n",
       "    </tr>\n",
       "    <tr>\n",
       "      <th>test_recall_macro</th>\n",
       "      <td>0.810564</td>\n",
       "      <td>0.808684</td>\n",
       "      <td>0.787519</td>\n",
       "      <td>0.798797</td>\n",
       "    </tr>\n",
       "    <tr>\n",
       "      <th>train_recall_macro</th>\n",
       "      <td>0.867968</td>\n",
       "      <td>0.826846</td>\n",
       "      <td>0.817105</td>\n",
       "      <td>0.824180</td>\n",
       "    </tr>\n",
       "    <tr>\n",
       "      <th>test_f1_macro</th>\n",
       "      <td>0.800518</td>\n",
       "      <td>0.799077</td>\n",
       "      <td>0.777145</td>\n",
       "      <td>0.782253</td>\n",
       "    </tr>\n",
       "    <tr>\n",
       "      <th>train_f1_macro</th>\n",
       "      <td>0.862874</td>\n",
       "      <td>0.822861</td>\n",
       "      <td>0.816705</td>\n",
       "      <td>0.816363</td>\n",
       "    </tr>\n",
       "  </tbody>\n",
       "</table>\n",
       "</div>"
      ],
      "text/plain": [
       "                             dt       svm        lr       knn\n",
       "fit_time               0.010578  0.103027  0.029925  0.020744\n",
       "score_time             0.010572  0.011569  0.010372  0.022540\n",
       "test_accuracy          0.808378  0.808378  0.790374  0.790374\n",
       "train_accuracy         0.864548  0.825382  0.820893  0.817840\n",
       "test_precision_macro   0.846762  0.849252  0.845073  0.825632\n",
       "train_precision_macro  0.863434  0.823102  0.816566  0.817563\n",
       "test_recall_macro      0.810564  0.808684  0.787519  0.798797\n",
       "train_recall_macro     0.867968  0.826846  0.817105  0.824180\n",
       "test_f1_macro          0.800518  0.799077  0.777145  0.782253\n",
       "train_f1_macro         0.862874  0.822861  0.816705  0.816363"
      ]
     },
     "execution_count": 44,
     "metadata": {},
     "output_type": "execute_result"
    }
   ],
   "source": [
    "#display 5 fold cross validation result\n",
    "dt_result=display_result(dt_clf,feature,label)\n",
    "svm_result=display_result(svm_clf,feature,label)\n",
    "knn_result=display_result(knn_clf,feature,label)\n",
    "lr_result=display_result(lr_clf,feature,label)\n",
    "df=pd.DataFrame(zip(dt_result,svm_result,lr_result,knn_result),index=dt_result.index,columns=['dt','svm','lr','knn'])\n",
    "df\n"
   ]
  },
  {
   "cell_type": "code",
   "execution_count": 45,
   "metadata": {},
   "outputs": [],
   "source": [
    "#embeddings of test data\n",
    "test_fracture=get_features('../dataset/test/Fracture',v3_model_trained)\n",
    "test_normal= get_features('../dataset/test/Normal',v3_model_trained)\n",
    "test_feature=np.array(test_fracture+test_normal)\n",
    "test_label=np.array([0]*len(test_normal)+[1]*len(test_fracture))"
   ]
  },
  {
   "cell_type": "code",
   "execution_count": 46,
   "metadata": {},
   "outputs": [],
   "source": [
    "#scale the data\n",
    "scaler=StandardScaler()\n",
    "feature=scaler.fit_transform(feature)\n",
    "test_feature=scaler.transform(test_feature)"
   ]
  },
  {
   "cell_type": "code",
   "execution_count": 47,
   "metadata": {},
   "outputs": [
    {
     "name": "stdout",
     "output_type": "stream",
     "text": [
      "-----------------Decision Tree--------------\n",
      "              precision    recall  f1-score   support\n",
      "\n",
      "           0       0.70      0.58      0.64        12\n",
      "           1       0.71      0.80      0.75        15\n",
      "\n",
      "    accuracy                           0.70        27\n",
      "   macro avg       0.70      0.69      0.69        27\n",
      "weighted avg       0.70      0.70      0.70        27\n",
      "\n",
      "-----------------SVM--------------\n",
      "              precision    recall  f1-score   support\n",
      "\n",
      "           0       0.82      0.75      0.78        12\n",
      "           1       0.81      0.87      0.84        15\n",
      "\n",
      "    accuracy                           0.81        27\n",
      "   macro avg       0.82      0.81      0.81        27\n",
      "weighted avg       0.82      0.81      0.81        27\n",
      "\n",
      "-----------------logistic regression--------------\n",
      "              precision    recall  f1-score   support\n",
      "\n",
      "           0       0.78      0.58      0.67        12\n",
      "           1       0.72      0.87      0.79        15\n",
      "\n",
      "    accuracy                           0.74        27\n",
      "   macro avg       0.75      0.73      0.73        27\n",
      "weighted avg       0.75      0.74      0.73        27\n",
      "\n",
      "-----------------K Nearest neighbors--------------\n",
      "              precision    recall  f1-score   support\n",
      "\n",
      "           0       0.80      0.67      0.73        12\n",
      "           1       0.76      0.87      0.81        15\n",
      "\n",
      "    accuracy                           0.78        27\n",
      "   macro avg       0.78      0.77      0.77        27\n",
      "weighted avg       0.78      0.78      0.77        27\n",
      "\n"
     ]
    }
   ],
   "source": [
    "for clf_model,clf_name in zip([dt_clf,svm_clf,lr_clf,knn_clf],\\\n",
    "                              ['Decision Tree','SVM',\"logistic regression\",'K Nearest neighbors']):\n",
    "    print('-----------------{}--------------'.format(clf_name))\n",
    "    clf_model.fit(feature,label)\n",
    "    test_pred=clf_model.predict(test_feature)\n",
    "    print(classification_report(test_label,test_pred))"
   ]
  },
  {
   "cell_type": "markdown",
   "metadata": {},
   "source": [
    "# My Model V3"
   ]
  },
  {
   "cell_type": "code",
   "execution_count": 48,
   "metadata": {},
   "outputs": [
    {
     "name": "stdout",
     "output_type": "stream",
     "text": [
      "774768\n"
     ]
    }
   ],
   "source": [
    "from models.mymodels import SqueezeNetV4\n",
    "criterion=ContrastiveLoss()\n",
    "v4_model=SqueezeNetV4()\n",
    "opt=torch.optim.Adam(params=v4_model.parameters(),lr=0.0001)\n",
    "print(count_parameters(v4_model))"
   ]
  },
  {
   "cell_type": "code",
   "execution_count": 49,
   "metadata": {},
   "outputs": [],
   "source": [
    "#train model\n",
    "v4_model_trained=train_dl(50,v4_model,\"cuda\",criterion,opt)"
   ]
  },
  {
   "cell_type": "code",
   "execution_count": 50,
   "metadata": {},
   "outputs": [],
   "source": [
    "#extract features\n",
    "fracture=get_features('../dataset/train/Fracture',v4_model_trained)\n",
    "normal= get_features('../dataset/train/Normal',v4_model_trained)"
   ]
  },
  {
   "cell_type": "code",
   "execution_count": 51,
   "metadata": {},
   "outputs": [],
   "source": [
    "#features and labels\n",
    "feature=np.array(fracture+normal)\n",
    "label=np.array([0]*len(normal)+[1]*len(fracture))"
   ]
  },
  {
   "cell_type": "code",
   "execution_count": 52,
   "metadata": {},
   "outputs": [],
   "source": [
    "#tune ml hyper parameters\n",
    "dt_clf,_=classifiers_tuning('dt',feature,label)\n",
    "svm_clf,_=classifiers_tuning('svm',feature,label)\n",
    "knn_clf,_=classifiers_tuning('knn',feature,label)\n",
    "lr_clf,_=classifiers_tuning('lr',feature,label)"
   ]
  },
  {
   "cell_type": "code",
   "execution_count": 53,
   "metadata": {},
   "outputs": [
    {
     "data": {
      "text/html": [
       "<div>\n",
       "<style scoped>\n",
       "    .dataframe tbody tr th:only-of-type {\n",
       "        vertical-align: middle;\n",
       "    }\n",
       "\n",
       "    .dataframe tbody tr th {\n",
       "        vertical-align: top;\n",
       "    }\n",
       "\n",
       "    .dataframe thead th {\n",
       "        text-align: right;\n",
       "    }\n",
       "</style>\n",
       "<table border=\"1\" class=\"dataframe\">\n",
       "  <thead>\n",
       "    <tr style=\"text-align: right;\">\n",
       "      <th></th>\n",
       "      <th>dt</th>\n",
       "      <th>svm</th>\n",
       "      <th>lr</th>\n",
       "      <th>knn</th>\n",
       "    </tr>\n",
       "  </thead>\n",
       "  <tbody>\n",
       "    <tr>\n",
       "      <th>fit_time</th>\n",
       "      <td>0.012566</td>\n",
       "      <td>0.095943</td>\n",
       "      <td>0.095545</td>\n",
       "      <td>0.026729</td>\n",
       "    </tr>\n",
       "    <tr>\n",
       "      <th>score_time</th>\n",
       "      <td>0.015558</td>\n",
       "      <td>0.014561</td>\n",
       "      <td>0.012966</td>\n",
       "      <td>0.024734</td>\n",
       "    </tr>\n",
       "    <tr>\n",
       "      <th>test_accuracy</th>\n",
       "      <td>0.808556</td>\n",
       "      <td>0.772193</td>\n",
       "      <td>0.754011</td>\n",
       "      <td>0.778431</td>\n",
       "    </tr>\n",
       "    <tr>\n",
       "      <th>train_accuracy</th>\n",
       "      <td>0.847961</td>\n",
       "      <td>0.804261</td>\n",
       "      <td>0.835897</td>\n",
       "      <td>1.000000</td>\n",
       "    </tr>\n",
       "    <tr>\n",
       "      <th>test_precision_macro</th>\n",
       "      <td>0.831769</td>\n",
       "      <td>0.792048</td>\n",
       "      <td>0.771083</td>\n",
       "      <td>0.801346</td>\n",
       "    </tr>\n",
       "    <tr>\n",
       "      <th>train_precision_macro</th>\n",
       "      <td>0.856308</td>\n",
       "      <td>0.799880</td>\n",
       "      <td>0.832761</td>\n",
       "      <td>1.000000</td>\n",
       "    </tr>\n",
       "    <tr>\n",
       "      <th>test_recall_macro</th>\n",
       "      <td>0.819962</td>\n",
       "      <td>0.772820</td>\n",
       "      <td>0.745752</td>\n",
       "      <td>0.782105</td>\n",
       "    </tr>\n",
       "    <tr>\n",
       "      <th>train_recall_macro</th>\n",
       "      <td>0.862312</td>\n",
       "      <td>0.803691</td>\n",
       "      <td>0.829571</td>\n",
       "      <td>1.000000</td>\n",
       "    </tr>\n",
       "    <tr>\n",
       "      <th>test_f1_macro</th>\n",
       "      <td>0.803355</td>\n",
       "      <td>0.766365</td>\n",
       "      <td>0.743755</td>\n",
       "      <td>0.772420</td>\n",
       "    </tr>\n",
       "    <tr>\n",
       "      <th>train_f1_macro</th>\n",
       "      <td>0.847614</td>\n",
       "      <td>0.800876</td>\n",
       "      <td>0.830954</td>\n",
       "      <td>1.000000</td>\n",
       "    </tr>\n",
       "  </tbody>\n",
       "</table>\n",
       "</div>"
      ],
      "text/plain": [
       "                             dt       svm        lr       knn\n",
       "fit_time               0.012566  0.095943  0.095545  0.026729\n",
       "score_time             0.015558  0.014561  0.012966  0.024734\n",
       "test_accuracy          0.808556  0.772193  0.754011  0.778431\n",
       "train_accuracy         0.847961  0.804261  0.835897  1.000000\n",
       "test_precision_macro   0.831769  0.792048  0.771083  0.801346\n",
       "train_precision_macro  0.856308  0.799880  0.832761  1.000000\n",
       "test_recall_macro      0.819962  0.772820  0.745752  0.782105\n",
       "train_recall_macro     0.862312  0.803691  0.829571  1.000000\n",
       "test_f1_macro          0.803355  0.766365  0.743755  0.772420\n",
       "train_f1_macro         0.847614  0.800876  0.830954  1.000000"
      ]
     },
     "execution_count": 53,
     "metadata": {},
     "output_type": "execute_result"
    }
   ],
   "source": [
    "#display 5 fold cross validation result\n",
    "dt_result=display_result(dt_clf,feature,label)\n",
    "svm_result=display_result(svm_clf,feature,label)\n",
    "knn_result=display_result(knn_clf,feature,label)\n",
    "lr_result=display_result(lr_clf,feature,label)\n",
    "df=pd.DataFrame(zip(dt_result,svm_result,lr_result,knn_result),index=dt_result.index,columns=['dt','svm','lr','knn'])\n",
    "df\n"
   ]
  },
  {
   "cell_type": "code",
   "execution_count": 54,
   "metadata": {},
   "outputs": [],
   "source": [
    "#embeddings of test data\n",
    "test_fracture=get_features('../dataset/test/Fracture',v4_model_trained)\n",
    "test_normal= get_features('../dataset/test/Normal',v4_model_trained)\n",
    "test_feature=np.array(test_fracture+test_normal)\n",
    "test_label=np.array([0]*len(test_normal)+[1]*len(test_fracture))"
   ]
  },
  {
   "cell_type": "code",
   "execution_count": 55,
   "metadata": {},
   "outputs": [],
   "source": [
    "#scale the data\n",
    "scaler=StandardScaler()\n",
    "feature=scaler.fit_transform(feature)\n",
    "test_feature=scaler.transform(test_feature)"
   ]
  },
  {
   "cell_type": "code",
   "execution_count": 56,
   "metadata": {},
   "outputs": [
    {
     "name": "stdout",
     "output_type": "stream",
     "text": [
      "-----------------Decision Tree--------------\n",
      "              precision    recall  f1-score   support\n",
      "\n",
      "           0       0.71      0.83      0.77        12\n",
      "           1       0.85      0.73      0.79        15\n",
      "\n",
      "    accuracy                           0.78        27\n",
      "   macro avg       0.78      0.78      0.78        27\n",
      "weighted avg       0.79      0.78      0.78        27\n",
      "\n",
      "-----------------SVM--------------\n",
      "              precision    recall  f1-score   support\n",
      "\n",
      "           0       1.00      0.75      0.86        12\n",
      "           1       0.83      1.00      0.91        15\n",
      "\n",
      "    accuracy                           0.89        27\n",
      "   macro avg       0.92      0.88      0.88        27\n",
      "weighted avg       0.91      0.89      0.89        27\n",
      "\n",
      "-----------------logistic regression--------------\n",
      "              precision    recall  f1-score   support\n",
      "\n",
      "           0       1.00      0.42      0.59        12\n",
      "           1       0.68      1.00      0.81        15\n",
      "\n",
      "    accuracy                           0.74        27\n",
      "   macro avg       0.84      0.71      0.70        27\n",
      "weighted avg       0.82      0.74      0.71        27\n",
      "\n",
      "-----------------K Nearest neighbors--------------\n",
      "              precision    recall  f1-score   support\n",
      "\n",
      "           0       0.89      0.67      0.76        12\n",
      "           1       0.78      0.93      0.85        15\n",
      "\n",
      "    accuracy                           0.81        27\n",
      "   macro avg       0.83      0.80      0.81        27\n",
      "weighted avg       0.83      0.81      0.81        27\n",
      "\n"
     ]
    }
   ],
   "source": [
    "for clf_model,clf_name in zip([dt_clf,svm_clf,lr_clf,knn_clf],\\\n",
    "                              ['Decision Tree','SVM',\"logistic regression\",'K Nearest neighbors']):\n",
    "    print('-----------------{}--------------'.format(clf_name))\n",
    "    clf_model.fit(feature,label)\n",
    "    test_pred=clf_model.predict(test_feature)\n",
    "    print(classification_report(test_label,test_pred))"
   ]
  },
  {
   "cell_type": "code",
   "execution_count": null,
   "metadata": {},
   "outputs": [],
   "source": []
  },
  {
   "cell_type": "code",
   "execution_count": null,
   "metadata": {},
   "outputs": [],
   "source": []
  }
 ],
 "metadata": {
  "kernelspec": {
   "display_name": "Python 3",
   "language": "python",
   "name": "python3"
  },
  "language_info": {
   "codemirror_mode": {
    "name": "ipython",
    "version": 3
   },
   "file_extension": ".py",
   "mimetype": "text/x-python",
   "name": "python",
   "nbconvert_exporter": "python",
   "pygments_lexer": "ipython3",
   "version": "3.7.6"
  }
 },
 "nbformat": 4,
 "nbformat_minor": 4
}
