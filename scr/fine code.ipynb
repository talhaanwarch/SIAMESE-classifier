{
 "cells": [
  {
   "cell_type": "code",
   "execution_count": 1,
   "metadata": {},
   "outputs": [],
   "source": [
    "#initialize model\n",
    "from loss import ContrastiveLoss\n",
    "from model import *\n",
    "import torch\n",
    "from ml_training import *\n",
    "from dl_training import *\n"
   ]
  },
  {
   "cell_type": "markdown",
   "metadata": {},
   "source": [
    "# Resnet 50"
   ]
  },
  {
   "cell_type": "code",
   "execution_count": 3,
   "metadata": {},
   "outputs": [],
   "source": [
    "criterion=ContrastiveLoss()\n",
    "res50_model=ResNet50()\n",
    "opt=torch.optim.Adam(params=res50_model.parameters(),lr=0.0001)"
   ]
  },
  {
   "cell_type": "code",
   "execution_count": 4,
   "metadata": {},
   "outputs": [],
   "source": [
    "#train model\n",
    "res50_model_trained=train_dl(50,res50_model,\"cuda\",criterion,opt)"
   ]
  },
  {
   "cell_type": "code",
   "execution_count": 5,
   "metadata": {},
   "outputs": [],
   "source": [
    "#extract features\n",
    "fracture=get_features('../Wrist Fracture/train/Fracture',res50_model_trained)\n",
    "normal= get_features('../Wrist Fracture/train/Normal',res50_model_trained)"
   ]
  },
  {
   "cell_type": "code",
   "execution_count": 6,
   "metadata": {},
   "outputs": [],
   "source": [
    "#features and labels\n",
    "feature=np.array(fracture+normal)\n",
    "label=np.array([0]*len(normal)+[1]*len(fracture))"
   ]
  },
  {
   "cell_type": "code",
   "execution_count": 7,
   "metadata": {},
   "outputs": [],
   "source": [
    "#tune ml hyper parameters\n",
    "dt_clf,_=classifiers_tuning('dt',feature,label)\n",
    "svm_clf,_=classifiers_tuning('svm',feature,label)\n",
    "knn_clf,_=classifiers_tuning('knn',feature,label)\n",
    "lr_clf,_=classifiers_tuning('lr',feature,label)"
   ]
  },
  {
   "cell_type": "code",
   "execution_count": 8,
   "metadata": {},
   "outputs": [
    {
     "data": {
      "text/html": [
       "<div>\n",
       "<style scoped>\n",
       "    .dataframe tbody tr th:only-of-type {\n",
       "        vertical-align: middle;\n",
       "    }\n",
       "\n",
       "    .dataframe tbody tr th {\n",
       "        vertical-align: top;\n",
       "    }\n",
       "\n",
       "    .dataframe thead th {\n",
       "        text-align: right;\n",
       "    }\n",
       "</style>\n",
       "<table border=\"1\" class=\"dataframe\">\n",
       "  <thead>\n",
       "    <tr style=\"text-align: right;\">\n",
       "      <th></th>\n",
       "      <th>dt</th>\n",
       "      <th>svm</th>\n",
       "      <th>lr</th>\n",
       "      <th>knn</th>\n",
       "    </tr>\n",
       "  </thead>\n",
       "  <tbody>\n",
       "    <tr>\n",
       "      <th>fit_time</th>\n",
       "      <td>0.006981</td>\n",
       "      <td>0.085970</td>\n",
       "      <td>0.019947</td>\n",
       "      <td>0.015752</td>\n",
       "    </tr>\n",
       "    <tr>\n",
       "      <th>score_time</th>\n",
       "      <td>0.007180</td>\n",
       "      <td>0.008777</td>\n",
       "      <td>0.006981</td>\n",
       "      <td>0.015344</td>\n",
       "    </tr>\n",
       "    <tr>\n",
       "      <th>test_accuracy</th>\n",
       "      <td>0.784492</td>\n",
       "      <td>0.791087</td>\n",
       "      <td>0.760963</td>\n",
       "      <td>0.797504</td>\n",
       "    </tr>\n",
       "    <tr>\n",
       "      <th>train_accuracy</th>\n",
       "      <td>0.878139</td>\n",
       "      <td>0.842003</td>\n",
       "      <td>0.793791</td>\n",
       "      <td>1.000000</td>\n",
       "    </tr>\n",
       "    <tr>\n",
       "      <th>test_precision_macro</th>\n",
       "      <td>0.807667</td>\n",
       "      <td>0.824355</td>\n",
       "      <td>0.789343</td>\n",
       "      <td>0.818295</td>\n",
       "    </tr>\n",
       "    <tr>\n",
       "      <th>train_precision_macro</th>\n",
       "      <td>0.874748</td>\n",
       "      <td>0.841925</td>\n",
       "      <td>0.788775</td>\n",
       "      <td>1.000000</td>\n",
       "    </tr>\n",
       "    <tr>\n",
       "      <th>test_recall_macro</th>\n",
       "      <td>0.783872</td>\n",
       "      <td>0.799323</td>\n",
       "      <td>0.759850</td>\n",
       "      <td>0.814511</td>\n",
       "    </tr>\n",
       "    <tr>\n",
       "      <th>train_recall_macro</th>\n",
       "      <td>0.879170</td>\n",
       "      <td>0.849880</td>\n",
       "      <td>0.788337</td>\n",
       "      <td>1.000000</td>\n",
       "    </tr>\n",
       "    <tr>\n",
       "      <th>test_f1_macro</th>\n",
       "      <td>0.776199</td>\n",
       "      <td>0.780644</td>\n",
       "      <td>0.748183</td>\n",
       "      <td>0.784225</td>\n",
       "    </tr>\n",
       "    <tr>\n",
       "      <th>train_f1_macro</th>\n",
       "      <td>0.876051</td>\n",
       "      <td>0.840991</td>\n",
       "      <td>0.788471</td>\n",
       "      <td>1.000000</td>\n",
       "    </tr>\n",
       "  </tbody>\n",
       "</table>\n",
       "</div>"
      ],
      "text/plain": [
       "                             dt       svm        lr       knn\n",
       "fit_time               0.006981  0.085970  0.019947  0.015752\n",
       "score_time             0.007180  0.008777  0.006981  0.015344\n",
       "test_accuracy          0.784492  0.791087  0.760963  0.797504\n",
       "train_accuracy         0.878139  0.842003  0.793791  1.000000\n",
       "test_precision_macro   0.807667  0.824355  0.789343  0.818295\n",
       "train_precision_macro  0.874748  0.841925  0.788775  1.000000\n",
       "test_recall_macro      0.783872  0.799323  0.759850  0.814511\n",
       "train_recall_macro     0.879170  0.849880  0.788337  1.000000\n",
       "test_f1_macro          0.776199  0.780644  0.748183  0.784225\n",
       "train_f1_macro         0.876051  0.840991  0.788471  1.000000"
      ]
     },
     "execution_count": 8,
     "metadata": {},
     "output_type": "execute_result"
    }
   ],
   "source": [
    "#display 5 fold cross validation result\n",
    "dt_result=display_result(dt_clf,feature,label)\n",
    "svm_result=display_result(svm_clf,feature,label)\n",
    "knn_result=display_result(knn_clf,feature,label)\n",
    "lr_result=display_result(lr_clf,feature,label)\n",
    "df=pd.DataFrame(zip(dt_result,svm_result,lr_result,knn_result),index=dt_result.index,columns=['dt','svm','lr','knn'])\n",
    "df\n"
   ]
  },
  {
   "cell_type": "code",
   "execution_count": 9,
   "metadata": {},
   "outputs": [],
   "source": [
    "#embeddings of test data\n",
    "test_fracture=get_features('../Wrist Fracture/test/Fracture',res50_model_trained)\n",
    "test_normal= get_features('../Wrist Fracture/test/Normal',res50_model_trained)\n",
    "test_feature=np.array(test_fracture+test_normal)\n",
    "test_label=np.array([0]*len(test_normal)+[1]*len(test_fracture))"
   ]
  },
  {
   "cell_type": "code",
   "execution_count": 10,
   "metadata": {},
   "outputs": [],
   "source": [
    "#scale the data\n",
    "scaler=StandardScaler()\n",
    "feature=scaler.fit_transform(feature)\n",
    "test_feature=scaler.transform(test_feature)"
   ]
  },
  {
   "cell_type": "code",
   "execution_count": 11,
   "metadata": {
    "scrolled": false
   },
   "outputs": [
    {
     "name": "stdout",
     "output_type": "stream",
     "text": [
      "-----------------Decision Tree--------------\n",
      "              precision    recall  f1-score   support\n",
      "\n",
      "           0       0.75      0.50      0.60        12\n",
      "           1       0.68      0.87      0.76        15\n",
      "\n",
      "    accuracy                           0.70        27\n",
      "   macro avg       0.72      0.68      0.68        27\n",
      "weighted avg       0.71      0.70      0.69        27\n",
      "\n",
      "-----------------SVM--------------\n",
      "              precision    recall  f1-score   support\n",
      "\n",
      "           0       0.64      0.75      0.69        12\n",
      "           1       0.77      0.67      0.71        15\n",
      "\n",
      "    accuracy                           0.70        27\n",
      "   macro avg       0.71      0.71      0.70        27\n",
      "weighted avg       0.71      0.70      0.70        27\n",
      "\n",
      "-----------------logistic regression--------------\n",
      "              precision    recall  f1-score   support\n",
      "\n",
      "           0       0.78      0.58      0.67        12\n",
      "           1       0.72      0.87      0.79        15\n",
      "\n",
      "    accuracy                           0.74        27\n",
      "   macro avg       0.75      0.73      0.73        27\n",
      "weighted avg       0.75      0.74      0.73        27\n",
      "\n",
      "-----------------K Nearest neighbors--------------\n",
      "              precision    recall  f1-score   support\n",
      "\n",
      "           0       0.65      0.92      0.76        12\n",
      "           1       0.90      0.60      0.72        15\n",
      "\n",
      "    accuracy                           0.74        27\n",
      "   macro avg       0.77      0.76      0.74        27\n",
      "weighted avg       0.79      0.74      0.74        27\n",
      "\n"
     ]
    }
   ],
   "source": [
    "for clf_model,clf_name in zip([dt_clf,svm_clf,lr_clf,knn_clf],\\\n",
    "                              ['Decision Tree','SVM',\"logistic regression\",'K Nearest neighbors']):\n",
    "    print('-----------------{}--------------'.format(clf_name))\n",
    "    clf_model.fit(feature,label)\n",
    "    test_pred=clf_model.predict(test_feature)\n",
    "    print(classification_report(test_label,test_pred))"
   ]
  },
  {
   "cell_type": "markdown",
   "metadata": {},
   "source": [
    "# My Model V1"
   ]
  },
  {
   "cell_type": "code",
   "execution_count": 12,
   "metadata": {},
   "outputs": [],
   "source": [
    "criterion=ContrastiveLoss()\n",
    "v2_model=SqueezeNetV2()\n",
    "opt=torch.optim.Adam(params=v2_model.parameters(),lr=0.0001)"
   ]
  },
  {
   "cell_type": "code",
   "execution_count": 13,
   "metadata": {},
   "outputs": [],
   "source": [
    "#train model\n",
    "v2_model_trained=train_dl(50,v2_model,\"cuda\",criterion,opt)"
   ]
  },
  {
   "cell_type": "code",
   "execution_count": 14,
   "metadata": {},
   "outputs": [],
   "source": [
    "#extract features\n",
    "fracture=get_features('../Wrist Fracture/train/Fracture',v2_model_trained)\n",
    "normal= get_features('../Wrist Fracture/train/Normal',v2_model_trained)"
   ]
  },
  {
   "cell_type": "code",
   "execution_count": 15,
   "metadata": {},
   "outputs": [],
   "source": [
    "#features and labels\n",
    "feature=np.array(fracture+normal)\n",
    "label=np.array([0]*len(normal)+[1]*len(fracture))"
   ]
  },
  {
   "cell_type": "code",
   "execution_count": 16,
   "metadata": {},
   "outputs": [
    {
     "name": "stderr",
     "output_type": "stream",
     "text": [
      "C:\\Anaconda3\\lib\\site-packages\\sklearn\\linear_model\\_logistic.py:764: ConvergenceWarning: lbfgs failed to converge (status=1):\n",
      "STOP: TOTAL NO. of ITERATIONS REACHED LIMIT.\n",
      "\n",
      "Increase the number of iterations (max_iter) or scale the data as shown in:\n",
      "    https://scikit-learn.org/stable/modules/preprocessing.html\n",
      "Please also refer to the documentation for alternative solver options:\n",
      "    https://scikit-learn.org/stable/modules/linear_model.html#logistic-regression\n",
      "  extra_warning_msg=_LOGISTIC_SOLVER_CONVERGENCE_MSG)\n"
     ]
    }
   ],
   "source": [
    "#tune ml hyper parameters\n",
    "dt_clf,_=classifiers_tuning('dt',feature,label)\n",
    "svm_clf,_=classifiers_tuning('svm',feature,label)\n",
    "knn_clf,_=classifiers_tuning('knn',feature,label)\n",
    "lr_clf,_=classifiers_tuning('lr',feature,label)"
   ]
  },
  {
   "cell_type": "code",
   "execution_count": 17,
   "metadata": {},
   "outputs": [
    {
     "name": "stderr",
     "output_type": "stream",
     "text": [
      "C:\\Anaconda3\\lib\\site-packages\\sklearn\\linear_model\\_logistic.py:764: ConvergenceWarning: lbfgs failed to converge (status=1):\n",
      "STOP: TOTAL NO. of ITERATIONS REACHED LIMIT.\n",
      "\n",
      "Increase the number of iterations (max_iter) or scale the data as shown in:\n",
      "    https://scikit-learn.org/stable/modules/preprocessing.html\n",
      "Please also refer to the documentation for alternative solver options:\n",
      "    https://scikit-learn.org/stable/modules/linear_model.html#logistic-regression\n",
      "  extra_warning_msg=_LOGISTIC_SOLVER_CONVERGENCE_MSG)\n",
      "C:\\Anaconda3\\lib\\site-packages\\sklearn\\linear_model\\_logistic.py:764: ConvergenceWarning: lbfgs failed to converge (status=1):\n",
      "STOP: TOTAL NO. of ITERATIONS REACHED LIMIT.\n",
      "\n",
      "Increase the number of iterations (max_iter) or scale the data as shown in:\n",
      "    https://scikit-learn.org/stable/modules/preprocessing.html\n",
      "Please also refer to the documentation for alternative solver options:\n",
      "    https://scikit-learn.org/stable/modules/linear_model.html#logistic-regression\n",
      "  extra_warning_msg=_LOGISTIC_SOLVER_CONVERGENCE_MSG)\n",
      "C:\\Anaconda3\\lib\\site-packages\\sklearn\\linear_model\\_logistic.py:764: ConvergenceWarning: lbfgs failed to converge (status=1):\n",
      "STOP: TOTAL NO. of ITERATIONS REACHED LIMIT.\n",
      "\n",
      "Increase the number of iterations (max_iter) or scale the data as shown in:\n",
      "    https://scikit-learn.org/stable/modules/preprocessing.html\n",
      "Please also refer to the documentation for alternative solver options:\n",
      "    https://scikit-learn.org/stable/modules/linear_model.html#logistic-regression\n",
      "  extra_warning_msg=_LOGISTIC_SOLVER_CONVERGENCE_MSG)\n",
      "C:\\Anaconda3\\lib\\site-packages\\sklearn\\linear_model\\_logistic.py:764: ConvergenceWarning: lbfgs failed to converge (status=1):\n",
      "STOP: TOTAL NO. of ITERATIONS REACHED LIMIT.\n",
      "\n",
      "Increase the number of iterations (max_iter) or scale the data as shown in:\n",
      "    https://scikit-learn.org/stable/modules/preprocessing.html\n",
      "Please also refer to the documentation for alternative solver options:\n",
      "    https://scikit-learn.org/stable/modules/linear_model.html#logistic-regression\n",
      "  extra_warning_msg=_LOGISTIC_SOLVER_CONVERGENCE_MSG)\n",
      "C:\\Anaconda3\\lib\\site-packages\\sklearn\\linear_model\\_logistic.py:764: ConvergenceWarning: lbfgs failed to converge (status=1):\n",
      "STOP: TOTAL NO. of ITERATIONS REACHED LIMIT.\n",
      "\n",
      "Increase the number of iterations (max_iter) or scale the data as shown in:\n",
      "    https://scikit-learn.org/stable/modules/preprocessing.html\n",
      "Please also refer to the documentation for alternative solver options:\n",
      "    https://scikit-learn.org/stable/modules/linear_model.html#logistic-regression\n",
      "  extra_warning_msg=_LOGISTIC_SOLVER_CONVERGENCE_MSG)\n"
     ]
    },
    {
     "data": {
      "text/html": [
       "<div>\n",
       "<style scoped>\n",
       "    .dataframe tbody tr th:only-of-type {\n",
       "        vertical-align: middle;\n",
       "    }\n",
       "\n",
       "    .dataframe tbody tr th {\n",
       "        vertical-align: top;\n",
       "    }\n",
       "\n",
       "    .dataframe thead th {\n",
       "        text-align: right;\n",
       "    }\n",
       "</style>\n",
       "<table border=\"1\" class=\"dataframe\">\n",
       "  <thead>\n",
       "    <tr style=\"text-align: right;\">\n",
       "      <th></th>\n",
       "      <th>dt</th>\n",
       "      <th>svm</th>\n",
       "      <th>lr</th>\n",
       "      <th>knn</th>\n",
       "    </tr>\n",
       "  </thead>\n",
       "  <tbody>\n",
       "    <tr>\n",
       "      <th>fit_time</th>\n",
       "      <td>0.008187</td>\n",
       "      <td>0.071409</td>\n",
       "      <td>0.065218</td>\n",
       "      <td>0.013962</td>\n",
       "    </tr>\n",
       "    <tr>\n",
       "      <th>score_time</th>\n",
       "      <td>0.007379</td>\n",
       "      <td>0.007780</td>\n",
       "      <td>0.006982</td>\n",
       "      <td>0.013974</td>\n",
       "    </tr>\n",
       "    <tr>\n",
       "      <th>test_accuracy</th>\n",
       "      <td>0.809091</td>\n",
       "      <td>0.803030</td>\n",
       "      <td>0.766845</td>\n",
       "      <td>0.809091</td>\n",
       "    </tr>\n",
       "    <tr>\n",
       "      <th>train_accuracy</th>\n",
       "      <td>0.826920</td>\n",
       "      <td>0.813374</td>\n",
       "      <td>0.817897</td>\n",
       "      <td>0.801321</td>\n",
       "    </tr>\n",
       "    <tr>\n",
       "      <th>test_precision_macro</th>\n",
       "      <td>0.819894</td>\n",
       "      <td>0.823853</td>\n",
       "      <td>0.797890</td>\n",
       "      <td>0.824880</td>\n",
       "    </tr>\n",
       "    <tr>\n",
       "      <th>train_precision_macro</th>\n",
       "      <td>0.831489</td>\n",
       "      <td>0.813834</td>\n",
       "      <td>0.813701</td>\n",
       "      <td>0.808300</td>\n",
       "    </tr>\n",
       "    <tr>\n",
       "      <th>test_recall_macro</th>\n",
       "      <td>0.818346</td>\n",
       "      <td>0.809586</td>\n",
       "      <td>0.763233</td>\n",
       "      <td>0.822368</td>\n",
       "    </tr>\n",
       "    <tr>\n",
       "      <th>train_recall_macro</th>\n",
       "      <td>0.836423</td>\n",
       "      <td>0.820318</td>\n",
       "      <td>0.813534</td>\n",
       "      <td>0.813303</td>\n",
       "    </tr>\n",
       "    <tr>\n",
       "      <th>test_f1_macro</th>\n",
       "      <td>0.805063</td>\n",
       "      <td>0.795467</td>\n",
       "      <td>0.751892</td>\n",
       "      <td>0.803514</td>\n",
       "    </tr>\n",
       "    <tr>\n",
       "      <th>train_f1_macro</th>\n",
       "      <td>0.826018</td>\n",
       "      <td>0.812102</td>\n",
       "      <td>0.813324</td>\n",
       "      <td>0.800738</td>\n",
       "    </tr>\n",
       "  </tbody>\n",
       "</table>\n",
       "</div>"
      ],
      "text/plain": [
       "                             dt       svm        lr       knn\n",
       "fit_time               0.008187  0.071409  0.065218  0.013962\n",
       "score_time             0.007379  0.007780  0.006982  0.013974\n",
       "test_accuracy          0.809091  0.803030  0.766845  0.809091\n",
       "train_accuracy         0.826920  0.813374  0.817897  0.801321\n",
       "test_precision_macro   0.819894  0.823853  0.797890  0.824880\n",
       "train_precision_macro  0.831489  0.813834  0.813701  0.808300\n",
       "test_recall_macro      0.818346  0.809586  0.763233  0.822368\n",
       "train_recall_macro     0.836423  0.820318  0.813534  0.813303\n",
       "test_f1_macro          0.805063  0.795467  0.751892  0.803514\n",
       "train_f1_macro         0.826018  0.812102  0.813324  0.800738"
      ]
     },
     "execution_count": 17,
     "metadata": {},
     "output_type": "execute_result"
    }
   ],
   "source": [
    "#display 5 fold cross validation result\n",
    "dt_result=display_result(dt_clf,feature,label)\n",
    "svm_result=display_result(svm_clf,feature,label)\n",
    "knn_result=display_result(knn_clf,feature,label)\n",
    "lr_result=display_result(lr_clf,feature,label)\n",
    "df=pd.DataFrame(zip(dt_result,svm_result,lr_result,knn_result),index=dt_result.index,columns=['dt','svm','lr','knn'])\n",
    "df\n"
   ]
  },
  {
   "cell_type": "code",
   "execution_count": 18,
   "metadata": {},
   "outputs": [],
   "source": [
    "#embeddings of test data\n",
    "test_fracture=get_features('../Wrist Fracture/test/Fracture',v2_model_trained)\n",
    "test_normal= get_features('../Wrist Fracture/test/Normal',v2_model_trained)\n",
    "test_feature=np.array(test_fracture+test_normal)\n",
    "test_label=np.array([0]*len(test_normal)+[1]*len(test_fracture))"
   ]
  },
  {
   "cell_type": "code",
   "execution_count": 19,
   "metadata": {},
   "outputs": [],
   "source": [
    "#scale the data\n",
    "scaler=StandardScaler()\n",
    "feature=scaler.fit_transform(feature)\n",
    "test_feature=scaler.transform(test_feature)"
   ]
  },
  {
   "cell_type": "code",
   "execution_count": 20,
   "metadata": {},
   "outputs": [
    {
     "name": "stdout",
     "output_type": "stream",
     "text": [
      "-----------------Decision Tree--------------\n",
      "              precision    recall  f1-score   support\n",
      "\n",
      "           0       0.71      0.83      0.77        12\n",
      "           1       0.85      0.73      0.79        15\n",
      "\n",
      "    accuracy                           0.78        27\n",
      "   macro avg       0.78      0.78      0.78        27\n",
      "weighted avg       0.79      0.78      0.78        27\n",
      "\n",
      "-----------------SVM--------------\n",
      "              precision    recall  f1-score   support\n",
      "\n",
      "           0       0.71      0.83      0.77        12\n",
      "           1       0.85      0.73      0.79        15\n",
      "\n",
      "    accuracy                           0.78        27\n",
      "   macro avg       0.78      0.78      0.78        27\n",
      "weighted avg       0.79      0.78      0.78        27\n",
      "\n",
      "-----------------logistic regression--------------\n",
      "              precision    recall  f1-score   support\n",
      "\n",
      "           0       0.70      0.58      0.64        12\n",
      "           1       0.71      0.80      0.75        15\n",
      "\n",
      "    accuracy                           0.70        27\n",
      "   macro avg       0.70      0.69      0.69        27\n",
      "weighted avg       0.70      0.70      0.70        27\n",
      "\n",
      "-----------------K Nearest neighbors--------------\n",
      "              precision    recall  f1-score   support\n",
      "\n",
      "           0       0.71      0.83      0.77        12\n",
      "           1       0.85      0.73      0.79        15\n",
      "\n",
      "    accuracy                           0.78        27\n",
      "   macro avg       0.78      0.78      0.78        27\n",
      "weighted avg       0.79      0.78      0.78        27\n",
      "\n"
     ]
    },
    {
     "name": "stderr",
     "output_type": "stream",
     "text": [
      "C:\\Anaconda3\\lib\\site-packages\\sklearn\\linear_model\\_logistic.py:764: ConvergenceWarning: lbfgs failed to converge (status=1):\n",
      "STOP: TOTAL NO. of ITERATIONS REACHED LIMIT.\n",
      "\n",
      "Increase the number of iterations (max_iter) or scale the data as shown in:\n",
      "    https://scikit-learn.org/stable/modules/preprocessing.html\n",
      "Please also refer to the documentation for alternative solver options:\n",
      "    https://scikit-learn.org/stable/modules/linear_model.html#logistic-regression\n",
      "  extra_warning_msg=_LOGISTIC_SOLVER_CONVERGENCE_MSG)\n"
     ]
    }
   ],
   "source": [
    "for clf_model,clf_name in zip([dt_clf,svm_clf,lr_clf,knn_clf],\\\n",
    "                              ['Decision Tree','SVM',\"logistic regression\",'K Nearest neighbors']):\n",
    "    print('-----------------{}--------------'.format(clf_name))\n",
    "    clf_model.fit(feature,label)\n",
    "    test_pred=clf_model.predict(test_feature)\n",
    "    print(classification_report(test_label,test_pred))"
   ]
  },
  {
   "cell_type": "code",
   "execution_count": null,
   "metadata": {},
   "outputs": [],
   "source": []
  },
  {
   "cell_type": "markdown",
   "metadata": {},
   "source": [
    "# My Model V2"
   ]
  },
  {
   "cell_type": "code",
   "execution_count": 21,
   "metadata": {},
   "outputs": [],
   "source": [
    "criterion=ContrastiveLoss()\n",
    "v3_model=SqueezeNetV3()\n",
    "opt=torch.optim.Adam(params=v3_model.parameters(),lr=0.0001)"
   ]
  },
  {
   "cell_type": "code",
   "execution_count": 22,
   "metadata": {},
   "outputs": [],
   "source": [
    "#train model\n",
    "v3_model_trained=train_dl(50,v3_model,\"cuda\",criterion,opt)"
   ]
  },
  {
   "cell_type": "code",
   "execution_count": 23,
   "metadata": {},
   "outputs": [],
   "source": [
    "#extract features\n",
    "fracture=get_features('../Wrist Fracture/train/Fracture',v3_model_trained)\n",
    "normal= get_features('../Wrist Fracture/train/Normal',v3_model_trained)"
   ]
  },
  {
   "cell_type": "code",
   "execution_count": 24,
   "metadata": {},
   "outputs": [],
   "source": [
    "#features and labels\n",
    "feature=np.array(fracture+normal)\n",
    "label=np.array([0]*len(normal)+[1]*len(fracture))"
   ]
  },
  {
   "cell_type": "code",
   "execution_count": 25,
   "metadata": {},
   "outputs": [],
   "source": [
    "#tune ml hyper parameters\n",
    "dt_clf,_=classifiers_tuning('dt',feature,label)\n",
    "svm_clf,_=classifiers_tuning('svm',feature,label)\n",
    "knn_clf,_=classifiers_tuning('knn',feature,label)\n",
    "lr_clf,_=classifiers_tuning('lr',feature,label)"
   ]
  },
  {
   "cell_type": "code",
   "execution_count": 26,
   "metadata": {},
   "outputs": [
    {
     "data": {
      "text/html": [
       "<div>\n",
       "<style scoped>\n",
       "    .dataframe tbody tr th:only-of-type {\n",
       "        vertical-align: middle;\n",
       "    }\n",
       "\n",
       "    .dataframe tbody tr th {\n",
       "        vertical-align: top;\n",
       "    }\n",
       "\n",
       "    .dataframe thead th {\n",
       "        text-align: right;\n",
       "    }\n",
       "</style>\n",
       "<table border=\"1\" class=\"dataframe\">\n",
       "  <thead>\n",
       "    <tr style=\"text-align: right;\">\n",
       "      <th></th>\n",
       "      <th>dt</th>\n",
       "      <th>svm</th>\n",
       "      <th>lr</th>\n",
       "      <th>knn</th>\n",
       "    </tr>\n",
       "  </thead>\n",
       "  <tbody>\n",
       "    <tr>\n",
       "      <th>fit_time</th>\n",
       "      <td>0.006582</td>\n",
       "      <td>0.071022</td>\n",
       "      <td>0.022546</td>\n",
       "      <td>0.014222</td>\n",
       "    </tr>\n",
       "    <tr>\n",
       "      <th>score_time</th>\n",
       "      <td>0.006383</td>\n",
       "      <td>0.006971</td>\n",
       "      <td>0.006570</td>\n",
       "      <td>0.016134</td>\n",
       "    </tr>\n",
       "    <tr>\n",
       "      <th>test_accuracy</th>\n",
       "      <td>0.814795</td>\n",
       "      <td>0.802852</td>\n",
       "      <td>0.784670</td>\n",
       "      <td>0.808913</td>\n",
       "    </tr>\n",
       "    <tr>\n",
       "      <th>train_accuracy</th>\n",
       "      <td>0.829950</td>\n",
       "      <td>0.831431</td>\n",
       "      <td>0.825439</td>\n",
       "      <td>0.783219</td>\n",
       "    </tr>\n",
       "    <tr>\n",
       "      <th>test_precision_macro</th>\n",
       "      <td>0.846705</td>\n",
       "      <td>0.858818</td>\n",
       "      <td>0.846399</td>\n",
       "      <td>0.854853</td>\n",
       "    </tr>\n",
       "    <tr>\n",
       "      <th>train_precision_macro</th>\n",
       "      <td>0.837440</td>\n",
       "      <td>0.828754</td>\n",
       "      <td>0.821103</td>\n",
       "      <td>0.785741</td>\n",
       "    </tr>\n",
       "    <tr>\n",
       "      <th>test_recall_macro</th>\n",
       "      <td>0.829248</td>\n",
       "      <td>0.806090</td>\n",
       "      <td>0.782782</td>\n",
       "      <td>0.816992</td>\n",
       "    </tr>\n",
       "    <tr>\n",
       "      <th>train_recall_macro</th>\n",
       "      <td>0.838585</td>\n",
       "      <td>0.833988</td>\n",
       "      <td>0.821505</td>\n",
       "      <td>0.791353</td>\n",
       "    </tr>\n",
       "    <tr>\n",
       "      <th>test_f1_macro</th>\n",
       "      <td>0.809248</td>\n",
       "      <td>0.787788</td>\n",
       "      <td>0.766359</td>\n",
       "      <td>0.796299</td>\n",
       "    </tr>\n",
       "    <tr>\n",
       "      <th>train_f1_macro</th>\n",
       "      <td>0.828679</td>\n",
       "      <td>0.829289</td>\n",
       "      <td>0.821245</td>\n",
       "      <td>0.781974</td>\n",
       "    </tr>\n",
       "  </tbody>\n",
       "</table>\n",
       "</div>"
      ],
      "text/plain": [
       "                             dt       svm        lr       knn\n",
       "fit_time               0.006582  0.071022  0.022546  0.014222\n",
       "score_time             0.006383  0.006971  0.006570  0.016134\n",
       "test_accuracy          0.814795  0.802852  0.784670  0.808913\n",
       "train_accuracy         0.829950  0.831431  0.825439  0.783219\n",
       "test_precision_macro   0.846705  0.858818  0.846399  0.854853\n",
       "train_precision_macro  0.837440  0.828754  0.821103  0.785741\n",
       "test_recall_macro      0.829248  0.806090  0.782782  0.816992\n",
       "train_recall_macro     0.838585  0.833988  0.821505  0.791353\n",
       "test_f1_macro          0.809248  0.787788  0.766359  0.796299\n",
       "train_f1_macro         0.828679  0.829289  0.821245  0.781974"
      ]
     },
     "execution_count": 26,
     "metadata": {},
     "output_type": "execute_result"
    }
   ],
   "source": [
    "#display 5 fold cross validation result\n",
    "dt_result=display_result(dt_clf,feature,label)\n",
    "svm_result=display_result(svm_clf,feature,label)\n",
    "knn_result=display_result(knn_clf,feature,label)\n",
    "lr_result=display_result(lr_clf,feature,label)\n",
    "df=pd.DataFrame(zip(dt_result,svm_result,lr_result,knn_result),index=dt_result.index,columns=['dt','svm','lr','knn'])\n",
    "df\n"
   ]
  },
  {
   "cell_type": "code",
   "execution_count": 27,
   "metadata": {},
   "outputs": [],
   "source": [
    "#embeddings of test data\n",
    "test_fracture=get_features('../Wrist Fracture/test/Fracture',v3_model_trained)\n",
    "test_normal= get_features('../Wrist Fracture/test/Normal',v3_model_trained)\n",
    "test_feature=np.array(test_fracture+test_normal)\n",
    "test_label=np.array([0]*len(test_normal)+[1]*len(test_fracture))"
   ]
  },
  {
   "cell_type": "code",
   "execution_count": 28,
   "metadata": {},
   "outputs": [],
   "source": [
    "#scale the data\n",
    "scaler=StandardScaler()\n",
    "feature=scaler.fit_transform(feature)\n",
    "test_feature=scaler.transform(test_feature)"
   ]
  },
  {
   "cell_type": "code",
   "execution_count": 29,
   "metadata": {},
   "outputs": [
    {
     "name": "stdout",
     "output_type": "stream",
     "text": [
      "-----------------Decision Tree--------------\n",
      "              precision    recall  f1-score   support\n",
      "\n",
      "           0       0.77      0.83      0.80        12\n",
      "           1       0.86      0.80      0.83        15\n",
      "\n",
      "    accuracy                           0.81        27\n",
      "   macro avg       0.81      0.82      0.81        27\n",
      "weighted avg       0.82      0.81      0.82        27\n",
      "\n",
      "-----------------SVM--------------\n",
      "              precision    recall  f1-score   support\n",
      "\n",
      "           0       0.67      0.50      0.57        12\n",
      "           1       0.67      0.80      0.73        15\n",
      "\n",
      "    accuracy                           0.67        27\n",
      "   macro avg       0.67      0.65      0.65        27\n",
      "weighted avg       0.67      0.67      0.66        27\n",
      "\n",
      "-----------------logistic regression--------------\n",
      "              precision    recall  f1-score   support\n",
      "\n",
      "           0       0.75      0.50      0.60        12\n",
      "           1       0.68      0.87      0.76        15\n",
      "\n",
      "    accuracy                           0.70        27\n",
      "   macro avg       0.72      0.68      0.68        27\n",
      "weighted avg       0.71      0.70      0.69        27\n",
      "\n",
      "-----------------K Nearest neighbors--------------\n",
      "              precision    recall  f1-score   support\n",
      "\n",
      "           0       0.73      0.67      0.70        12\n",
      "           1       0.75      0.80      0.77        15\n",
      "\n",
      "    accuracy                           0.74        27\n",
      "   macro avg       0.74      0.73      0.73        27\n",
      "weighted avg       0.74      0.74      0.74        27\n",
      "\n"
     ]
    }
   ],
   "source": [
    "for clf_model,clf_name in zip([dt_clf,svm_clf,lr_clf,knn_clf],\\\n",
    "                              ['Decision Tree','SVM',\"logistic regression\",'K Nearest neighbors']):\n",
    "    print('-----------------{}--------------'.format(clf_name))\n",
    "    clf_model.fit(feature,label)\n",
    "    test_pred=clf_model.predict(test_feature)\n",
    "    print(classification_report(test_label,test_pred))"
   ]
  },
  {
   "cell_type": "code",
   "execution_count": null,
   "metadata": {},
   "outputs": [],
   "source": []
  },
  {
   "cell_type": "code",
   "execution_count": null,
   "metadata": {},
   "outputs": [],
   "source": []
  }
 ],
 "metadata": {
  "kernelspec": {
   "display_name": "Python 3",
   "language": "python",
   "name": "python3"
  },
  "language_info": {
   "codemirror_mode": {
    "name": "ipython",
    "version": 3
   },
   "file_extension": ".py",
   "mimetype": "text/x-python",
   "name": "python",
   "nbconvert_exporter": "python",
   "pygments_lexer": "ipython3",
   "version": "3.7.6"
  }
 },
 "nbformat": 4,
 "nbformat_minor": 4
}
