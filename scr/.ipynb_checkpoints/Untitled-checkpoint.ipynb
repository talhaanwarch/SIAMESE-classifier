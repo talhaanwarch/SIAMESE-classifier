{
 "cells": [
  {
   "cell_type": "code",
   "execution_count": null,
   "id": "creative-elder",
   "metadata": {},
   "outputs": [],
   "source": [
    "from glob import glob\n",
    "import os\n",
    "images=[]\n",
    "labels=[]\n",
    "for folder in os.listdir('../dataset'):\n",
    "    for pic in glob('../dataset/{}/*.jpg'.format(folder)):\n",
    "        images.append(pic)\n",
    "        labels.append(folder)\n",
    "        "
   ]
  },
  {
   "cell_type": "code",
   "execution_count": null,
   "id": "numeric-conditioning",
   "metadata": {},
   "outputs": [],
   "source": [
    "import pandas as pd\n",
    "data=pd.DataFrame(zip(images,labels),columns=['img','label'])\n",
    "data.label=data.label.map({'Fracture':0,'Normal':1})\n",
    "data = data.sample(frac=1).reset_index(drop=True)\n",
    "data.head()"
   ]
  }
 ],
 "metadata": {
  "kernelspec": {
   "display_name": "Python 3",
   "language": "python",
   "name": "python3"
  },
  "language_info": {
   "codemirror_mode": {
    "name": "ipython",
    "version": 3
   },
   "file_extension": ".py",
   "mimetype": "text/x-python",
   "name": "python",
   "nbconvert_exporter": "python",
   "pygments_lexer": "ipython3",
   "version": "3.7.9"
  }
 },
 "nbformat": 4,
 "nbformat_minor": 5
}
