{
 "cells": [
  {
   "cell_type": "code",
   "execution_count": 10,
   "metadata": {},
   "outputs": [],
   "source": [
    "#initialize model\n",
    "from loss import ContrastiveLoss\n",
    "import torch\n",
    "from ml_training import *\n",
    "from dl_training import *\n"
   ]
  },
  {
   "cell_type": "code",
   "execution_count": 11,
   "metadata": {},
   "outputs": [],
   "source": [
    "def count_parameters(model):\n",
    "    return sum(p.numel() for p in model.parameters() if p.requires_grad)"
   ]
  },
  {
   "cell_type": "markdown",
   "metadata": {},
   "source": [
    "# Resnet 50"
   ]
  },
  {
   "cell_type": "code",
   "execution_count": 3,
   "metadata": {},
   "outputs": [
    {
     "name": "stdout",
     "output_type": "stream",
     "text": [
      "24577408\n"
     ]
    }
   ],
   "source": [
    "from models.resnet import ResNet50\n",
    "criterion=ContrastiveLoss()\n",
    "res50_model=ResNet50()\n",
    "opt=torch.optim.Adam(params=res50_model.parameters(),lr=0.0001)\n",
    "print(count_parameters(res50_model))"
   ]
  },
  {
   "cell_type": "code",
   "execution_count": 4,
   "metadata": {},
   "outputs": [],
   "source": [
    "#train model\n",
    "res50_model_trained=train_dl(50,res50_model,\"cuda\",criterion,opt)"
   ]
  },
  {
   "cell_type": "code",
   "execution_count": 5,
   "metadata": {},
   "outputs": [],
   "source": [
    "#extract features\n",
    "fracture=get_features('../dataset/train/Fracture',res50_model_trained)\n",
    "normal= get_features('../dataset/train/Normal',res50_model_trained)"
   ]
  },
  {
   "cell_type": "code",
   "execution_count": 6,
   "metadata": {},
   "outputs": [],
   "source": [
    "#features and labels\n",
    "feature=np.array(fracture+normal)\n",
    "label=np.array([0]*len(normal)+[1]*len(fracture))"
   ]
  },
  {
   "cell_type": "code",
   "execution_count": 7,
   "metadata": {},
   "outputs": [],
   "source": [
    "#tune ml hyper parameters\n",
    "dt_clf,_=classifiers_tuning('dt',feature,label)\n",
    "svm_clf,_=classifiers_tuning('svm',feature,label)\n",
    "knn_clf,_=classifiers_tuning('knn',feature,label)\n",
    "lr_clf,_=classifiers_tuning('lr',feature,label)"
   ]
  },
  {
   "cell_type": "code",
   "execution_count": 8,
   "metadata": {},
   "outputs": [
    {
     "data": {
      "text/html": [
       "<div>\n",
       "<style scoped>\n",
       "    .dataframe tbody tr th:only-of-type {\n",
       "        vertical-align: middle;\n",
       "    }\n",
       "\n",
       "    .dataframe tbody tr th {\n",
       "        vertical-align: top;\n",
       "    }\n",
       "\n",
       "    .dataframe thead th {\n",
       "        text-align: right;\n",
       "    }\n",
       "</style>\n",
       "<table border=\"1\" class=\"dataframe\">\n",
       "  <thead>\n",
       "    <tr style=\"text-align: right;\">\n",
       "      <th></th>\n",
       "      <th>dt</th>\n",
       "      <th>svm</th>\n",
       "      <th>lr</th>\n",
       "      <th>knn</th>\n",
       "    </tr>\n",
       "  </thead>\n",
       "  <tbody>\n",
       "    <tr>\n",
       "      <th>fit_time</th>\n",
       "      <td>0.008769</td>\n",
       "      <td>0.105716</td>\n",
       "      <td>0.019777</td>\n",
       "      <td>0.015380</td>\n",
       "    </tr>\n",
       "    <tr>\n",
       "      <th>score_time</th>\n",
       "      <td>0.005785</td>\n",
       "      <td>0.009287</td>\n",
       "      <td>0.005193</td>\n",
       "      <td>0.016357</td>\n",
       "    </tr>\n",
       "    <tr>\n",
       "      <th>test_accuracy</th>\n",
       "      <td>0.840000</td>\n",
       "      <td>0.851429</td>\n",
       "      <td>0.817143</td>\n",
       "      <td>0.851429</td>\n",
       "    </tr>\n",
       "    <tr>\n",
       "      <th>train_accuracy</th>\n",
       "      <td>0.998571</td>\n",
       "      <td>0.852857</td>\n",
       "      <td>0.865714</td>\n",
       "      <td>0.864286</td>\n",
       "    </tr>\n",
       "    <tr>\n",
       "      <th>test_precision_macro</th>\n",
       "      <td>0.856564</td>\n",
       "      <td>0.866667</td>\n",
       "      <td>0.843485</td>\n",
       "      <td>0.873750</td>\n",
       "    </tr>\n",
       "    <tr>\n",
       "      <th>train_precision_macro</th>\n",
       "      <td>0.998361</td>\n",
       "      <td>0.866264</td>\n",
       "      <td>0.867970</td>\n",
       "      <td>0.874942</td>\n",
       "    </tr>\n",
       "    <tr>\n",
       "      <th>test_recall_macro</th>\n",
       "      <td>0.843333</td>\n",
       "      <td>0.865000</td>\n",
       "      <td>0.823333</td>\n",
       "      <td>0.866667</td>\n",
       "    </tr>\n",
       "    <tr>\n",
       "      <th>train_recall_macro</th>\n",
       "      <td>0.998750</td>\n",
       "      <td>0.867500</td>\n",
       "      <td>0.874583</td>\n",
       "      <td>0.877917</td>\n",
       "    </tr>\n",
       "    <tr>\n",
       "      <th>test_f1_macro</th>\n",
       "      <td>0.836196</td>\n",
       "      <td>0.841540</td>\n",
       "      <td>0.804921</td>\n",
       "      <td>0.836728</td>\n",
       "    </tr>\n",
       "    <tr>\n",
       "      <th>train_f1_macro</th>\n",
       "      <td>0.998545</td>\n",
       "      <td>0.852718</td>\n",
       "      <td>0.865256</td>\n",
       "      <td>0.864148</td>\n",
       "    </tr>\n",
       "  </tbody>\n",
       "</table>\n",
       "</div>"
      ],
      "text/plain": [
       "                             dt       svm        lr       knn\n",
       "fit_time               0.008769  0.105716  0.019777  0.015380\n",
       "score_time             0.005785  0.009287  0.005193  0.016357\n",
       "test_accuracy          0.840000  0.851429  0.817143  0.851429\n",
       "train_accuracy         0.998571  0.852857  0.865714  0.864286\n",
       "test_precision_macro   0.856564  0.866667  0.843485  0.873750\n",
       "train_precision_macro  0.998361  0.866264  0.867970  0.874942\n",
       "test_recall_macro      0.843333  0.865000  0.823333  0.866667\n",
       "train_recall_macro     0.998750  0.867500  0.874583  0.877917\n",
       "test_f1_macro          0.836196  0.841540  0.804921  0.836728\n",
       "train_f1_macro         0.998545  0.852718  0.865256  0.864148"
      ]
     },
     "execution_count": 8,
     "metadata": {},
     "output_type": "execute_result"
    }
   ],
   "source": [
    "#display 5 fold cross validation result\n",
    "dt_result=display_result(dt_clf,feature,label)\n",
    "svm_result=display_result(svm_clf,feature,label)\n",
    "knn_result=display_result(knn_clf,feature,label)\n",
    "lr_result=display_result(lr_clf,feature,label)\n",
    "df=pd.DataFrame(zip(dt_result,svm_result,lr_result,knn_result),index=dt_result.index,columns=['dt','svm','lr','knn'])\n",
    "df\n"
   ]
  },
  {
   "cell_type": "code",
   "execution_count": 9,
   "metadata": {},
   "outputs": [],
   "source": [
    "#embeddings of test data\n",
    "test_fracture=get_features('../dataset/test/Fracture',res50_model_trained)\n",
    "test_normal= get_features('../dataset/test/Normal',res50_model_trained)\n",
    "test_feature=np.array(test_fracture+test_normal)\n",
    "test_label=np.array([0]*len(test_normal)+[1]*len(test_fracture))"
   ]
  },
  {
   "cell_type": "code",
   "execution_count": 10,
   "metadata": {},
   "outputs": [],
   "source": [
    "#scale the data\n",
    "scaler=StandardScaler()\n",
    "feature=scaler.fit_transform(feature)\n",
    "test_feature=scaler.transform(test_feature)"
   ]
  },
  {
   "cell_type": "code",
   "execution_count": 11,
   "metadata": {
    "scrolled": false
   },
   "outputs": [
    {
     "name": "stdout",
     "output_type": "stream",
     "text": [
      "-----------------Decision Tree--------------\n",
      "              precision    recall  f1-score   support\n",
      "\n",
      "           0       0.40      0.57      0.47         7\n",
      "           1       0.62      0.45      0.53        11\n",
      "\n",
      "    accuracy                           0.50        18\n",
      "   macro avg       0.51      0.51      0.50        18\n",
      "weighted avg       0.54      0.50      0.50        18\n",
      "\n",
      "-----------------SVM--------------\n",
      "              precision    recall  f1-score   support\n",
      "\n",
      "           0       0.45      0.71      0.56         7\n",
      "           1       0.71      0.45      0.56        11\n",
      "\n",
      "    accuracy                           0.56        18\n",
      "   macro avg       0.58      0.58      0.56        18\n",
      "weighted avg       0.61      0.56      0.56        18\n",
      "\n",
      "-----------------logistic regression--------------\n",
      "              precision    recall  f1-score   support\n",
      "\n",
      "           0       0.67      0.57      0.62         7\n",
      "           1       0.75      0.82      0.78        11\n",
      "\n",
      "    accuracy                           0.72        18\n",
      "   macro avg       0.71      0.69      0.70        18\n",
      "weighted avg       0.72      0.72      0.72        18\n",
      "\n",
      "-----------------K Nearest neighbors--------------\n",
      "              precision    recall  f1-score   support\n",
      "\n",
      "           0       0.46      0.86      0.60         7\n",
      "           1       0.80      0.36      0.50        11\n",
      "\n",
      "    accuracy                           0.56        18\n",
      "   macro avg       0.63      0.61      0.55        18\n",
      "weighted avg       0.67      0.56      0.54        18\n",
      "\n"
     ]
    }
   ],
   "source": [
    "for clf_model,clf_name in zip([dt_clf,svm_clf,lr_clf,knn_clf],\\\n",
    "                              ['Decision Tree','SVM',\"logistic regression\",'K Nearest neighbors']):\n",
    "    print('-----------------{}--------------'.format(clf_name))\n",
    "    clf_model.fit(feature,label)\n",
    "    test_pred=clf_model.predict(test_feature)\n",
    "    print(classification_report(test_label,test_pred))"
   ]
  },
  {
   "cell_type": "markdown",
   "metadata": {},
   "source": [
    "# mobile net"
   ]
  },
  {
   "cell_type": "code",
   "execution_count": 12,
   "metadata": {},
   "outputs": [
    {
     "name": "stdout",
     "output_type": "stream",
     "text": [
      "2879168\n"
     ]
    }
   ],
   "source": [
    "from models.mobilenet import MobileNetV2\n",
    "criterion=ContrastiveLoss()\n",
    "mobilenet=MobileNetV2()\n",
    "opt=torch.optim.Adam(params=mobilenet.parameters(),lr=0.0001)\n",
    "print(count_parameters(mobilenet))"
   ]
  },
  {
   "cell_type": "code",
   "execution_count": 13,
   "metadata": {},
   "outputs": [],
   "source": [
    "#train model\n",
    "mobilenet_trained=train_dl(50,mobilenet,\"cuda\",criterion,opt)\n"
   ]
  },
  {
   "cell_type": "code",
   "execution_count": 14,
   "metadata": {},
   "outputs": [],
   "source": [
    "#extract features\n",
    "fracture=get_features('../dataset/train/Fracture',mobilenet_trained)\n",
    "normal= get_features('../dataset/train/Normal',mobilenet_trained)"
   ]
  },
  {
   "cell_type": "code",
   "execution_count": 15,
   "metadata": {},
   "outputs": [],
   "source": [
    "#features and labels\n",
    "feature=np.array(fracture+normal)\n",
    "label=np.array([0]*len(normal)+[1]*len(fracture))"
   ]
  },
  {
   "cell_type": "code",
   "execution_count": 16,
   "metadata": {},
   "outputs": [],
   "source": [
    "#tune ml hyper parameters\n",
    "dt_clf,_=classifiers_tuning('dt',feature,label)\n",
    "svm_clf,_=classifiers_tuning('svm',feature,label)\n",
    "knn_clf,_=classifiers_tuning('knn',feature,label)\n",
    "lr_clf,_=classifiers_tuning('lr',feature,label)"
   ]
  },
  {
   "cell_type": "code",
   "execution_count": 17,
   "metadata": {},
   "outputs": [
    {
     "data": {
      "text/html": [
       "<div>\n",
       "<style scoped>\n",
       "    .dataframe tbody tr th:only-of-type {\n",
       "        vertical-align: middle;\n",
       "    }\n",
       "\n",
       "    .dataframe tbody tr th {\n",
       "        vertical-align: top;\n",
       "    }\n",
       "\n",
       "    .dataframe thead th {\n",
       "        text-align: right;\n",
       "    }\n",
       "</style>\n",
       "<table border=\"1\" class=\"dataframe\">\n",
       "  <thead>\n",
       "    <tr style=\"text-align: right;\">\n",
       "      <th></th>\n",
       "      <th>dt</th>\n",
       "      <th>svm</th>\n",
       "      <th>lr</th>\n",
       "      <th>knn</th>\n",
       "    </tr>\n",
       "  </thead>\n",
       "  <tbody>\n",
       "    <tr>\n",
       "      <th>fit_time</th>\n",
       "      <td>0.006676</td>\n",
       "      <td>0.132650</td>\n",
       "      <td>0.018344</td>\n",
       "      <td>0.015158</td>\n",
       "    </tr>\n",
       "    <tr>\n",
       "      <th>score_time</th>\n",
       "      <td>0.004588</td>\n",
       "      <td>0.010573</td>\n",
       "      <td>0.006981</td>\n",
       "      <td>0.015159</td>\n",
       "    </tr>\n",
       "    <tr>\n",
       "      <th>test_accuracy</th>\n",
       "      <td>0.617143</td>\n",
       "      <td>0.560000</td>\n",
       "      <td>0.571429</td>\n",
       "      <td>0.577143</td>\n",
       "    </tr>\n",
       "    <tr>\n",
       "      <th>train_accuracy</th>\n",
       "      <td>0.972857</td>\n",
       "      <td>0.982857</td>\n",
       "      <td>0.952857</td>\n",
       "      <td>0.694286</td>\n",
       "    </tr>\n",
       "    <tr>\n",
       "      <th>test_precision_macro</th>\n",
       "      <td>0.614419</td>\n",
       "      <td>0.543860</td>\n",
       "      <td>0.539402</td>\n",
       "      <td>0.558840</td>\n",
       "    </tr>\n",
       "    <tr>\n",
       "      <th>train_precision_macro</th>\n",
       "      <td>0.974158</td>\n",
       "      <td>0.985568</td>\n",
       "      <td>0.961958</td>\n",
       "      <td>0.688074</td>\n",
       "    </tr>\n",
       "    <tr>\n",
       "      <th>test_recall_macro</th>\n",
       "      <td>0.615000</td>\n",
       "      <td>0.545000</td>\n",
       "      <td>0.535000</td>\n",
       "      <td>0.556667</td>\n",
       "    </tr>\n",
       "    <tr>\n",
       "      <th>train_recall_macro</th>\n",
       "      <td>0.971667</td>\n",
       "      <td>0.980000</td>\n",
       "      <td>0.945000</td>\n",
       "      <td>0.683750</td>\n",
       "    </tr>\n",
       "    <tr>\n",
       "      <th>test_f1_macro</th>\n",
       "      <td>0.610728</td>\n",
       "      <td>0.541249</td>\n",
       "      <td>0.515711</td>\n",
       "      <td>0.553245</td>\n",
       "    </tr>\n",
       "    <tr>\n",
       "      <th>train_f1_macro</th>\n",
       "      <td>0.972126</td>\n",
       "      <td>0.982373</td>\n",
       "      <td>0.951067</td>\n",
       "      <td>0.684346</td>\n",
       "    </tr>\n",
       "  </tbody>\n",
       "</table>\n",
       "</div>"
      ],
      "text/plain": [
       "                             dt       svm        lr       knn\n",
       "fit_time               0.006676  0.132650  0.018344  0.015158\n",
       "score_time             0.004588  0.010573  0.006981  0.015159\n",
       "test_accuracy          0.617143  0.560000  0.571429  0.577143\n",
       "train_accuracy         0.972857  0.982857  0.952857  0.694286\n",
       "test_precision_macro   0.614419  0.543860  0.539402  0.558840\n",
       "train_precision_macro  0.974158  0.985568  0.961958  0.688074\n",
       "test_recall_macro      0.615000  0.545000  0.535000  0.556667\n",
       "train_recall_macro     0.971667  0.980000  0.945000  0.683750\n",
       "test_f1_macro          0.610728  0.541249  0.515711  0.553245\n",
       "train_f1_macro         0.972126  0.982373  0.951067  0.684346"
      ]
     },
     "execution_count": 17,
     "metadata": {},
     "output_type": "execute_result"
    }
   ],
   "source": [
    "#display 5 fold cross validation result\n",
    "dt_result=display_result(dt_clf,feature,label)\n",
    "svm_result=display_result(svm_clf,feature,label)\n",
    "knn_result=display_result(knn_clf,feature,label)\n",
    "lr_result=display_result(lr_clf,feature,label)\n",
    "df=pd.DataFrame(zip(dt_result,svm_result,lr_result,knn_result),index=dt_result.index,columns=['dt','svm','lr','knn'])\n",
    "df\n"
   ]
  },
  {
   "cell_type": "code",
   "execution_count": 18,
   "metadata": {},
   "outputs": [],
   "source": [
    "#embeddings of test data\n",
    "test_fracture=get_features('../dataset/test/Fracture',mobilenet_trained)\n",
    "test_normal= get_features('../dataset/test/Normal',mobilenet_trained)\n",
    "test_feature=np.array(test_fracture+test_normal)\n",
    "test_label=np.array([0]*len(test_normal)+[1]*len(test_fracture))"
   ]
  },
  {
   "cell_type": "code",
   "execution_count": 19,
   "metadata": {},
   "outputs": [],
   "source": [
    "#scale the data\n",
    "scaler=StandardScaler()\n",
    "feature=scaler.fit_transform(feature)\n",
    "test_feature=scaler.transform(test_feature)"
   ]
  },
  {
   "cell_type": "code",
   "execution_count": 20,
   "metadata": {},
   "outputs": [
    {
     "name": "stdout",
     "output_type": "stream",
     "text": [
      "-----------------Decision Tree--------------\n",
      "              precision    recall  f1-score   support\n",
      "\n",
      "           0       0.50      0.86      0.63         7\n",
      "           1       0.83      0.45      0.59        11\n",
      "\n",
      "    accuracy                           0.61        18\n",
      "   macro avg       0.67      0.66      0.61        18\n",
      "weighted avg       0.70      0.61      0.61        18\n",
      "\n",
      "-----------------SVM--------------\n",
      "              precision    recall  f1-score   support\n",
      "\n",
      "           0       0.40      0.57      0.47         7\n",
      "           1       0.62      0.45      0.53        11\n",
      "\n",
      "    accuracy                           0.50        18\n",
      "   macro avg       0.51      0.51      0.50        18\n",
      "weighted avg       0.54      0.50      0.50        18\n",
      "\n",
      "-----------------logistic regression--------------\n",
      "              precision    recall  f1-score   support\n",
      "\n",
      "           0       0.50      0.29      0.36         7\n",
      "           1       0.64      0.82      0.72        11\n",
      "\n",
      "    accuracy                           0.61        18\n",
      "   macro avg       0.57      0.55      0.54        18\n",
      "weighted avg       0.59      0.61      0.58        18\n",
      "\n",
      "-----------------K Nearest neighbors--------------\n",
      "              precision    recall  f1-score   support\n",
      "\n",
      "           0       0.30      0.43      0.35         7\n",
      "           1       0.50      0.36      0.42        11\n",
      "\n",
      "    accuracy                           0.39        18\n",
      "   macro avg       0.40      0.40      0.39        18\n",
      "weighted avg       0.42      0.39      0.39        18\n",
      "\n"
     ]
    }
   ],
   "source": [
    "for clf_model,clf_name in zip([dt_clf,svm_clf,lr_clf,knn_clf],\\\n",
    "                              ['Decision Tree','SVM',\"logistic regression\",'K Nearest neighbors']):\n",
    "    print('-----------------{}--------------'.format(clf_name))\n",
    "    clf_model.fit(feature,label)\n",
    "    test_pred=clf_model.predict(test_feature)\n",
    "    print(classification_report(test_label,test_pred))"
   ]
  },
  {
   "cell_type": "code",
   "execution_count": null,
   "metadata": {},
   "outputs": [],
   "source": []
  },
  {
   "cell_type": "markdown",
   "metadata": {},
   "source": [
    "# Squeeze net"
   ]
  },
  {
   "cell_type": "code",
   "execution_count": 21,
   "metadata": {},
   "outputs": [
    {
     "name": "stdout",
     "output_type": "stream",
     "text": [
      "984000\n"
     ]
    }
   ],
   "source": [
    "from models.squeezenet import SqueezeNetV1\n",
    "criterion=ContrastiveLoss()\n",
    "squeezenet=SqueezeNetV1()\n",
    "opt=torch.optim.Adam(params=squeezenet.parameters(),lr=0.0001)\n",
    "print(count_parameters(squeezenet))"
   ]
  },
  {
   "cell_type": "code",
   "execution_count": 22,
   "metadata": {},
   "outputs": [],
   "source": [
    "#train model\n",
    "squeezenet_trained=train_dl(50,squeezenet,\"cuda\",criterion,opt)"
   ]
  },
  {
   "cell_type": "code",
   "execution_count": 23,
   "metadata": {},
   "outputs": [],
   "source": [
    "#extract features\n",
    "fracture=get_features('../dataset/train/Fracture',squeezenet_trained)\n",
    "normal= get_features('../dataset/train/Normal',squeezenet_trained)"
   ]
  },
  {
   "cell_type": "code",
   "execution_count": 24,
   "metadata": {},
   "outputs": [],
   "source": [
    "#features and labels\n",
    "feature=np.array(fracture+normal)\n",
    "label=np.array([0]*len(normal)+[1]*len(fracture))"
   ]
  },
  {
   "cell_type": "code",
   "execution_count": 25,
   "metadata": {},
   "outputs": [],
   "source": [
    "#tune ml hyper parameters\n",
    "dt_clf,_=classifiers_tuning('dt',feature,label)\n",
    "svm_clf,_=classifiers_tuning('svm',feature,label)\n",
    "knn_clf,_=classifiers_tuning('knn',feature,label)\n",
    "lr_clf,_=classifiers_tuning('lr',feature,label)"
   ]
  },
  {
   "cell_type": "code",
   "execution_count": 26,
   "metadata": {},
   "outputs": [
    {
     "data": {
      "text/html": [
       "<div>\n",
       "<style scoped>\n",
       "    .dataframe tbody tr th:only-of-type {\n",
       "        vertical-align: middle;\n",
       "    }\n",
       "\n",
       "    .dataframe tbody tr th {\n",
       "        vertical-align: top;\n",
       "    }\n",
       "\n",
       "    .dataframe thead th {\n",
       "        text-align: right;\n",
       "    }\n",
       "</style>\n",
       "<table border=\"1\" class=\"dataframe\">\n",
       "  <thead>\n",
       "    <tr style=\"text-align: right;\">\n",
       "      <th></th>\n",
       "      <th>dt</th>\n",
       "      <th>svm</th>\n",
       "      <th>lr</th>\n",
       "      <th>knn</th>\n",
       "    </tr>\n",
       "  </thead>\n",
       "  <tbody>\n",
       "    <tr>\n",
       "      <th>fit_time</th>\n",
       "      <td>0.008880</td>\n",
       "      <td>0.126461</td>\n",
       "      <td>0.014553</td>\n",
       "      <td>0.014983</td>\n",
       "    </tr>\n",
       "    <tr>\n",
       "      <th>score_time</th>\n",
       "      <td>0.005784</td>\n",
       "      <td>0.010173</td>\n",
       "      <td>0.005784</td>\n",
       "      <td>0.016348</td>\n",
       "    </tr>\n",
       "    <tr>\n",
       "      <th>test_accuracy</th>\n",
       "      <td>0.600000</td>\n",
       "      <td>0.565714</td>\n",
       "      <td>0.548571</td>\n",
       "      <td>0.611429</td>\n",
       "    </tr>\n",
       "    <tr>\n",
       "      <th>train_accuracy</th>\n",
       "      <td>0.951429</td>\n",
       "      <td>0.895714</td>\n",
       "      <td>0.898571</td>\n",
       "      <td>0.741429</td>\n",
       "    </tr>\n",
       "    <tr>\n",
       "      <th>test_precision_macro</th>\n",
       "      <td>0.596003</td>\n",
       "      <td>0.553204</td>\n",
       "      <td>0.535470</td>\n",
       "      <td>0.613155</td>\n",
       "    </tr>\n",
       "    <tr>\n",
       "      <th>train_precision_macro</th>\n",
       "      <td>0.956820</td>\n",
       "      <td>0.912633</td>\n",
       "      <td>0.915701</td>\n",
       "      <td>0.738065</td>\n",
       "    </tr>\n",
       "    <tr>\n",
       "      <th>test_recall_macro</th>\n",
       "      <td>0.596667</td>\n",
       "      <td>0.540000</td>\n",
       "      <td>0.523333</td>\n",
       "      <td>0.615000</td>\n",
       "    </tr>\n",
       "    <tr>\n",
       "      <th>train_recall_macro</th>\n",
       "      <td>0.946250</td>\n",
       "      <td>0.882083</td>\n",
       "      <td>0.884583</td>\n",
       "      <td>0.740417</td>\n",
       "    </tr>\n",
       "    <tr>\n",
       "      <th>test_f1_macro</th>\n",
       "      <td>0.593291</td>\n",
       "      <td>0.533030</td>\n",
       "      <td>0.516410</td>\n",
       "      <td>0.608944</td>\n",
       "    </tr>\n",
       "    <tr>\n",
       "      <th>train_f1_macro</th>\n",
       "      <td>0.949534</td>\n",
       "      <td>0.890014</td>\n",
       "      <td>0.893134</td>\n",
       "      <td>0.738023</td>\n",
       "    </tr>\n",
       "  </tbody>\n",
       "</table>\n",
       "</div>"
      ],
      "text/plain": [
       "                             dt       svm        lr       knn\n",
       "fit_time               0.008880  0.126461  0.014553  0.014983\n",
       "score_time             0.005784  0.010173  0.005784  0.016348\n",
       "test_accuracy          0.600000  0.565714  0.548571  0.611429\n",
       "train_accuracy         0.951429  0.895714  0.898571  0.741429\n",
       "test_precision_macro   0.596003  0.553204  0.535470  0.613155\n",
       "train_precision_macro  0.956820  0.912633  0.915701  0.738065\n",
       "test_recall_macro      0.596667  0.540000  0.523333  0.615000\n",
       "train_recall_macro     0.946250  0.882083  0.884583  0.740417\n",
       "test_f1_macro          0.593291  0.533030  0.516410  0.608944\n",
       "train_f1_macro         0.949534  0.890014  0.893134  0.738023"
      ]
     },
     "execution_count": 26,
     "metadata": {},
     "output_type": "execute_result"
    }
   ],
   "source": [
    "#display 5 fold cross validation result\n",
    "dt_result=display_result(dt_clf,feature,label)\n",
    "svm_result=display_result(svm_clf,feature,label)\n",
    "knn_result=display_result(knn_clf,feature,label)\n",
    "lr_result=display_result(lr_clf,feature,label)\n",
    "df=pd.DataFrame(zip(dt_result,svm_result,lr_result,knn_result),index=dt_result.index,columns=['dt','svm','lr','knn'])\n",
    "df\n"
   ]
  },
  {
   "cell_type": "code",
   "execution_count": 27,
   "metadata": {},
   "outputs": [],
   "source": [
    "#embeddings of test data\n",
    "test_fracture=get_features('../dataset/test/Fracture',squeezenet_trained)\n",
    "test_normal= get_features('../dataset/test/Normal',squeezenet_trained)\n",
    "test_feature=np.array(test_fracture+test_normal)\n",
    "test_label=np.array([0]*len(test_normal)+[1]*len(test_fracture))"
   ]
  },
  {
   "cell_type": "code",
   "execution_count": 28,
   "metadata": {},
   "outputs": [],
   "source": [
    "#scale the data\n",
    "scaler=StandardScaler()\n",
    "feature=scaler.fit_transform(feature)\n",
    "test_feature=scaler.transform(test_feature)"
   ]
  },
  {
   "cell_type": "code",
   "execution_count": 29,
   "metadata": {},
   "outputs": [
    {
     "name": "stdout",
     "output_type": "stream",
     "text": [
      "-----------------Decision Tree--------------\n",
      "              precision    recall  f1-score   support\n",
      "\n",
      "           0       0.57      0.57      0.57         7\n",
      "           1       0.73      0.73      0.73        11\n",
      "\n",
      "    accuracy                           0.67        18\n",
      "   macro avg       0.65      0.65      0.65        18\n",
      "weighted avg       0.67      0.67      0.67        18\n",
      "\n",
      "-----------------SVM--------------\n",
      "              precision    recall  f1-score   support\n",
      "\n",
      "           0       0.38      0.43      0.40         7\n",
      "           1       0.60      0.55      0.57        11\n",
      "\n",
      "    accuracy                           0.50        18\n",
      "   macro avg       0.49      0.49      0.49        18\n",
      "weighted avg       0.51      0.50      0.50        18\n",
      "\n",
      "-----------------logistic regression--------------\n",
      "              precision    recall  f1-score   support\n",
      "\n",
      "           0       0.43      0.43      0.43         7\n",
      "           1       0.64      0.64      0.64        11\n",
      "\n",
      "    accuracy                           0.56        18\n",
      "   macro avg       0.53      0.53      0.53        18\n",
      "weighted avg       0.56      0.56      0.56        18\n",
      "\n",
      "-----------------K Nearest neighbors--------------\n",
      "              precision    recall  f1-score   support\n",
      "\n",
      "           0       0.29      0.29      0.29         7\n",
      "           1       0.55      0.55      0.55        11\n",
      "\n",
      "    accuracy                           0.44        18\n",
      "   macro avg       0.42      0.42      0.42        18\n",
      "weighted avg       0.44      0.44      0.44        18\n",
      "\n"
     ]
    }
   ],
   "source": [
    "for clf_model,clf_name in zip([dt_clf,svm_clf,lr_clf,knn_clf],\\\n",
    "                              ['Decision Tree','SVM',\"logistic regression\",'K Nearest neighbors']):\n",
    "    print('-----------------{}--------------'.format(clf_name))\n",
    "    clf_model.fit(feature,label)\n",
    "    test_pred=clf_model.predict(test_feature)\n",
    "    print(classification_report(test_label,test_pred))"
   ]
  },
  {
   "cell_type": "code",
   "execution_count": null,
   "metadata": {},
   "outputs": [],
   "source": []
  },
  {
   "cell_type": "markdown",
   "metadata": {},
   "source": [
    "# My Model V1"
   ]
  },
  {
   "cell_type": "code",
   "execution_count": 30,
   "metadata": {},
   "outputs": [
    {
     "name": "stdout",
     "output_type": "stream",
     "text": [
      "5781184\n"
     ]
    }
   ],
   "source": [
    "from models.mymodels import SqueezeNetV2\n",
    "criterion=ContrastiveLoss()\n",
    "v2_model=SqueezeNetV2()\n",
    "opt=torch.optim.Adam(params=v2_model.parameters(),lr=0.0001)\n",
    "print(count_parameters(v2_model))"
   ]
  },
  {
   "cell_type": "code",
   "execution_count": 31,
   "metadata": {},
   "outputs": [],
   "source": [
    "#train model\n",
    "v2_model_trained=train_dl(50,v2_model,\"cuda\",criterion,opt)"
   ]
  },
  {
   "cell_type": "code",
   "execution_count": 32,
   "metadata": {},
   "outputs": [],
   "source": [
    "#extract features\n",
    "fracture=get_features('../dataset/train/Fracture',v2_model_trained)\n",
    "normal= get_features('../dataset/train/Normal',v2_model_trained)"
   ]
  },
  {
   "cell_type": "code",
   "execution_count": 33,
   "metadata": {},
   "outputs": [],
   "source": [
    "#features and labels\n",
    "feature=np.array(fracture+normal)\n",
    "label=np.array([0]*len(normal)+[1]*len(fracture))"
   ]
  },
  {
   "cell_type": "code",
   "execution_count": 34,
   "metadata": {},
   "outputs": [],
   "source": [
    "#tune ml hyper parameters\n",
    "dt_clf,_=classifiers_tuning('dt',feature,label)\n",
    "svm_clf,_=classifiers_tuning('svm',feature,label)\n",
    "knn_clf,_=classifiers_tuning('knn',feature,label)\n",
    "lr_clf,_=classifiers_tuning('lr',feature,label)"
   ]
  },
  {
   "cell_type": "code",
   "execution_count": 35,
   "metadata": {},
   "outputs": [
    {
     "data": {
      "text/html": [
       "<div>\n",
       "<style scoped>\n",
       "    .dataframe tbody tr th:only-of-type {\n",
       "        vertical-align: middle;\n",
       "    }\n",
       "\n",
       "    .dataframe tbody tr th {\n",
       "        vertical-align: top;\n",
       "    }\n",
       "\n",
       "    .dataframe thead th {\n",
       "        text-align: right;\n",
       "    }\n",
       "</style>\n",
       "<table border=\"1\" class=\"dataframe\">\n",
       "  <thead>\n",
       "    <tr style=\"text-align: right;\">\n",
       "      <th></th>\n",
       "      <th>dt</th>\n",
       "      <th>svm</th>\n",
       "      <th>lr</th>\n",
       "      <th>knn</th>\n",
       "    </tr>\n",
       "  </thead>\n",
       "  <tbody>\n",
       "    <tr>\n",
       "      <th>fit_time</th>\n",
       "      <td>0.006590</td>\n",
       "      <td>0.069016</td>\n",
       "      <td>0.021143</td>\n",
       "      <td>0.014155</td>\n",
       "    </tr>\n",
       "    <tr>\n",
       "      <th>score_time</th>\n",
       "      <td>0.005785</td>\n",
       "      <td>0.006981</td>\n",
       "      <td>0.006781</td>\n",
       "      <td>0.014767</td>\n",
       "    </tr>\n",
       "    <tr>\n",
       "      <th>test_accuracy</th>\n",
       "      <td>0.840000</td>\n",
       "      <td>0.834286</td>\n",
       "      <td>0.794286</td>\n",
       "      <td>0.805714</td>\n",
       "    </tr>\n",
       "    <tr>\n",
       "      <th>train_accuracy</th>\n",
       "      <td>0.845714</td>\n",
       "      <td>0.821429</td>\n",
       "      <td>0.805714</td>\n",
       "      <td>0.838571</td>\n",
       "    </tr>\n",
       "    <tr>\n",
       "      <th>test_precision_macro</th>\n",
       "      <td>0.882206</td>\n",
       "      <td>0.873861</td>\n",
       "      <td>0.849822</td>\n",
       "      <td>0.850148</td>\n",
       "    </tr>\n",
       "    <tr>\n",
       "      <th>train_precision_macro</th>\n",
       "      <td>0.851416</td>\n",
       "      <td>0.820985</td>\n",
       "      <td>0.802517</td>\n",
       "      <td>0.837991</td>\n",
       "    </tr>\n",
       "    <tr>\n",
       "      <th>test_recall_macro</th>\n",
       "      <td>0.850000</td>\n",
       "      <td>0.840000</td>\n",
       "      <td>0.790000</td>\n",
       "      <td>0.811667</td>\n",
       "    </tr>\n",
       "    <tr>\n",
       "      <th>train_recall_macro</th>\n",
       "      <td>0.855000</td>\n",
       "      <td>0.823750</td>\n",
       "      <td>0.802083</td>\n",
       "      <td>0.841250</td>\n",
       "    </tr>\n",
       "    <tr>\n",
       "      <th>test_f1_macro</th>\n",
       "      <td>0.828916</td>\n",
       "      <td>0.824358</td>\n",
       "      <td>0.778276</td>\n",
       "      <td>0.792161</td>\n",
       "    </tr>\n",
       "    <tr>\n",
       "      <th>train_f1_macro</th>\n",
       "      <td>0.845185</td>\n",
       "      <td>0.819611</td>\n",
       "      <td>0.801993</td>\n",
       "      <td>0.836796</td>\n",
       "    </tr>\n",
       "  </tbody>\n",
       "</table>\n",
       "</div>"
      ],
      "text/plain": [
       "                             dt       svm        lr       knn\n",
       "fit_time               0.006590  0.069016  0.021143  0.014155\n",
       "score_time             0.005785  0.006981  0.006781  0.014767\n",
       "test_accuracy          0.840000  0.834286  0.794286  0.805714\n",
       "train_accuracy         0.845714  0.821429  0.805714  0.838571\n",
       "test_precision_macro   0.882206  0.873861  0.849822  0.850148\n",
       "train_precision_macro  0.851416  0.820985  0.802517  0.837991\n",
       "test_recall_macro      0.850000  0.840000  0.790000  0.811667\n",
       "train_recall_macro     0.855000  0.823750  0.802083  0.841250\n",
       "test_f1_macro          0.828916  0.824358  0.778276  0.792161\n",
       "train_f1_macro         0.845185  0.819611  0.801993  0.836796"
      ]
     },
     "execution_count": 35,
     "metadata": {},
     "output_type": "execute_result"
    }
   ],
   "source": [
    "#display 5 fold cross validation result\n",
    "dt_result=display_result(dt_clf,feature,label)\n",
    "svm_result=display_result(svm_clf,feature,label)\n",
    "knn_result=display_result(knn_clf,feature,label)\n",
    "lr_result=display_result(lr_clf,feature,label)\n",
    "df=pd.DataFrame(zip(dt_result,svm_result,lr_result,knn_result),index=dt_result.index,columns=['dt','svm','lr','knn'])\n",
    "df\n"
   ]
  },
  {
   "cell_type": "code",
   "execution_count": 36,
   "metadata": {},
   "outputs": [],
   "source": [
    "#embeddings of test data\n",
    "test_fracture=get_features('../dataset/test/Fracture',v2_model_trained)\n",
    "test_normal= get_features('../dataset/test/Normal',v2_model_trained)\n",
    "test_feature=np.array(test_fracture+test_normal)\n",
    "test_label=np.array([0]*len(test_normal)+[1]*len(test_fracture))"
   ]
  },
  {
   "cell_type": "code",
   "execution_count": 37,
   "metadata": {},
   "outputs": [],
   "source": [
    "#scale the data\n",
    "scaler=StandardScaler()\n",
    "feature=scaler.fit_transform(feature)\n",
    "test_feature=scaler.transform(test_feature)"
   ]
  },
  {
   "cell_type": "code",
   "execution_count": 38,
   "metadata": {},
   "outputs": [
    {
     "name": "stdout",
     "output_type": "stream",
     "text": [
      "-----------------Decision Tree--------------\n",
      "              precision    recall  f1-score   support\n",
      "\n",
      "           0       0.50      0.86      0.63         7\n",
      "           1       0.83      0.45      0.59        11\n",
      "\n",
      "    accuracy                           0.61        18\n",
      "   macro avg       0.67      0.66      0.61        18\n",
      "weighted avg       0.70      0.61      0.61        18\n",
      "\n",
      "-----------------SVM--------------\n",
      "              precision    recall  f1-score   support\n",
      "\n",
      "           0       0.62      0.71      0.67         7\n",
      "           1       0.80      0.73      0.76        11\n",
      "\n",
      "    accuracy                           0.72        18\n",
      "   macro avg       0.71      0.72      0.71        18\n",
      "weighted avg       0.73      0.72      0.72        18\n",
      "\n",
      "-----------------logistic regression--------------\n",
      "              precision    recall  f1-score   support\n",
      "\n",
      "           0       0.62      0.71      0.67         7\n",
      "           1       0.80      0.73      0.76        11\n",
      "\n",
      "    accuracy                           0.72        18\n",
      "   macro avg       0.71      0.72      0.71        18\n",
      "weighted avg       0.73      0.72      0.72        18\n",
      "\n",
      "-----------------K Nearest neighbors--------------\n",
      "              precision    recall  f1-score   support\n",
      "\n",
      "           0       0.60      0.86      0.71         7\n",
      "           1       0.88      0.64      0.74        11\n",
      "\n",
      "    accuracy                           0.72        18\n",
      "   macro avg       0.74      0.75      0.72        18\n",
      "weighted avg       0.77      0.72      0.72        18\n",
      "\n"
     ]
    }
   ],
   "source": [
    "for clf_model,clf_name in zip([dt_clf,svm_clf,lr_clf,knn_clf],\\\n",
    "                              ['Decision Tree','SVM',\"logistic regression\",'K Nearest neighbors']):\n",
    "    print('-----------------{}--------------'.format(clf_name))\n",
    "    clf_model.fit(feature,label)\n",
    "    test_pred=clf_model.predict(test_feature)\n",
    "    print(classification_report(test_label,test_pred))"
   ]
  },
  {
   "cell_type": "code",
   "execution_count": null,
   "metadata": {},
   "outputs": [],
   "source": []
  },
  {
   "cell_type": "markdown",
   "metadata": {},
   "source": [
    "# My Model V2"
   ]
  },
  {
   "cell_type": "code",
   "execution_count": 39,
   "metadata": {},
   "outputs": [
    {
     "name": "stdout",
     "output_type": "stream",
     "text": [
      "774768\n"
     ]
    }
   ],
   "source": [
    "from models.mymodels import SqueezeNetV3\n",
    "criterion=ContrastiveLoss()\n",
    "v3_model=SqueezeNetV3()\n",
    "opt=torch.optim.Adam(params=v3_model.parameters(),lr=0.0001)\n",
    "print(count_parameters(v3_model))"
   ]
  },
  {
   "cell_type": "code",
   "execution_count": 40,
   "metadata": {},
   "outputs": [],
   "source": [
    "#train model\n",
    "v3_model_trained=train_dl(50,v3_model,\"cuda\",criterion,opt)"
   ]
  },
  {
   "cell_type": "code",
   "execution_count": 41,
   "metadata": {},
   "outputs": [],
   "source": [
    "#extract features\n",
    "fracture=get_features('../dataset/train/Fracture',v3_model_trained)\n",
    "normal= get_features('../dataset/train/Normal',v3_model_trained)"
   ]
  },
  {
   "cell_type": "code",
   "execution_count": 42,
   "metadata": {},
   "outputs": [],
   "source": [
    "#features and labels\n",
    "feature=np.array(fracture+normal)\n",
    "label=np.array([0]*len(normal)+[1]*len(fracture))"
   ]
  },
  {
   "cell_type": "code",
   "execution_count": 43,
   "metadata": {},
   "outputs": [],
   "source": [
    "#tune ml hyper parameters\n",
    "dt_clf,_=classifiers_tuning('dt',feature,label)\n",
    "svm_clf,_=classifiers_tuning('svm',feature,label)\n",
    "knn_clf,_=classifiers_tuning('knn',feature,label)\n",
    "lr_clf,_=classifiers_tuning('lr',feature,label)"
   ]
  },
  {
   "cell_type": "code",
   "execution_count": 44,
   "metadata": {},
   "outputs": [
    {
     "data": {
      "text/html": [
       "<div>\n",
       "<style scoped>\n",
       "    .dataframe tbody tr th:only-of-type {\n",
       "        vertical-align: middle;\n",
       "    }\n",
       "\n",
       "    .dataframe tbody tr th {\n",
       "        vertical-align: top;\n",
       "    }\n",
       "\n",
       "    .dataframe thead th {\n",
       "        text-align: right;\n",
       "    }\n",
       "</style>\n",
       "<table border=\"1\" class=\"dataframe\">\n",
       "  <thead>\n",
       "    <tr style=\"text-align: right;\">\n",
       "      <th></th>\n",
       "      <th>dt</th>\n",
       "      <th>svm</th>\n",
       "      <th>lr</th>\n",
       "      <th>knn</th>\n",
       "    </tr>\n",
       "  </thead>\n",
       "  <tbody>\n",
       "    <tr>\n",
       "      <th>fit_time</th>\n",
       "      <td>0.008976</td>\n",
       "      <td>0.100943</td>\n",
       "      <td>0.019747</td>\n",
       "      <td>0.015253</td>\n",
       "    </tr>\n",
       "    <tr>\n",
       "      <th>score_time</th>\n",
       "      <td>0.006981</td>\n",
       "      <td>0.008969</td>\n",
       "      <td>0.005984</td>\n",
       "      <td>0.015355</td>\n",
       "    </tr>\n",
       "    <tr>\n",
       "      <th>test_accuracy</th>\n",
       "      <td>0.817143</td>\n",
       "      <td>0.822857</td>\n",
       "      <td>0.794286</td>\n",
       "      <td>0.828571</td>\n",
       "    </tr>\n",
       "    <tr>\n",
       "      <th>train_accuracy</th>\n",
       "      <td>0.828571</td>\n",
       "      <td>0.861429</td>\n",
       "      <td>0.790000</td>\n",
       "      <td>0.832857</td>\n",
       "    </tr>\n",
       "    <tr>\n",
       "      <th>test_precision_macro</th>\n",
       "      <td>0.855655</td>\n",
       "      <td>0.872370</td>\n",
       "      <td>0.851187</td>\n",
       "      <td>0.877887</td>\n",
       "    </tr>\n",
       "    <tr>\n",
       "      <th>train_precision_macro</th>\n",
       "      <td>0.836314</td>\n",
       "      <td>0.860639</td>\n",
       "      <td>0.787018</td>\n",
       "      <td>0.830894</td>\n",
       "    </tr>\n",
       "    <tr>\n",
       "      <th>test_recall_macro</th>\n",
       "      <td>0.823333</td>\n",
       "      <td>0.828333</td>\n",
       "      <td>0.795000</td>\n",
       "      <td>0.833333</td>\n",
       "    </tr>\n",
       "    <tr>\n",
       "      <th>train_recall_macro</th>\n",
       "      <td>0.838333</td>\n",
       "      <td>0.865417</td>\n",
       "      <td>0.788333</td>\n",
       "      <td>0.835417</td>\n",
       "    </tr>\n",
       "    <tr>\n",
       "      <th>test_f1_macro</th>\n",
       "      <td>0.809068</td>\n",
       "      <td>0.809781</td>\n",
       "      <td>0.777840</td>\n",
       "      <td>0.815458</td>\n",
       "    </tr>\n",
       "    <tr>\n",
       "      <th>train_f1_macro</th>\n",
       "      <td>0.827847</td>\n",
       "      <td>0.860197</td>\n",
       "      <td>0.786820</td>\n",
       "      <td>0.831186</td>\n",
       "    </tr>\n",
       "  </tbody>\n",
       "</table>\n",
       "</div>"
      ],
      "text/plain": [
       "                             dt       svm        lr       knn\n",
       "fit_time               0.008976  0.100943  0.019747  0.015253\n",
       "score_time             0.006981  0.008969  0.005984  0.015355\n",
       "test_accuracy          0.817143  0.822857  0.794286  0.828571\n",
       "train_accuracy         0.828571  0.861429  0.790000  0.832857\n",
       "test_precision_macro   0.855655  0.872370  0.851187  0.877887\n",
       "train_precision_macro  0.836314  0.860639  0.787018  0.830894\n",
       "test_recall_macro      0.823333  0.828333  0.795000  0.833333\n",
       "train_recall_macro     0.838333  0.865417  0.788333  0.835417\n",
       "test_f1_macro          0.809068  0.809781  0.777840  0.815458\n",
       "train_f1_macro         0.827847  0.860197  0.786820  0.831186"
      ]
     },
     "execution_count": 44,
     "metadata": {},
     "output_type": "execute_result"
    }
   ],
   "source": [
    "#display 5 fold cross validation result\n",
    "dt_result=display_result(dt_clf,feature,label)\n",
    "svm_result=display_result(svm_clf,feature,label)\n",
    "knn_result=display_result(knn_clf,feature,label)\n",
    "lr_result=display_result(lr_clf,feature,label)\n",
    "df=pd.DataFrame(zip(dt_result,svm_result,lr_result,knn_result),index=dt_result.index,columns=['dt','svm','lr','knn'])\n",
    "df\n"
   ]
  },
  {
   "cell_type": "code",
   "execution_count": 45,
   "metadata": {},
   "outputs": [],
   "source": [
    "#embeddings of test data\n",
    "test_fracture=get_features('../dataset/test/Fracture',v3_model_trained)\n",
    "test_normal= get_features('../dataset/test/Normal',v3_model_trained)\n",
    "test_feature=np.array(test_fracture+test_normal)\n",
    "test_label=np.array([0]*len(test_normal)+[1]*len(test_fracture))"
   ]
  },
  {
   "cell_type": "code",
   "execution_count": 46,
   "metadata": {},
   "outputs": [],
   "source": [
    "#scale the data\n",
    "scaler=StandardScaler()\n",
    "feature=scaler.fit_transform(feature)\n",
    "test_feature=scaler.transform(test_feature)"
   ]
  },
  {
   "cell_type": "code",
   "execution_count": 47,
   "metadata": {},
   "outputs": [
    {
     "name": "stdout",
     "output_type": "stream",
     "text": [
      "-----------------Decision Tree--------------\n",
      "              precision    recall  f1-score   support\n",
      "\n",
      "           0       0.60      0.86      0.71         7\n",
      "           1       0.88      0.64      0.74        11\n",
      "\n",
      "    accuracy                           0.72        18\n",
      "   macro avg       0.74      0.75      0.72        18\n",
      "weighted avg       0.77      0.72      0.72        18\n",
      "\n",
      "-----------------SVM--------------\n",
      "              precision    recall  f1-score   support\n",
      "\n",
      "           0       0.60      0.86      0.71         7\n",
      "           1       0.88      0.64      0.74        11\n",
      "\n",
      "    accuracy                           0.72        18\n",
      "   macro avg       0.74      0.75      0.72        18\n",
      "weighted avg       0.77      0.72      0.72        18\n",
      "\n",
      "-----------------logistic regression--------------\n",
      "              precision    recall  f1-score   support\n",
      "\n",
      "           0       0.60      0.86      0.71         7\n",
      "           1       0.88      0.64      0.74        11\n",
      "\n",
      "    accuracy                           0.72        18\n",
      "   macro avg       0.74      0.75      0.72        18\n",
      "weighted avg       0.77      0.72      0.72        18\n",
      "\n",
      "-----------------K Nearest neighbors--------------\n",
      "              precision    recall  f1-score   support\n",
      "\n",
      "           0       0.60      0.86      0.71         7\n",
      "           1       0.88      0.64      0.74        11\n",
      "\n",
      "    accuracy                           0.72        18\n",
      "   macro avg       0.74      0.75      0.72        18\n",
      "weighted avg       0.77      0.72      0.72        18\n",
      "\n"
     ]
    }
   ],
   "source": [
    "for clf_model,clf_name in zip([dt_clf,svm_clf,lr_clf,knn_clf],\\\n",
    "                              ['Decision Tree','SVM',\"logistic regression\",'K Nearest neighbors']):\n",
    "    print('-----------------{}--------------'.format(clf_name))\n",
    "    clf_model.fit(feature,label)\n",
    "    test_pred=clf_model.predict(test_feature)\n",
    "    print(classification_report(test_label,test_pred))"
   ]
  },
  {
   "cell_type": "markdown",
   "metadata": {},
   "source": [
    "# My Model V3"
   ]
  },
  {
   "cell_type": "code",
   "execution_count": 12,
   "metadata": {},
   "outputs": [
    {
     "name": "stdout",
     "output_type": "stream",
     "text": [
      "774768\n"
     ]
    }
   ],
   "source": [
    "from models.mymodels import SqueezeNetV4\n",
    "criterion=ContrastiveLoss()\n",
    "v4_model=SqueezeNetV4()\n",
    "opt=torch.optim.Adam(params=v4_model.parameters(),lr=0.0001)\n",
    "print(count_parameters(v4_model))"
   ]
  },
  {
   "cell_type": "code",
   "execution_count": 13,
   "metadata": {},
   "outputs": [
    {
     "name": "stderr",
     "output_type": "stream",
     "text": [
      "C:\\Anaconda3\\lib\\site-packages\\torchvision\\transforms\\functional_tensor.py:876: UserWarning: Argument fill/fillcolor is not supported for Tensor input. Fill value is zero\n",
      "  warnings.warn(\"Argument fill/fillcolor is not supported for Tensor input. Fill value is zero\")\n"
     ]
    },
    {
     "ename": "AttributeError",
     "evalue": "'Image' object has no attribute 'shape'",
     "output_type": "error",
     "traceback": [
      "\u001b[1;31m---------------------------------------------------------------------------\u001b[0m",
      "\u001b[1;31mAttributeError\u001b[0m                            Traceback (most recent call last)",
      "\u001b[1;32m<ipython-input-13-e181875ea7b5>\u001b[0m in \u001b[0;36m<module>\u001b[1;34m\u001b[0m\n\u001b[0;32m      1\u001b[0m \u001b[1;31m#train model\u001b[0m\u001b[1;33m\u001b[0m\u001b[1;33m\u001b[0m\u001b[1;33m\u001b[0m\u001b[0m\n\u001b[1;32m----> 2\u001b[1;33m \u001b[0mv4_model_trained\u001b[0m\u001b[1;33m=\u001b[0m\u001b[0mtrain_dl\u001b[0m\u001b[1;33m(\u001b[0m\u001b[1;36m50\u001b[0m\u001b[1;33m,\u001b[0m\u001b[0mv4_model\u001b[0m\u001b[1;33m,\u001b[0m\u001b[1;34m\"cuda\"\u001b[0m\u001b[1;33m,\u001b[0m\u001b[0mcriterion\u001b[0m\u001b[1;33m,\u001b[0m\u001b[0mopt\u001b[0m\u001b[1;33m)\u001b[0m\u001b[1;33m\u001b[0m\u001b[1;33m\u001b[0m\u001b[0m\n\u001b[0m",
      "\u001b[1;32mD:\\Datasets\\Image dataset\\Xray\\SIAMESE-classifier\\scr\\dl_training.py\u001b[0m in \u001b[0;36mtrain_dl\u001b[1;34m(epochs, model, device, criterion, opt)\u001b[0m\n\u001b[0;32m     85\u001b[0m \u001b[1;32mdef\u001b[0m \u001b[0mtrain_dl\u001b[0m\u001b[1;33m(\u001b[0m\u001b[0mepochs\u001b[0m\u001b[1;33m,\u001b[0m\u001b[0mmodel\u001b[0m\u001b[1;33m,\u001b[0m\u001b[0mdevice\u001b[0m\u001b[1;33m,\u001b[0m\u001b[0mcriterion\u001b[0m\u001b[1;33m,\u001b[0m\u001b[0mopt\u001b[0m\u001b[1;33m)\u001b[0m\u001b[1;33m:\u001b[0m\u001b[1;33m\u001b[0m\u001b[1;33m\u001b[0m\u001b[0m\n\u001b[0;32m     86\u001b[0m     \u001b[0mmodel\u001b[0m\u001b[1;33m=\u001b[0m\u001b[0mmodel\u001b[0m\u001b[1;33m.\u001b[0m\u001b[0mto\u001b[0m\u001b[1;33m(\u001b[0m\u001b[0mdevice\u001b[0m\u001b[1;33m)\u001b[0m\u001b[1;33m\u001b[0m\u001b[1;33m\u001b[0m\u001b[0m\n\u001b[1;32m---> 87\u001b[1;33m     \u001b[1;32mfor\u001b[0m \u001b[0m_epoch\u001b[0m \u001b[1;32min\u001b[0m \u001b[0mrange\u001b[0m\u001b[1;33m(\u001b[0m\u001b[0mepochs\u001b[0m\u001b[1;33m)\u001b[0m\u001b[1;33m:\u001b[0m\u001b[1;33m\u001b[0m\u001b[1;33m\u001b[0m\u001b[0m\n\u001b[0m\u001b[0;32m     88\u001b[0m         \u001b[1;32mfor\u001b[0m \u001b[0mbatch\u001b[0m \u001b[1;32min\u001b[0m \u001b[0mloader\u001b[0m\u001b[1;33m:\u001b[0m\u001b[1;33m\u001b[0m\u001b[1;33m\u001b[0m\u001b[0m\n\u001b[0;32m     89\u001b[0m             \u001b[0mimg1\u001b[0m\u001b[1;33m,\u001b[0m\u001b[0mimg2\u001b[0m\u001b[1;33m,\u001b[0m\u001b[0mlabel\u001b[0m\u001b[1;33m=\u001b[0m\u001b[0mbatch\u001b[0m\u001b[1;33m\u001b[0m\u001b[1;33m\u001b[0m\u001b[0m\n",
      "\u001b[1;32mC:\\Anaconda3\\lib\\site-packages\\torch\\utils\\data\\dataloader.py\u001b[0m in \u001b[0;36m__next__\u001b[1;34m(self)\u001b[0m\n\u001b[0;32m    433\u001b[0m         \u001b[1;32mif\u001b[0m \u001b[0mself\u001b[0m\u001b[1;33m.\u001b[0m\u001b[0m_sampler_iter\u001b[0m \u001b[1;32mis\u001b[0m \u001b[1;32mNone\u001b[0m\u001b[1;33m:\u001b[0m\u001b[1;33m\u001b[0m\u001b[1;33m\u001b[0m\u001b[0m\n\u001b[0;32m    434\u001b[0m             \u001b[0mself\u001b[0m\u001b[1;33m.\u001b[0m\u001b[0m_reset\u001b[0m\u001b[1;33m(\u001b[0m\u001b[1;33m)\u001b[0m\u001b[1;33m\u001b[0m\u001b[1;33m\u001b[0m\u001b[0m\n\u001b[1;32m--> 435\u001b[1;33m         \u001b[0mdata\u001b[0m \u001b[1;33m=\u001b[0m \u001b[0mself\u001b[0m\u001b[1;33m.\u001b[0m\u001b[0m_next_data\u001b[0m\u001b[1;33m(\u001b[0m\u001b[1;33m)\u001b[0m\u001b[1;33m\u001b[0m\u001b[1;33m\u001b[0m\u001b[0m\n\u001b[0m\u001b[0;32m    436\u001b[0m         \u001b[0mself\u001b[0m\u001b[1;33m.\u001b[0m\u001b[0m_num_yielded\u001b[0m \u001b[1;33m+=\u001b[0m \u001b[1;36m1\u001b[0m\u001b[1;33m\u001b[0m\u001b[1;33m\u001b[0m\u001b[0m\n\u001b[0;32m    437\u001b[0m         \u001b[1;32mif\u001b[0m \u001b[0mself\u001b[0m\u001b[1;33m.\u001b[0m\u001b[0m_dataset_kind\u001b[0m \u001b[1;33m==\u001b[0m \u001b[0m_DatasetKind\u001b[0m\u001b[1;33m.\u001b[0m\u001b[0mIterable\u001b[0m \u001b[1;32mand\u001b[0m\u001b[0;31m \u001b[0m\u001b[0;31m\\\u001b[0m\u001b[1;33m\u001b[0m\u001b[1;33m\u001b[0m\u001b[0m\n",
      "\u001b[1;32mC:\\Anaconda3\\lib\\site-packages\\torch\\utils\\data\\dataloader.py\u001b[0m in \u001b[0;36m_next_data\u001b[1;34m(self)\u001b[0m\n\u001b[0;32m    473\u001b[0m     \u001b[1;32mdef\u001b[0m \u001b[0m_next_data\u001b[0m\u001b[1;33m(\u001b[0m\u001b[0mself\u001b[0m\u001b[1;33m)\u001b[0m\u001b[1;33m:\u001b[0m\u001b[1;33m\u001b[0m\u001b[1;33m\u001b[0m\u001b[0m\n\u001b[0;32m    474\u001b[0m         \u001b[0mindex\u001b[0m \u001b[1;33m=\u001b[0m \u001b[0mself\u001b[0m\u001b[1;33m.\u001b[0m\u001b[0m_next_index\u001b[0m\u001b[1;33m(\u001b[0m\u001b[1;33m)\u001b[0m  \u001b[1;31m# may raise StopIteration\u001b[0m\u001b[1;33m\u001b[0m\u001b[1;33m\u001b[0m\u001b[0m\n\u001b[1;32m--> 475\u001b[1;33m         \u001b[0mdata\u001b[0m \u001b[1;33m=\u001b[0m \u001b[0mself\u001b[0m\u001b[1;33m.\u001b[0m\u001b[0m_dataset_fetcher\u001b[0m\u001b[1;33m.\u001b[0m\u001b[0mfetch\u001b[0m\u001b[1;33m(\u001b[0m\u001b[0mindex\u001b[0m\u001b[1;33m)\u001b[0m  \u001b[1;31m# may raise StopIteration\u001b[0m\u001b[1;33m\u001b[0m\u001b[1;33m\u001b[0m\u001b[0m\n\u001b[0m\u001b[0;32m    476\u001b[0m         \u001b[1;32mif\u001b[0m \u001b[0mself\u001b[0m\u001b[1;33m.\u001b[0m\u001b[0m_pin_memory\u001b[0m\u001b[1;33m:\u001b[0m\u001b[1;33m\u001b[0m\u001b[1;33m\u001b[0m\u001b[0m\n\u001b[0;32m    477\u001b[0m             \u001b[0mdata\u001b[0m \u001b[1;33m=\u001b[0m \u001b[0m_utils\u001b[0m\u001b[1;33m.\u001b[0m\u001b[0mpin_memory\u001b[0m\u001b[1;33m.\u001b[0m\u001b[0mpin_memory\u001b[0m\u001b[1;33m(\u001b[0m\u001b[0mdata\u001b[0m\u001b[1;33m)\u001b[0m\u001b[1;33m\u001b[0m\u001b[1;33m\u001b[0m\u001b[0m\n",
      "\u001b[1;32mC:\\Anaconda3\\lib\\site-packages\\torch\\utils\\data\\_utils\\fetch.py\u001b[0m in \u001b[0;36mfetch\u001b[1;34m(self, possibly_batched_index)\u001b[0m\n\u001b[0;32m     42\u001b[0m     \u001b[1;32mdef\u001b[0m \u001b[0mfetch\u001b[0m\u001b[1;33m(\u001b[0m\u001b[0mself\u001b[0m\u001b[1;33m,\u001b[0m \u001b[0mpossibly_batched_index\u001b[0m\u001b[1;33m)\u001b[0m\u001b[1;33m:\u001b[0m\u001b[1;33m\u001b[0m\u001b[1;33m\u001b[0m\u001b[0m\n\u001b[0;32m     43\u001b[0m         \u001b[1;32mif\u001b[0m \u001b[0mself\u001b[0m\u001b[1;33m.\u001b[0m\u001b[0mauto_collation\u001b[0m\u001b[1;33m:\u001b[0m\u001b[1;33m\u001b[0m\u001b[1;33m\u001b[0m\u001b[0m\n\u001b[1;32m---> 44\u001b[1;33m             \u001b[0mdata\u001b[0m \u001b[1;33m=\u001b[0m \u001b[1;33m[\u001b[0m\u001b[0mself\u001b[0m\u001b[1;33m.\u001b[0m\u001b[0mdataset\u001b[0m\u001b[1;33m[\u001b[0m\u001b[0midx\u001b[0m\u001b[1;33m]\u001b[0m \u001b[1;32mfor\u001b[0m \u001b[0midx\u001b[0m \u001b[1;32min\u001b[0m \u001b[0mpossibly_batched_index\u001b[0m\u001b[1;33m]\u001b[0m\u001b[1;33m\u001b[0m\u001b[1;33m\u001b[0m\u001b[0m\n\u001b[0m\u001b[0;32m     45\u001b[0m         \u001b[1;32melse\u001b[0m\u001b[1;33m:\u001b[0m\u001b[1;33m\u001b[0m\u001b[1;33m\u001b[0m\u001b[0m\n\u001b[0;32m     46\u001b[0m             \u001b[0mdata\u001b[0m \u001b[1;33m=\u001b[0m \u001b[0mself\u001b[0m\u001b[1;33m.\u001b[0m\u001b[0mdataset\u001b[0m\u001b[1;33m[\u001b[0m\u001b[0mpossibly_batched_index\u001b[0m\u001b[1;33m]\u001b[0m\u001b[1;33m\u001b[0m\u001b[1;33m\u001b[0m\u001b[0m\n",
      "\u001b[1;32mC:\\Anaconda3\\lib\\site-packages\\torch\\utils\\data\\_utils\\fetch.py\u001b[0m in \u001b[0;36m<listcomp>\u001b[1;34m(.0)\u001b[0m\n\u001b[0;32m     42\u001b[0m     \u001b[1;32mdef\u001b[0m \u001b[0mfetch\u001b[0m\u001b[1;33m(\u001b[0m\u001b[0mself\u001b[0m\u001b[1;33m,\u001b[0m \u001b[0mpossibly_batched_index\u001b[0m\u001b[1;33m)\u001b[0m\u001b[1;33m:\u001b[0m\u001b[1;33m\u001b[0m\u001b[1;33m\u001b[0m\u001b[0m\n\u001b[0;32m     43\u001b[0m         \u001b[1;32mif\u001b[0m \u001b[0mself\u001b[0m\u001b[1;33m.\u001b[0m\u001b[0mauto_collation\u001b[0m\u001b[1;33m:\u001b[0m\u001b[1;33m\u001b[0m\u001b[1;33m\u001b[0m\u001b[0m\n\u001b[1;32m---> 44\u001b[1;33m             \u001b[0mdata\u001b[0m \u001b[1;33m=\u001b[0m \u001b[1;33m[\u001b[0m\u001b[0mself\u001b[0m\u001b[1;33m.\u001b[0m\u001b[0mdataset\u001b[0m\u001b[1;33m[\u001b[0m\u001b[0midx\u001b[0m\u001b[1;33m]\u001b[0m \u001b[1;32mfor\u001b[0m \u001b[0midx\u001b[0m \u001b[1;32min\u001b[0m \u001b[0mpossibly_batched_index\u001b[0m\u001b[1;33m]\u001b[0m\u001b[1;33m\u001b[0m\u001b[1;33m\u001b[0m\u001b[0m\n\u001b[0m\u001b[0;32m     45\u001b[0m         \u001b[1;32melse\u001b[0m\u001b[1;33m:\u001b[0m\u001b[1;33m\u001b[0m\u001b[1;33m\u001b[0m\u001b[0m\n\u001b[0;32m     46\u001b[0m             \u001b[0mdata\u001b[0m \u001b[1;33m=\u001b[0m \u001b[0mself\u001b[0m\u001b[1;33m.\u001b[0m\u001b[0mdataset\u001b[0m\u001b[1;33m[\u001b[0m\u001b[0mpossibly_batched_index\u001b[0m\u001b[1;33m]\u001b[0m\u001b[1;33m\u001b[0m\u001b[1;33m\u001b[0m\u001b[0m\n",
      "\u001b[1;32mD:\\Datasets\\Image dataset\\Xray\\SIAMESE-classifier\\scr\\dataloader.py\u001b[0m in \u001b[0;36m__getitem__\u001b[1;34m(self, index)\u001b[0m\n\u001b[0;32m     47\u001b[0m         \u001b[1;32mif\u001b[0m \u001b[0mself\u001b[0m\u001b[1;33m.\u001b[0m\u001b[0mtransform\u001b[0m\u001b[1;33m:\u001b[0m\u001b[1;33m\u001b[0m\u001b[1;33m\u001b[0m\u001b[0m\n\u001b[0;32m     48\u001b[0m            \u001b[0mimg0\u001b[0m\u001b[1;33m=\u001b[0m\u001b[0mself\u001b[0m\u001b[1;33m.\u001b[0m\u001b[0mtransform\u001b[0m\u001b[1;33m(\u001b[0m\u001b[0mimg0\u001b[0m\u001b[1;33m)\u001b[0m\u001b[1;33m\u001b[0m\u001b[1;33m\u001b[0m\u001b[0m\n\u001b[1;32m---> 49\u001b[1;33m            \u001b[0mimg1\u001b[0m\u001b[1;33m=\u001b[0m\u001b[0mself\u001b[0m\u001b[1;33m.\u001b[0m\u001b[0mtransform\u001b[0m\u001b[1;33m(\u001b[0m\u001b[0mimg1\u001b[0m\u001b[1;33m)\u001b[0m\u001b[1;33m\u001b[0m\u001b[1;33m\u001b[0m\u001b[0m\n\u001b[0m\u001b[0;32m     50\u001b[0m \u001b[1;33m\u001b[0m\u001b[0m\n\u001b[0;32m     51\u001b[0m \u001b[1;33m\u001b[0m\u001b[0m\n",
      "\u001b[1;32mC:\\Anaconda3\\lib\\site-packages\\torchvision\\transforms\\transforms.py\u001b[0m in \u001b[0;36m__call__\u001b[1;34m(self, img)\u001b[0m\n\u001b[0;32m     65\u001b[0m     \u001b[1;32mdef\u001b[0m \u001b[0m__call__\u001b[0m\u001b[1;33m(\u001b[0m\u001b[0mself\u001b[0m\u001b[1;33m,\u001b[0m \u001b[0mimg\u001b[0m\u001b[1;33m)\u001b[0m\u001b[1;33m:\u001b[0m\u001b[1;33m\u001b[0m\u001b[1;33m\u001b[0m\u001b[0m\n\u001b[0;32m     66\u001b[0m         \u001b[1;32mfor\u001b[0m \u001b[0mt\u001b[0m \u001b[1;32min\u001b[0m \u001b[0mself\u001b[0m\u001b[1;33m.\u001b[0m\u001b[0mtransforms\u001b[0m\u001b[1;33m:\u001b[0m\u001b[1;33m\u001b[0m\u001b[1;33m\u001b[0m\u001b[0m\n\u001b[1;32m---> 67\u001b[1;33m             \u001b[0mimg\u001b[0m \u001b[1;33m=\u001b[0m \u001b[0mt\u001b[0m\u001b[1;33m(\u001b[0m\u001b[0mimg\u001b[0m\u001b[1;33m)\u001b[0m\u001b[1;33m\u001b[0m\u001b[1;33m\u001b[0m\u001b[0m\n\u001b[0m\u001b[0;32m     68\u001b[0m         \u001b[1;32mreturn\u001b[0m \u001b[0mimg\u001b[0m\u001b[1;33m\u001b[0m\u001b[1;33m\u001b[0m\u001b[0m\n\u001b[0;32m     69\u001b[0m \u001b[1;33m\u001b[0m\u001b[0m\n",
      "\u001b[1;32mC:\\Anaconda3\\lib\\site-packages\\torch\\nn\\modules\\module.py\u001b[0m in \u001b[0;36m_call_impl\u001b[1;34m(self, *input, **kwargs)\u001b[0m\n\u001b[0;32m    725\u001b[0m             \u001b[0mresult\u001b[0m \u001b[1;33m=\u001b[0m \u001b[0mself\u001b[0m\u001b[1;33m.\u001b[0m\u001b[0m_slow_forward\u001b[0m\u001b[1;33m(\u001b[0m\u001b[1;33m*\u001b[0m\u001b[0minput\u001b[0m\u001b[1;33m,\u001b[0m \u001b[1;33m**\u001b[0m\u001b[0mkwargs\u001b[0m\u001b[1;33m)\u001b[0m\u001b[1;33m\u001b[0m\u001b[1;33m\u001b[0m\u001b[0m\n\u001b[0;32m    726\u001b[0m         \u001b[1;32melse\u001b[0m\u001b[1;33m:\u001b[0m\u001b[1;33m\u001b[0m\u001b[1;33m\u001b[0m\u001b[0m\n\u001b[1;32m--> 727\u001b[1;33m             \u001b[0mresult\u001b[0m \u001b[1;33m=\u001b[0m \u001b[0mself\u001b[0m\u001b[1;33m.\u001b[0m\u001b[0mforward\u001b[0m\u001b[1;33m(\u001b[0m\u001b[1;33m*\u001b[0m\u001b[0minput\u001b[0m\u001b[1;33m,\u001b[0m \u001b[1;33m**\u001b[0m\u001b[0mkwargs\u001b[0m\u001b[1;33m)\u001b[0m\u001b[1;33m\u001b[0m\u001b[1;33m\u001b[0m\u001b[0m\n\u001b[0m\u001b[0;32m    728\u001b[0m         for hook in itertools.chain(\n\u001b[0;32m    729\u001b[0m                 \u001b[0m_global_forward_hooks\u001b[0m\u001b[1;33m.\u001b[0m\u001b[0mvalues\u001b[0m\u001b[1;33m(\u001b[0m\u001b[1;33m)\u001b[0m\u001b[1;33m,\u001b[0m\u001b[1;33m\u001b[0m\u001b[1;33m\u001b[0m\u001b[0m\n",
      "\u001b[1;32mC:\\Anaconda3\\lib\\site-packages\\torchvision\\transforms\\transforms.py\u001b[0m in \u001b[0;36mforward\u001b[1;34m(self, img)\u001b[0m\n\u001b[0;32m   1509\u001b[0m                 \u001b[0mvalue\u001b[0m \u001b[1;33m=\u001b[0m \u001b[0mself\u001b[0m\u001b[1;33m.\u001b[0m\u001b[0mvalue\u001b[0m\u001b[1;33m\u001b[0m\u001b[1;33m\u001b[0m\u001b[0m\n\u001b[0;32m   1510\u001b[0m \u001b[1;33m\u001b[0m\u001b[0m\n\u001b[1;32m-> 1511\u001b[1;33m             \u001b[1;32mif\u001b[0m \u001b[0mvalue\u001b[0m \u001b[1;32mis\u001b[0m \u001b[1;32mnot\u001b[0m \u001b[1;32mNone\u001b[0m \u001b[1;32mand\u001b[0m \u001b[1;32mnot\u001b[0m \u001b[1;33m(\u001b[0m\u001b[0mlen\u001b[0m\u001b[1;33m(\u001b[0m\u001b[0mvalue\u001b[0m\u001b[1;33m)\u001b[0m \u001b[1;32min\u001b[0m \u001b[1;33m(\u001b[0m\u001b[1;36m1\u001b[0m\u001b[1;33m,\u001b[0m \u001b[0mimg\u001b[0m\u001b[1;33m.\u001b[0m\u001b[0mshape\u001b[0m\u001b[1;33m[\u001b[0m\u001b[1;33m-\u001b[0m\u001b[1;36m3\u001b[0m\u001b[1;33m]\u001b[0m\u001b[1;33m)\u001b[0m\u001b[1;33m)\u001b[0m\u001b[1;33m:\u001b[0m\u001b[1;33m\u001b[0m\u001b[1;33m\u001b[0m\u001b[0m\n\u001b[0m\u001b[0;32m   1512\u001b[0m                 raise ValueError(\n\u001b[0;32m   1513\u001b[0m                     \u001b[1;34m\"If value is a sequence, it should have either a single value or \"\u001b[0m\u001b[1;33m\u001b[0m\u001b[1;33m\u001b[0m\u001b[0m\n",
      "\u001b[1;31mAttributeError\u001b[0m: 'Image' object has no attribute 'shape'"
     ]
    }
   ],
   "source": [
    "#train model\n",
    "v4_model_trained=train_dl(50,v4_model,\"cuda\",criterion,opt)"
   ]
  },
  {
   "cell_type": "code",
   "execution_count": null,
   "metadata": {},
   "outputs": [],
   "source": [
    "#extract features\n",
    "fracture=get_features('../dataset/train/Fracture',v4_model_trained)\n",
    "normal= get_features('../dataset/train/Normal',v4_model_trained)"
   ]
  },
  {
   "cell_type": "code",
   "execution_count": null,
   "metadata": {},
   "outputs": [],
   "source": [
    "#features and labels\n",
    "feature=np.array(fracture+normal)\n",
    "label=np.array([0]*len(normal)+[1]*len(fracture))"
   ]
  },
  {
   "cell_type": "code",
   "execution_count": null,
   "metadata": {},
   "outputs": [],
   "source": [
    "#tune ml hyper parameters\n",
    "dt_clf,_=classifiers_tuning('dt',feature,label)\n",
    "svm_clf,_=classifiers_tuning('svm',feature,label)\n",
    "knn_clf,_=classifiers_tuning('knn',feature,label)\n",
    "lr_clf,_=classifiers_tuning('lr',feature,label)\n"
   ]
  },
  {
   "cell_type": "code",
   "execution_count": null,
   "metadata": {},
   "outputs": [],
   "source": [
    "#display 5 fold cross validation result\n",
    "dt_result=display_result(dt_clf,feature,label)\n",
    "svm_result=display_result(svm_clf,feature,label)\n",
    "knn_result=display_result(knn_clf,feature,label)\n",
    "lr_result=display_result(lr_clf,feature,label)\n",
    "df=pd.DataFrame(zip(dt_result,svm_result,lr_result,knn_result,),\\\n",
    "                index=dt_result.index,columns=['dt','svm','lr','knn'])\n",
    "df\n"
   ]
  },
  {
   "cell_type": "code",
   "execution_count": 8,
   "metadata": {},
   "outputs": [
    {
     "ename": "NameError",
     "evalue": "name 'v4_model_trained' is not defined",
     "output_type": "error",
     "traceback": [
      "\u001b[1;31m---------------------------------------------------------------------------\u001b[0m",
      "\u001b[1;31mNameError\u001b[0m                                 Traceback (most recent call last)",
      "\u001b[1;32m<ipython-input-8-5826c4b3b19e>\u001b[0m in \u001b[0;36m<module>\u001b[1;34m\u001b[0m\n\u001b[0;32m      1\u001b[0m \u001b[1;31m#embeddings of test data\u001b[0m\u001b[1;33m\u001b[0m\u001b[1;33m\u001b[0m\u001b[1;33m\u001b[0m\u001b[0m\n\u001b[1;32m----> 2\u001b[1;33m \u001b[0mtest_fracture\u001b[0m\u001b[1;33m=\u001b[0m\u001b[0mget_features\u001b[0m\u001b[1;33m(\u001b[0m\u001b[1;34m'../dataset/test/Fracture'\u001b[0m\u001b[1;33m,\u001b[0m\u001b[0mv4_model_trained\u001b[0m\u001b[1;33m)\u001b[0m\u001b[1;33m\u001b[0m\u001b[1;33m\u001b[0m\u001b[0m\n\u001b[0m\u001b[0;32m      3\u001b[0m \u001b[0mtest_normal\u001b[0m\u001b[1;33m=\u001b[0m \u001b[0mget_features\u001b[0m\u001b[1;33m(\u001b[0m\u001b[1;34m'../dataset/test/Normal'\u001b[0m\u001b[1;33m,\u001b[0m\u001b[0mv4_model_trained\u001b[0m\u001b[1;33m)\u001b[0m\u001b[1;33m\u001b[0m\u001b[1;33m\u001b[0m\u001b[0m\n\u001b[0;32m      4\u001b[0m \u001b[0mtest_feature\u001b[0m\u001b[1;33m=\u001b[0m\u001b[0mnp\u001b[0m\u001b[1;33m.\u001b[0m\u001b[0marray\u001b[0m\u001b[1;33m(\u001b[0m\u001b[0mtest_fracture\u001b[0m\u001b[1;33m+\u001b[0m\u001b[0mtest_normal\u001b[0m\u001b[1;33m)\u001b[0m\u001b[1;33m\u001b[0m\u001b[1;33m\u001b[0m\u001b[0m\n\u001b[0;32m      5\u001b[0m \u001b[0mtest_label\u001b[0m\u001b[1;33m=\u001b[0m\u001b[0mnp\u001b[0m\u001b[1;33m.\u001b[0m\u001b[0marray\u001b[0m\u001b[1;33m(\u001b[0m\u001b[1;33m[\u001b[0m\u001b[1;36m0\u001b[0m\u001b[1;33m]\u001b[0m\u001b[1;33m*\u001b[0m\u001b[0mlen\u001b[0m\u001b[1;33m(\u001b[0m\u001b[0mtest_normal\u001b[0m\u001b[1;33m)\u001b[0m\u001b[1;33m+\u001b[0m\u001b[1;33m[\u001b[0m\u001b[1;36m1\u001b[0m\u001b[1;33m]\u001b[0m\u001b[1;33m*\u001b[0m\u001b[0mlen\u001b[0m\u001b[1;33m(\u001b[0m\u001b[0mtest_fracture\u001b[0m\u001b[1;33m)\u001b[0m\u001b[1;33m)\u001b[0m\u001b[1;33m\u001b[0m\u001b[1;33m\u001b[0m\u001b[0m\n",
      "\u001b[1;31mNameError\u001b[0m: name 'v4_model_trained' is not defined"
     ]
    }
   ],
   "source": [
    "#embeddings of test data\n",
    "test_fracture=get_features('../dataset/test/Fracture',v4_model_trained)\n",
    "test_normal= get_features('../dataset/test/Normal',v4_model_trained)\n",
    "test_feature=np.array(test_fracture+test_normal)\n",
    "test_label=np.array([0]*len(test_normal)+[1]*len(test_fracture))"
   ]
  },
  {
   "cell_type": "code",
   "execution_count": 9,
   "metadata": {},
   "outputs": [
    {
     "ename": "NameError",
     "evalue": "name 'feature' is not defined",
     "output_type": "error",
     "traceback": [
      "\u001b[1;31m---------------------------------------------------------------------------\u001b[0m",
      "\u001b[1;31mNameError\u001b[0m                                 Traceback (most recent call last)",
      "\u001b[1;32m<ipython-input-9-857f9f09b338>\u001b[0m in \u001b[0;36m<module>\u001b[1;34m\u001b[0m\n\u001b[0;32m      1\u001b[0m \u001b[1;31m#scale the data\u001b[0m\u001b[1;33m\u001b[0m\u001b[1;33m\u001b[0m\u001b[1;33m\u001b[0m\u001b[0m\n\u001b[0;32m      2\u001b[0m \u001b[0mscaler\u001b[0m\u001b[1;33m=\u001b[0m\u001b[0mStandardScaler\u001b[0m\u001b[1;33m(\u001b[0m\u001b[1;33m)\u001b[0m\u001b[1;33m\u001b[0m\u001b[1;33m\u001b[0m\u001b[0m\n\u001b[1;32m----> 3\u001b[1;33m \u001b[0mfeature\u001b[0m\u001b[1;33m=\u001b[0m\u001b[0mscaler\u001b[0m\u001b[1;33m.\u001b[0m\u001b[0mfit_transform\u001b[0m\u001b[1;33m(\u001b[0m\u001b[0mfeature\u001b[0m\u001b[1;33m)\u001b[0m\u001b[1;33m\u001b[0m\u001b[1;33m\u001b[0m\u001b[0m\n\u001b[0m\u001b[0;32m      4\u001b[0m \u001b[0mtest_feature\u001b[0m\u001b[1;33m=\u001b[0m\u001b[0mscaler\u001b[0m\u001b[1;33m.\u001b[0m\u001b[0mtransform\u001b[0m\u001b[1;33m(\u001b[0m\u001b[0mtest_feature\u001b[0m\u001b[1;33m)\u001b[0m\u001b[1;33m\u001b[0m\u001b[1;33m\u001b[0m\u001b[0m\n",
      "\u001b[1;31mNameError\u001b[0m: name 'feature' is not defined"
     ]
    }
   ],
   "source": [
    "#scale the data\n",
    "scaler=StandardScaler()\n",
    "feature=scaler.fit_transform(feature)\n",
    "test_feature=scaler.transform(test_feature)"
   ]
  },
  {
   "cell_type": "code",
   "execution_count": null,
   "metadata": {
    "scrolled": true
   },
   "outputs": [],
   "source": [
    "for clf_model,clf_name in zip([dt_clf,svm_clf,lr_clf,knn_clf],\\\n",
    "                              ['Decision Tree','SVM',\"logistic regression\",'K Nearest neighbors']):\n",
    "    print('-----------------{}--------------'.format(clf_name))\n",
    "    clf_model.fit(feature,label)\n",
    "    test_pred=clf_model.predict(test_feature)\n",
    "    print(classification_report(test_label,test_pred))"
   ]
  },
  {
   "cell_type": "code",
   "execution_count": null,
   "metadata": {},
   "outputs": [],
   "source": []
  }
 ],
 "metadata": {
  "kernelspec": {
   "display_name": "Python 3",
   "language": "python",
   "name": "python3"
  },
  "language_info": {
   "codemirror_mode": {
    "name": "ipython",
    "version": 3
   },
   "file_extension": ".py",
   "mimetype": "text/x-python",
   "name": "python",
   "nbconvert_exporter": "python",
   "pygments_lexer": "ipython3",
   "version": "3.7.9"
  }
 },
 "nbformat": 4,
 "nbformat_minor": 4
}
