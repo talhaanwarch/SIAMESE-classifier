{
 "cells": [
  {
   "cell_type": "markdown",
   "id": "proof-census",
   "metadata": {},
   "source": [
    "# load data"
   ]
  },
  {
   "cell_type": "code",
   "execution_count": 1,
   "id": "imposed-electron",
   "metadata": {},
   "outputs": [],
   "source": [
    "from glob import glob\n",
    "import os\n",
    "images=[]\n",
    "labels=[]\n",
    "for folder in os.listdir('../dataset'):\n",
    "    for pic in glob('../dataset/{}/*.jpg'.format(folder)):\n",
    "        images.append(pic)\n",
    "        labels.append(folder)\n",
    "        "
   ]
  },
  {
   "cell_type": "code",
   "execution_count": 2,
   "id": "engaged-harassment",
   "metadata": {},
   "outputs": [
    {
     "data": {
      "text/html": [
       "<div>\n",
       "<style scoped>\n",
       "    .dataframe tbody tr th:only-of-type {\n",
       "        vertical-align: middle;\n",
       "    }\n",
       "\n",
       "    .dataframe tbody tr th {\n",
       "        vertical-align: top;\n",
       "    }\n",
       "\n",
       "    .dataframe thead th {\n",
       "        text-align: right;\n",
       "    }\n",
       "</style>\n",
       "<table border=\"1\" class=\"dataframe\">\n",
       "  <thead>\n",
       "    <tr style=\"text-align: right;\">\n",
       "      <th></th>\n",
       "      <th>img</th>\n",
       "      <th>label</th>\n",
       "    </tr>\n",
       "  </thead>\n",
       "  <tbody>\n",
       "    <tr>\n",
       "      <th>0</th>\n",
       "      <td>../dataset/Fracture\\52 Male (L View).jpg</td>\n",
       "      <td>0</td>\n",
       "    </tr>\n",
       "    <tr>\n",
       "      <th>1</th>\n",
       "      <td>../dataset/Normal\\70.jpg</td>\n",
       "      <td>1</td>\n",
       "    </tr>\n",
       "    <tr>\n",
       "      <th>2</th>\n",
       "      <td>../dataset/Fracture\\47 Male (L View).jpg</td>\n",
       "      <td>0</td>\n",
       "    </tr>\n",
       "    <tr>\n",
       "      <th>3</th>\n",
       "      <td>../dataset/Fracture\\66 F (A View).jpg</td>\n",
       "      <td>0</td>\n",
       "    </tr>\n",
       "    <tr>\n",
       "      <th>4</th>\n",
       "      <td>../dataset/Normal\\66.jpg</td>\n",
       "      <td>1</td>\n",
       "    </tr>\n",
       "  </tbody>\n",
       "</table>\n",
       "</div>"
      ],
      "text/plain": [
       "                                        img  label\n",
       "0  ../dataset/Fracture\\52 Male (L View).jpg      0\n",
       "1                  ../dataset/Normal\\70.jpg      1\n",
       "2  ../dataset/Fracture\\47 Male (L View).jpg      0\n",
       "3     ../dataset/Fracture\\66 F (A View).jpg      0\n",
       "4                  ../dataset/Normal\\66.jpg      1"
      ]
     },
     "execution_count": 2,
     "metadata": {},
     "output_type": "execute_result"
    }
   ],
   "source": [
    "import pandas as pd\n",
    "data=pd.DataFrame(zip(images,labels),columns=['img','label'])\n",
    "data.label=data.label.map({'Fracture':0,'Normal':1})\n",
    "data = data.sample(frac=1).reset_index(drop=True)\n",
    "data.head()"
   ]
  },
  {
   "cell_type": "markdown",
   "id": "prostate-divide",
   "metadata": {},
   "source": [
    "# top 5 lightest models in torchvision\n",
    "1\tsqueezenet1_1\t1235496  \n",
    "2\tshufflenet_v2_x0_5\t1366792  \n",
    "3\tmnasnet0_5\t2218512  \n",
    "4\tmobilenet_v2\t3504872  \n",
    "5\tdensenet121\t7978856  `"
   ]
  },
  {
   "cell_type": "code",
   "execution_count": null,
   "id": "hidden-interval",
   "metadata": {},
   "outputs": [],
   "source": []
  },
  {
   "cell_type": "code",
   "execution_count": 3,
   "id": "silver-narrow",
   "metadata": {},
   "outputs": [],
   "source": [
    "from models.squeezenet import squeezenet1_1\n",
    "from models.mymodels import mymodel\n",
    "from models.shufflenet import shufflenet_v2_x0_5\n",
    "from models.mnastnet import mnasnet0_5\n",
    "from models.densenet import densenet121\n",
    "from models.mobilenet import mobilenet\n",
    "from cross_vals import kfoldcv"
   ]
  },
  {
   "cell_type": "code",
   "execution_count": 4,
   "id": "abandoned-medium",
   "metadata": {},
   "outputs": [],
   "source": [
    "def count_parameters(model):\n",
    "    return sum(p.numel() for p in model.parameters() if p.requires_grad)/1e6"
   ]
  },
  {
   "cell_type": "code",
   "execution_count": 5,
   "id": "delayed-labor",
   "metadata": {},
   "outputs": [
    {
     "name": "stdout",
     "output_type": "stream",
     "text": [
      "MyNet parameters : 0.774768\n",
      "SqueezeNet parameters : 0.984\n",
      "ShuffleNet parameters : 0.86616\n",
      "MnastNet parameters : 1.593096\n",
      "MobileNet parameters : 2.879168\n",
      "DenseNet parameters : 7.472384\n"
     ]
    }
   ],
   "source": [
    "print('MyNet parameters :' ,count_parameters(mymodel()))\n",
    "print('SqueezeNet parameters :', count_parameters(squeezenet1_1()))\n",
    "print('ShuffleNet parameters :', count_parameters(shufflenet_v2_x0_5()))\n",
    "print('MnastNet parameters :', count_parameters(mnasnet0_5()))\n",
    "print('MobileNet parameters :', count_parameters(mobilenet()))\n",
    "print('DenseNet parameters :', count_parameters(densenet121()))\n"
   ]
  },
  {
   "cell_type": "markdown",
   "id": "canadian-republic",
   "metadata": {},
   "source": [
    "# MyNet"
   ]
  },
  {
   "cell_type": "code",
   "execution_count": 6,
   "id": "charming-equality",
   "metadata": {},
   "outputs": [
    {
     "name": "stdout",
     "output_type": "stream",
     "text": [
      "Wall time: 15min 16s\n"
     ]
    }
   ],
   "source": [
    "%%time\n",
    "train_cv,clf_report=kfoldcv(model=mymodel(),epochs=50,data=data,skip_tuning=False)"
   ]
  },
  {
   "cell_type": "code",
   "execution_count": 7,
   "id": "selective-numbers",
   "metadata": {},
   "outputs": [
    {
     "name": "stdout",
     "output_type": "stream",
     "text": [
      "------------------ Decision Tree ----------------\n",
      "          precision  recall  f1-score\n",
      "Fracture      0.950   0.864     0.904\n",
      "Normal        0.836   0.932     0.874\n",
      "macro         0.894   0.898     0.888\n",
      "weighted      0.906   0.890     0.890\n",
      "------------------ SVM ----------------\n",
      "          precision  recall  f1-score\n",
      "Fracture      0.948   0.918     0.932\n",
      "Normal        0.898   0.932     0.910\n",
      "macro         0.922   0.924     0.922\n",
      "weighted      0.930   0.922     0.922\n",
      "------------------ logistic regression ----------------\n",
      "          precision  recall  f1-score\n",
      "Fracture      0.948   0.900     0.924\n",
      "Normal        0.872   0.932     0.898\n",
      "macro         0.910   0.916     0.912\n",
      "weighted      0.920   0.912     0.912\n",
      "------------------ K Nearest neighbors ----------------\n",
      "          precision  recall  f1-score\n",
      "Fracture      0.946   0.886     0.916\n",
      "Normal        0.870   0.932     0.896\n",
      "macro         0.908   0.910     0.906\n",
      "weighted      0.914   0.906     0.906\n"
     ]
    }
   ],
   "source": [
    "for clf in ['Decision Tree','SVM',\"logistic regression\",'K Nearest neighbors']:\n",
    "    print('------------------',clf,'----------------')\n",
    "    print(clf_report[0][clf][0])"
   ]
  },
  {
   "cell_type": "code",
   "execution_count": 8,
   "id": "threatened-publisher",
   "metadata": {},
   "outputs": [
    {
     "data": {
      "text/html": [
       "<div>\n",
       "<style scoped>\n",
       "    .dataframe tbody tr th:only-of-type {\n",
       "        vertical-align: middle;\n",
       "    }\n",
       "\n",
       "    .dataframe tbody tr th {\n",
       "        vertical-align: top;\n",
       "    }\n",
       "\n",
       "    .dataframe thead th {\n",
       "        text-align: right;\n",
       "    }\n",
       "</style>\n",
       "<table border=\"1\" class=\"dataframe\">\n",
       "  <thead>\n",
       "    <tr style=\"text-align: right;\">\n",
       "      <th></th>\n",
       "      <th>DT</th>\n",
       "      <th>SVM</th>\n",
       "      <th>LR</th>\n",
       "      <th>KNN</th>\n",
       "    </tr>\n",
       "  </thead>\n",
       "  <tbody>\n",
       "    <tr>\n",
       "      <th>0</th>\n",
       "      <td>0.85</td>\n",
       "      <td>0.79</td>\n",
       "      <td>0.79</td>\n",
       "      <td>0.79</td>\n",
       "    </tr>\n",
       "    <tr>\n",
       "      <th>1</th>\n",
       "      <td>0.90</td>\n",
       "      <td>0.90</td>\n",
       "      <td>0.90</td>\n",
       "      <td>0.90</td>\n",
       "    </tr>\n",
       "    <tr>\n",
       "      <th>2</th>\n",
       "      <td>0.92</td>\n",
       "      <td>0.95</td>\n",
       "      <td>0.95</td>\n",
       "      <td>0.92</td>\n",
       "    </tr>\n",
       "    <tr>\n",
       "      <th>3</th>\n",
       "      <td>0.89</td>\n",
       "      <td>1.00</td>\n",
       "      <td>0.97</td>\n",
       "      <td>1.00</td>\n",
       "    </tr>\n",
       "    <tr>\n",
       "      <th>4</th>\n",
       "      <td>0.89</td>\n",
       "      <td>0.97</td>\n",
       "      <td>0.95</td>\n",
       "      <td>0.92</td>\n",
       "    </tr>\n",
       "    <tr>\n",
       "      <th>mean</th>\n",
       "      <td>0.89</td>\n",
       "      <td>0.922</td>\n",
       "      <td>0.912</td>\n",
       "      <td>0.906</td>\n",
       "    </tr>\n",
       "  </tbody>\n",
       "</table>\n",
       "</div>"
      ],
      "text/plain": [
       "        DT    SVM     LR    KNN\n",
       "0     0.85   0.79   0.79   0.79\n",
       "1     0.90   0.90   0.90   0.90\n",
       "2     0.92   0.95   0.95   0.92\n",
       "3     0.89   1.00   0.97   1.00\n",
       "4     0.89   0.97   0.95   0.92\n",
       "mean  0.89  0.922  0.912  0.906"
      ]
     },
     "execution_count": 8,
     "metadata": {},
     "output_type": "execute_result"
    }
   ],
   "source": [
    "#aacuracy\n",
    "clf_report[1]"
   ]
  },
  {
   "cell_type": "markdown",
   "id": "periodic-destruction",
   "metadata": {},
   "source": [
    "# SqueezeNet"
   ]
  },
  {
   "cell_type": "code",
   "execution_count": 9,
   "id": "considerable-church",
   "metadata": {},
   "outputs": [
    {
     "name": "stdout",
     "output_type": "stream",
     "text": [
      "Wall time: 15min 31s\n"
     ]
    }
   ],
   "source": [
    "%%time\n",
    "train_cv,clf_report=kfoldcv(model=squeezenet1_1(),epochs=50,data=data,skip_tuning=False)"
   ]
  },
  {
   "cell_type": "code",
   "execution_count": 10,
   "id": "sharing-guess",
   "metadata": {},
   "outputs": [
    {
     "name": "stdout",
     "output_type": "stream",
     "text": [
      "------------------ Decision Tree ----------------\n",
      "          precision  recall  f1-score\n",
      "Fracture      0.982   0.982     0.982\n",
      "Normal        0.976   0.976     0.976\n",
      "macro         0.980   0.980     0.978\n",
      "weighted      0.980   0.978     0.978\n",
      "------------------ SVM ----------------\n",
      "          precision  recall  f1-score\n",
      "Fracture      1.000   0.974     0.986\n",
      "Normal        0.966   1.000     0.982\n",
      "macro         0.984   0.986     0.984\n",
      "weighted      0.986   0.984     0.984\n",
      "------------------ logistic regression ----------------\n",
      "          precision  recall  f1-score\n",
      "Fracture      0.962   1.000     0.980\n",
      "Normal        1.000   0.942     0.966\n",
      "macro         0.982   0.970     0.972\n",
      "weighted      0.980   0.974     0.974\n",
      "------------------ K Nearest neighbors ----------------\n",
      "          precision  recall  f1-score\n",
      "Fracture      1.000   0.946     0.970\n",
      "Normal        0.942   1.000     0.968\n",
      "macro         0.972   0.974     0.968\n",
      "weighted      0.976   0.968     0.968\n"
     ]
    }
   ],
   "source": [
    "for clf in ['Decision Tree','SVM',\"logistic regression\",'K Nearest neighbors']:\n",
    "    print('------------------',clf,'----------------')\n",
    "    print(clf_report[0][clf][0])"
   ]
  },
  {
   "cell_type": "code",
   "execution_count": 11,
   "id": "pressing-choir",
   "metadata": {},
   "outputs": [
    {
     "data": {
      "text/html": [
       "<div>\n",
       "<style scoped>\n",
       "    .dataframe tbody tr th:only-of-type {\n",
       "        vertical-align: middle;\n",
       "    }\n",
       "\n",
       "    .dataframe tbody tr th {\n",
       "        vertical-align: top;\n",
       "    }\n",
       "\n",
       "    .dataframe thead th {\n",
       "        text-align: right;\n",
       "    }\n",
       "</style>\n",
       "<table border=\"1\" class=\"dataframe\">\n",
       "  <thead>\n",
       "    <tr style=\"text-align: right;\">\n",
       "      <th></th>\n",
       "      <th>DT</th>\n",
       "      <th>SVM</th>\n",
       "      <th>LR</th>\n",
       "      <th>KNN</th>\n",
       "    </tr>\n",
       "  </thead>\n",
       "  <tbody>\n",
       "    <tr>\n",
       "      <th>0</th>\n",
       "      <td>0.92</td>\n",
       "      <td>0.95</td>\n",
       "      <td>0.87</td>\n",
       "      <td>0.87</td>\n",
       "    </tr>\n",
       "    <tr>\n",
       "      <th>1</th>\n",
       "      <td>0.97</td>\n",
       "      <td>0.97</td>\n",
       "      <td>1.00</td>\n",
       "      <td>0.97</td>\n",
       "    </tr>\n",
       "    <tr>\n",
       "      <th>2</th>\n",
       "      <td>1.00</td>\n",
       "      <td>1.00</td>\n",
       "      <td>1.00</td>\n",
       "      <td>1.00</td>\n",
       "    </tr>\n",
       "    <tr>\n",
       "      <th>3</th>\n",
       "      <td>1.00</td>\n",
       "      <td>1.00</td>\n",
       "      <td>1.00</td>\n",
       "      <td>1.00</td>\n",
       "    </tr>\n",
       "    <tr>\n",
       "      <th>4</th>\n",
       "      <td>1.00</td>\n",
       "      <td>1.00</td>\n",
       "      <td>1.00</td>\n",
       "      <td>1.00</td>\n",
       "    </tr>\n",
       "    <tr>\n",
       "      <th>mean</th>\n",
       "      <td>0.978</td>\n",
       "      <td>0.984</td>\n",
       "      <td>0.974</td>\n",
       "      <td>0.968</td>\n",
       "    </tr>\n",
       "  </tbody>\n",
       "</table>\n",
       "</div>"
      ],
      "text/plain": [
       "         DT    SVM     LR    KNN\n",
       "0      0.92   0.95   0.87   0.87\n",
       "1      0.97   0.97   1.00   0.97\n",
       "2      1.00   1.00   1.00   1.00\n",
       "3      1.00   1.00   1.00   1.00\n",
       "4      1.00   1.00   1.00   1.00\n",
       "mean  0.978  0.984  0.974  0.968"
      ]
     },
     "execution_count": 11,
     "metadata": {},
     "output_type": "execute_result"
    }
   ],
   "source": [
    "#aacuracy\n",
    "clf_report[1]"
   ]
  },
  {
   "cell_type": "markdown",
   "id": "forbidden-marketing",
   "metadata": {},
   "source": [
    "# ShuffleNet"
   ]
  },
  {
   "cell_type": "code",
   "execution_count": 12,
   "id": "necessary-clause",
   "metadata": {},
   "outputs": [
    {
     "name": "stdout",
     "output_type": "stream",
     "text": [
      "Wall time: 23min 8s\n"
     ]
    }
   ],
   "source": [
    "%%time\n",
    "train_cv,clf_report=kfoldcv(model=shufflenet_v2_x0_5(),epochs=50,data=data,skip_tuning=False)"
   ]
  },
  {
   "cell_type": "code",
   "execution_count": 13,
   "id": "capable-simple",
   "metadata": {},
   "outputs": [
    {
     "name": "stdout",
     "output_type": "stream",
     "text": [
      "------------------ Decision Tree ----------------\n",
      "          precision  recall  f1-score\n",
      "Fracture      0.650   0.704     0.670\n",
      "Normal        0.540   0.494     0.508\n",
      "macro         0.596   0.600     0.590\n",
      "weighted      0.610   0.608     0.600\n",
      "------------------ SVM ----------------\n",
      "          precision  recall  f1-score\n",
      "Fracture      0.680   0.748     0.712\n",
      "Normal        0.602   0.518     0.554\n",
      "macro         0.642   0.632     0.630\n",
      "weighted      0.650   0.656     0.646\n",
      "------------------ logistic regression ----------------\n",
      "          precision  recall  f1-score\n",
      "Fracture      0.678   0.758     0.714\n",
      "Normal        0.594   0.504     0.540\n",
      "macro         0.636   0.632     0.626\n",
      "weighted      0.646   0.652     0.644\n",
      "------------------ K Nearest neighbors ----------------\n",
      "          precision  recall  f1-score\n",
      "Fracture      0.640   0.748     0.688\n",
      "Normal        0.556   0.436     0.484\n",
      "macro         0.600   0.592     0.584\n",
      "weighted      0.614   0.616     0.602\n"
     ]
    }
   ],
   "source": [
    "for clf in ['Decision Tree','SVM',\"logistic regression\",'K Nearest neighbors']:\n",
    "    print('------------------',clf,'----------------')\n",
    "    print(clf_report[0][clf][0])"
   ]
  },
  {
   "cell_type": "code",
   "execution_count": 14,
   "id": "guilty-constraint",
   "metadata": {},
   "outputs": [
    {
     "data": {
      "text/html": [
       "<div>\n",
       "<style scoped>\n",
       "    .dataframe tbody tr th:only-of-type {\n",
       "        vertical-align: middle;\n",
       "    }\n",
       "\n",
       "    .dataframe tbody tr th {\n",
       "        vertical-align: top;\n",
       "    }\n",
       "\n",
       "    .dataframe thead th {\n",
       "        text-align: right;\n",
       "    }\n",
       "</style>\n",
       "<table border=\"1\" class=\"dataframe\">\n",
       "  <thead>\n",
       "    <tr style=\"text-align: right;\">\n",
       "      <th></th>\n",
       "      <th>DT</th>\n",
       "      <th>SVM</th>\n",
       "      <th>LR</th>\n",
       "      <th>KNN</th>\n",
       "    </tr>\n",
       "  </thead>\n",
       "  <tbody>\n",
       "    <tr>\n",
       "      <th>0</th>\n",
       "      <td>0.46</td>\n",
       "      <td>0.54</td>\n",
       "      <td>0.56</td>\n",
       "      <td>0.44</td>\n",
       "    </tr>\n",
       "    <tr>\n",
       "      <th>1</th>\n",
       "      <td>0.51</td>\n",
       "      <td>0.62</td>\n",
       "      <td>0.56</td>\n",
       "      <td>0.49</td>\n",
       "    </tr>\n",
       "    <tr>\n",
       "      <th>2</th>\n",
       "      <td>0.62</td>\n",
       "      <td>0.54</td>\n",
       "      <td>0.56</td>\n",
       "      <td>0.59</td>\n",
       "    </tr>\n",
       "    <tr>\n",
       "      <th>3</th>\n",
       "      <td>0.82</td>\n",
       "      <td>0.82</td>\n",
       "      <td>0.82</td>\n",
       "      <td>0.82</td>\n",
       "    </tr>\n",
       "    <tr>\n",
       "      <th>4</th>\n",
       "      <td>0.63</td>\n",
       "      <td>0.76</td>\n",
       "      <td>0.76</td>\n",
       "      <td>0.74</td>\n",
       "    </tr>\n",
       "    <tr>\n",
       "      <th>mean</th>\n",
       "      <td>0.608</td>\n",
       "      <td>0.656</td>\n",
       "      <td>0.652</td>\n",
       "      <td>0.616</td>\n",
       "    </tr>\n",
       "  </tbody>\n",
       "</table>\n",
       "</div>"
      ],
      "text/plain": [
       "         DT    SVM     LR    KNN\n",
       "0      0.46   0.54   0.56   0.44\n",
       "1      0.51   0.62   0.56   0.49\n",
       "2      0.62   0.54   0.56   0.59\n",
       "3      0.82   0.82   0.82   0.82\n",
       "4      0.63   0.76   0.76   0.74\n",
       "mean  0.608  0.656  0.652  0.616"
      ]
     },
     "execution_count": 14,
     "metadata": {},
     "output_type": "execute_result"
    }
   ],
   "source": [
    "#aacuracy\n",
    "clf_report[1]"
   ]
  },
  {
   "cell_type": "markdown",
   "id": "controlling-hollywood",
   "metadata": {},
   "source": [
    "# Mnasnet"
   ]
  },
  {
   "cell_type": "code",
   "execution_count": 15,
   "id": "continent-investigator",
   "metadata": {},
   "outputs": [
    {
     "name": "stdout",
     "output_type": "stream",
     "text": [
      "Wall time: 21min 33s\n"
     ]
    }
   ],
   "source": [
    "%%time\n",
    "train_cv,clf_report=kfoldcv(model=mnasnet0_5(),epochs=50,data=data,skip_tuning=False)"
   ]
  },
  {
   "cell_type": "code",
   "execution_count": 16,
   "id": "suitable-grill",
   "metadata": {},
   "outputs": [
    {
     "name": "stdout",
     "output_type": "stream",
     "text": [
      "------------------ Decision Tree ----------------\n",
      "          precision  recall  f1-score\n",
      "Fracture      0.634   0.660     0.632\n",
      "Normal        0.554   0.506     0.508\n",
      "macro         0.594   0.582     0.568\n",
      "weighted      0.612   0.582     0.578\n",
      "------------------ SVM ----------------\n",
      "          precision  recall  f1-score\n",
      "Fracture      0.612   0.726     0.656\n",
      "Normal        0.476   0.372     0.402\n",
      "macro         0.544   0.548     0.530\n",
      "weighted      0.556   0.566     0.546\n",
      "------------------ logistic regression ----------------\n",
      "          precision  recall  f1-score\n",
      "Fracture      0.612   0.734     0.660\n",
      "Normal        0.484   0.366     0.404\n",
      "macro         0.550   0.550     0.532\n",
      "weighted      0.562   0.570     0.550\n",
      "------------------ K Nearest neighbors ----------------\n",
      "          precision  recall  f1-score\n",
      "Fracture      0.624   0.712     0.658\n",
      "Normal        0.530   0.426     0.456\n",
      "macro         0.580   0.568     0.554\n",
      "weighted      0.594   0.590     0.574\n"
     ]
    }
   ],
   "source": [
    "for clf in ['Decision Tree','SVM',\"logistic regression\",'K Nearest neighbors']:\n",
    "    print('------------------',clf,'----------------')\n",
    "    print(clf_report[0][clf][0])"
   ]
  },
  {
   "cell_type": "code",
   "execution_count": 17,
   "id": "pursuant-burke",
   "metadata": {},
   "outputs": [
    {
     "data": {
      "text/html": [
       "<div>\n",
       "<style scoped>\n",
       "    .dataframe tbody tr th:only-of-type {\n",
       "        vertical-align: middle;\n",
       "    }\n",
       "\n",
       "    .dataframe tbody tr th {\n",
       "        vertical-align: top;\n",
       "    }\n",
       "\n",
       "    .dataframe thead th {\n",
       "        text-align: right;\n",
       "    }\n",
       "</style>\n",
       "<table border=\"1\" class=\"dataframe\">\n",
       "  <thead>\n",
       "    <tr style=\"text-align: right;\">\n",
       "      <th></th>\n",
       "      <th>DT</th>\n",
       "      <th>SVM</th>\n",
       "      <th>LR</th>\n",
       "      <th>KNN</th>\n",
       "    </tr>\n",
       "  </thead>\n",
       "  <tbody>\n",
       "    <tr>\n",
       "      <th>0</th>\n",
       "      <td>0.62</td>\n",
       "      <td>0.51</td>\n",
       "      <td>0.51</td>\n",
       "      <td>0.46</td>\n",
       "    </tr>\n",
       "    <tr>\n",
       "      <th>1</th>\n",
       "      <td>0.46</td>\n",
       "      <td>0.33</td>\n",
       "      <td>0.38</td>\n",
       "      <td>0.59</td>\n",
       "    </tr>\n",
       "    <tr>\n",
       "      <th>2</th>\n",
       "      <td>0.62</td>\n",
       "      <td>0.46</td>\n",
       "      <td>0.46</td>\n",
       "      <td>0.51</td>\n",
       "    </tr>\n",
       "    <tr>\n",
       "      <th>3</th>\n",
       "      <td>0.50</td>\n",
       "      <td>0.79</td>\n",
       "      <td>0.76</td>\n",
       "      <td>0.68</td>\n",
       "    </tr>\n",
       "    <tr>\n",
       "      <th>4</th>\n",
       "      <td>0.71</td>\n",
       "      <td>0.74</td>\n",
       "      <td>0.74</td>\n",
       "      <td>0.71</td>\n",
       "    </tr>\n",
       "    <tr>\n",
       "      <th>mean</th>\n",
       "      <td>0.582</td>\n",
       "      <td>0.566</td>\n",
       "      <td>0.57</td>\n",
       "      <td>0.59</td>\n",
       "    </tr>\n",
       "  </tbody>\n",
       "</table>\n",
       "</div>"
      ],
      "text/plain": [
       "         DT    SVM    LR   KNN\n",
       "0      0.62   0.51  0.51  0.46\n",
       "1      0.46   0.33  0.38  0.59\n",
       "2      0.62   0.46  0.46  0.51\n",
       "3      0.50   0.79  0.76  0.68\n",
       "4      0.71   0.74  0.74  0.71\n",
       "mean  0.582  0.566  0.57  0.59"
      ]
     },
     "execution_count": 17,
     "metadata": {},
     "output_type": "execute_result"
    }
   ],
   "source": [
    "#aacuracy\n",
    "clf_report[1]"
   ]
  },
  {
   "cell_type": "markdown",
   "id": "needed-investor",
   "metadata": {},
   "source": [
    "# MobileNet"
   ]
  },
  {
   "cell_type": "code",
   "execution_count": 18,
   "id": "excited-habitat",
   "metadata": {},
   "outputs": [
    {
     "name": "stdout",
     "output_type": "stream",
     "text": [
      "Wall time: 21min 30s\n"
     ]
    }
   ],
   "source": [
    "%%time\n",
    "train_cv,clf_report=kfoldcv(model=mobilenet(),epochs=50,data=data,skip_tuning=False)"
   ]
  },
  {
   "cell_type": "code",
   "execution_count": 19,
   "id": "unable-whale",
   "metadata": {},
   "outputs": [
    {
     "name": "stdout",
     "output_type": "stream",
     "text": [
      "------------------ Decision Tree ----------------\n",
      "          precision  recall  f1-score\n",
      "Fracture      0.726   0.724     0.724\n",
      "Normal        0.638   0.630     0.630\n",
      "macro         0.678   0.676     0.674\n",
      "weighted      0.694   0.686     0.686\n",
      "------------------ SVM ----------------\n",
      "          precision  recall  f1-score\n",
      "Fracture      0.758   0.768     0.756\n",
      "Normal        0.672   0.664     0.662\n",
      "macro         0.716   0.716     0.712\n",
      "weighted      0.726   0.720     0.718\n",
      "------------------ logistic regression ----------------\n",
      "          precision  recall  f1-score\n",
      "Fracture      0.756   0.778     0.760\n",
      "Normal        0.676   0.650     0.658\n",
      "macro         0.716   0.716     0.710\n",
      "weighted      0.728   0.722     0.716\n",
      "------------------ K Nearest neighbors ----------------\n",
      "          precision  recall  f1-score\n",
      "Fracture      0.750   0.762     0.748\n",
      "Normal        0.690   0.662     0.670\n",
      "macro         0.718   0.710     0.708\n",
      "weighted      0.728   0.716     0.714\n"
     ]
    }
   ],
   "source": [
    "for clf in ['Decision Tree','SVM',\"logistic regression\",'K Nearest neighbors']:\n",
    "    print('------------------',clf,'----------------')\n",
    "    print(clf_report[0][clf][0])"
   ]
  },
  {
   "cell_type": "code",
   "execution_count": 20,
   "id": "weighted-incentive",
   "metadata": {},
   "outputs": [
    {
     "data": {
      "text/html": [
       "<div>\n",
       "<style scoped>\n",
       "    .dataframe tbody tr th:only-of-type {\n",
       "        vertical-align: middle;\n",
       "    }\n",
       "\n",
       "    .dataframe tbody tr th {\n",
       "        vertical-align: top;\n",
       "    }\n",
       "\n",
       "    .dataframe thead th {\n",
       "        text-align: right;\n",
       "    }\n",
       "</style>\n",
       "<table border=\"1\" class=\"dataframe\">\n",
       "  <thead>\n",
       "    <tr style=\"text-align: right;\">\n",
       "      <th></th>\n",
       "      <th>DT</th>\n",
       "      <th>SVM</th>\n",
       "      <th>LR</th>\n",
       "      <th>KNN</th>\n",
       "    </tr>\n",
       "  </thead>\n",
       "  <tbody>\n",
       "    <tr>\n",
       "      <th>0</th>\n",
       "      <td>0.49</td>\n",
       "      <td>0.49</td>\n",
       "      <td>0.49</td>\n",
       "      <td>0.51</td>\n",
       "    </tr>\n",
       "    <tr>\n",
       "      <th>1</th>\n",
       "      <td>0.41</td>\n",
       "      <td>0.56</td>\n",
       "      <td>0.54</td>\n",
       "      <td>0.46</td>\n",
       "    </tr>\n",
       "    <tr>\n",
       "      <th>2</th>\n",
       "      <td>0.69</td>\n",
       "      <td>0.69</td>\n",
       "      <td>0.72</td>\n",
       "      <td>0.72</td>\n",
       "    </tr>\n",
       "    <tr>\n",
       "      <th>3</th>\n",
       "      <td>0.87</td>\n",
       "      <td>0.89</td>\n",
       "      <td>0.89</td>\n",
       "      <td>0.92</td>\n",
       "    </tr>\n",
       "    <tr>\n",
       "      <th>4</th>\n",
       "      <td>0.97</td>\n",
       "      <td>0.97</td>\n",
       "      <td>0.97</td>\n",
       "      <td>0.97</td>\n",
       "    </tr>\n",
       "    <tr>\n",
       "      <th>mean</th>\n",
       "      <td>0.686</td>\n",
       "      <td>0.72</td>\n",
       "      <td>0.722</td>\n",
       "      <td>0.716</td>\n",
       "    </tr>\n",
       "  </tbody>\n",
       "</table>\n",
       "</div>"
      ],
      "text/plain": [
       "         DT   SVM     LR    KNN\n",
       "0      0.49  0.49   0.49   0.51\n",
       "1      0.41  0.56   0.54   0.46\n",
       "2      0.69  0.69   0.72   0.72\n",
       "3      0.87  0.89   0.89   0.92\n",
       "4      0.97  0.97   0.97   0.97\n",
       "mean  0.686  0.72  0.722  0.716"
      ]
     },
     "execution_count": 20,
     "metadata": {},
     "output_type": "execute_result"
    }
   ],
   "source": [
    "#aacuracy\n",
    "clf_report[1]"
   ]
  },
  {
   "cell_type": "markdown",
   "id": "plain-syndicate",
   "metadata": {},
   "source": [
    "# DenseNet121"
   ]
  },
  {
   "cell_type": "code",
   "execution_count": 21,
   "id": "scheduled-synthetic",
   "metadata": {},
   "outputs": [
    {
     "name": "stdout",
     "output_type": "stream",
     "text": [
      "Wall time: 44min 55s\n"
     ]
    }
   ],
   "source": [
    "%%time\n",
    "train_cv,clf_report=kfoldcv(model=densenet121(),epochs=50,data=data,skip_tuning=False)"
   ]
  },
  {
   "cell_type": "code",
   "execution_count": 22,
   "id": "important-blade",
   "metadata": {},
   "outputs": [
    {
     "name": "stdout",
     "output_type": "stream",
     "text": [
      "------------------ Decision Tree ----------------\n",
      "          precision  recall  f1-score\n",
      "Fracture      0.964   0.896     0.926\n",
      "Normal        0.868   0.952     0.906\n",
      "macro         0.918   0.924     0.916\n",
      "weighted      0.928   0.916     0.916\n",
      "------------------ SVM ----------------\n",
      "          precision  recall  f1-score\n",
      "Fracture      0.974   0.958     0.964\n",
      "Normal        0.942   0.964     0.952\n",
      "macro         0.958   0.962     0.958\n",
      "weighted      0.962   0.958     0.958\n",
      "------------------ logistic regression ----------------\n",
      "          precision  recall  f1-score\n",
      "Fracture      0.968   0.966     0.964\n",
      "Normal        0.952   0.952     0.950\n",
      "macro         0.960   0.960     0.958\n",
      "weighted      0.964   0.958     0.958\n",
      "------------------ K Nearest neighbors ----------------\n",
      "          precision  recall  f1-score\n",
      "Fracture      0.980   0.930     0.954\n",
      "Normal        0.908   0.976     0.940\n",
      "macro         0.944   0.954     0.948\n",
      "weighted      0.954   0.948     0.948\n"
     ]
    }
   ],
   "source": [
    "for clf in ['Decision Tree','SVM',\"logistic regression\",'K Nearest neighbors']:\n",
    "    print('------------------',clf,'----------------')\n",
    "    print(clf_report[0][clf][0])"
   ]
  },
  {
   "cell_type": "code",
   "execution_count": 23,
   "id": "structural-scott",
   "metadata": {},
   "outputs": [
    {
     "data": {
      "text/html": [
       "<div>\n",
       "<style scoped>\n",
       "    .dataframe tbody tr th:only-of-type {\n",
       "        vertical-align: middle;\n",
       "    }\n",
       "\n",
       "    .dataframe tbody tr th {\n",
       "        vertical-align: top;\n",
       "    }\n",
       "\n",
       "    .dataframe thead th {\n",
       "        text-align: right;\n",
       "    }\n",
       "</style>\n",
       "<table border=\"1\" class=\"dataframe\">\n",
       "  <thead>\n",
       "    <tr style=\"text-align: right;\">\n",
       "      <th></th>\n",
       "      <th>DT</th>\n",
       "      <th>SVM</th>\n",
       "      <th>LR</th>\n",
       "      <th>KNN</th>\n",
       "    </tr>\n",
       "  </thead>\n",
       "  <tbody>\n",
       "    <tr>\n",
       "      <th>0</th>\n",
       "      <td>0.79</td>\n",
       "      <td>0.87</td>\n",
       "      <td>0.87</td>\n",
       "      <td>0.87</td>\n",
       "    </tr>\n",
       "    <tr>\n",
       "      <th>1</th>\n",
       "      <td>0.85</td>\n",
       "      <td>0.92</td>\n",
       "      <td>0.92</td>\n",
       "      <td>0.90</td>\n",
       "    </tr>\n",
       "    <tr>\n",
       "      <th>2</th>\n",
       "      <td>0.97</td>\n",
       "      <td>1.00</td>\n",
       "      <td>1.00</td>\n",
       "      <td>1.00</td>\n",
       "    </tr>\n",
       "    <tr>\n",
       "      <th>3</th>\n",
       "      <td>0.97</td>\n",
       "      <td>1.00</td>\n",
       "      <td>1.00</td>\n",
       "      <td>0.97</td>\n",
       "    </tr>\n",
       "    <tr>\n",
       "      <th>4</th>\n",
       "      <td>1.00</td>\n",
       "      <td>1.00</td>\n",
       "      <td>1.00</td>\n",
       "      <td>1.00</td>\n",
       "    </tr>\n",
       "    <tr>\n",
       "      <th>mean</th>\n",
       "      <td>0.916</td>\n",
       "      <td>0.958</td>\n",
       "      <td>0.958</td>\n",
       "      <td>0.948</td>\n",
       "    </tr>\n",
       "  </tbody>\n",
       "</table>\n",
       "</div>"
      ],
      "text/plain": [
       "         DT    SVM     LR    KNN\n",
       "0      0.79   0.87   0.87   0.87\n",
       "1      0.85   0.92   0.92   0.90\n",
       "2      0.97   1.00   1.00   1.00\n",
       "3      0.97   1.00   1.00   0.97\n",
       "4      1.00   1.00   1.00   1.00\n",
       "mean  0.916  0.958  0.958  0.948"
      ]
     },
     "execution_count": 23,
     "metadata": {},
     "output_type": "execute_result"
    }
   ],
   "source": [
    "#aacuracy\n",
    "clf_report[1]"
   ]
  },
  {
   "cell_type": "code",
   "execution_count": null,
   "id": "overhead-nickel",
   "metadata": {},
   "outputs": [],
   "source": []
  }
 ],
 "metadata": {
  "kernelspec": {
   "display_name": "Python 3",
   "language": "python",
   "name": "python3"
  },
  "language_info": {
   "codemirror_mode": {
    "name": "ipython",
    "version": 3
   },
   "file_extension": ".py",
   "mimetype": "text/x-python",
   "name": "python",
   "nbconvert_exporter": "python",
   "pygments_lexer": "ipython3",
   "version": "3.7.9"
  }
 },
 "nbformat": 4,
 "nbformat_minor": 5
}
